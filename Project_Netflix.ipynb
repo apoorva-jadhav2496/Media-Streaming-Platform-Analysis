{
  "nbformat": 4,
  "nbformat_minor": 0,
  "metadata": {
    "colab": {
      "provenance": []
    },
    "kernelspec": {
      "name": "python3",
      "display_name": "Python 3"
    },
    "language_info": {
      "name": "python"
    }
  },
  "cells": [
    {
      "cell_type": "markdown",
      "source": [
        "# **NETFLIX CASE STUDY USING PYTHON LIBRARIES AND DATA VISUALIZATION**"
      ],
      "metadata": {
        "id": "CMjGYI6US6aJ"
      }
    },
    {
      "cell_type": "code",
      "execution_count": null,
      "metadata": {
        "colab": {
          "base_uri": "https://localhost:8080/",
          "height": 476
        },
        "id": "fWXkMaJTMvBx",
        "outputId": "70f3e802-7849-4d7d-9825-e4220298e705"
      },
      "outputs": [
        {
          "output_type": "stream",
          "name": "stdout",
          "text": [
            "Downloading...\n",
            "From: https://d2beiqkhq929f0.cloudfront.net/public_assets/assets/000/000/940/original/netflix.csv\n",
            "To: /content/netflix.csv\n",
            "\r  0% 0.00/3.40M [00:00<?, ?B/s]\r 46% 1.57M/3.40M [00:00<00:00, 14.7MB/s]\r100% 3.40M/3.40M [00:00<00:00, 26.6MB/s]\n"
          ]
        },
        {
          "output_type": "execute_result",
          "data": {
            "text/plain": [
              "  show_id     type                  title         director  \\\n",
              "0      s1    Movie   Dick Johnson Is Dead  Kirsten Johnson   \n",
              "1      s2  TV Show          Blood & Water              NaN   \n",
              "2      s3  TV Show              Ganglands  Julien Leclercq   \n",
              "3      s4  TV Show  Jailbirds New Orleans              NaN   \n",
              "4      s5  TV Show           Kota Factory              NaN   \n",
              "\n",
              "                                                cast        country  \\\n",
              "0                                                NaN  United States   \n",
              "1  Ama Qamata, Khosi Ngema, Gail Mabalane, Thaban...   South Africa   \n",
              "2  Sami Bouajila, Tracy Gotoas, Samuel Jouy, Nabi...            NaN   \n",
              "3                                                NaN            NaN   \n",
              "4  Mayur More, Jitendra Kumar, Ranjan Raj, Alam K...          India   \n",
              "\n",
              "           date_added  release_year rating   duration  \\\n",
              "0  September 25, 2021          2020  PG-13     90 min   \n",
              "1  September 24, 2021          2021  TV-MA  2 Seasons   \n",
              "2  September 24, 2021          2021  TV-MA   1 Season   \n",
              "3  September 24, 2021          2021  TV-MA   1 Season   \n",
              "4  September 24, 2021          2021  TV-MA  2 Seasons   \n",
              "\n",
              "                                           listed_in  \\\n",
              "0                                      Documentaries   \n",
              "1    International TV Shows, TV Dramas, TV Mysteries   \n",
              "2  Crime TV Shows, International TV Shows, TV Act...   \n",
              "3                             Docuseries, Reality TV   \n",
              "4  International TV Shows, Romantic TV Shows, TV ...   \n",
              "\n",
              "                                         description  \n",
              "0  As her father nears the end of his life, filmm...  \n",
              "1  After crossing paths at a party, a Cape Town t...  \n",
              "2  To protect his family from a powerful drug lor...  \n",
              "3  Feuds, flirtations and toilet talk go down amo...  \n",
              "4  In a city of coaching centers known to train I...  "
            ],
            "text/html": [
              "\n",
              "  <div id=\"df-92e8c710-eecb-4cfa-94b6-e9603729b336\">\n",
              "    <div class=\"colab-df-container\">\n",
              "      <div>\n",
              "<style scoped>\n",
              "    .dataframe tbody tr th:only-of-type {\n",
              "        vertical-align: middle;\n",
              "    }\n",
              "\n",
              "    .dataframe tbody tr th {\n",
              "        vertical-align: top;\n",
              "    }\n",
              "\n",
              "    .dataframe thead th {\n",
              "        text-align: right;\n",
              "    }\n",
              "</style>\n",
              "<table border=\"1\" class=\"dataframe\">\n",
              "  <thead>\n",
              "    <tr style=\"text-align: right;\">\n",
              "      <th></th>\n",
              "      <th>show_id</th>\n",
              "      <th>type</th>\n",
              "      <th>title</th>\n",
              "      <th>director</th>\n",
              "      <th>cast</th>\n",
              "      <th>country</th>\n",
              "      <th>date_added</th>\n",
              "      <th>release_year</th>\n",
              "      <th>rating</th>\n",
              "      <th>duration</th>\n",
              "      <th>listed_in</th>\n",
              "      <th>description</th>\n",
              "    </tr>\n",
              "  </thead>\n",
              "  <tbody>\n",
              "    <tr>\n",
              "      <th>0</th>\n",
              "      <td>s1</td>\n",
              "      <td>Movie</td>\n",
              "      <td>Dick Johnson Is Dead</td>\n",
              "      <td>Kirsten Johnson</td>\n",
              "      <td>NaN</td>\n",
              "      <td>United States</td>\n",
              "      <td>September 25, 2021</td>\n",
              "      <td>2020</td>\n",
              "      <td>PG-13</td>\n",
              "      <td>90 min</td>\n",
              "      <td>Documentaries</td>\n",
              "      <td>As her father nears the end of his life, filmm...</td>\n",
              "    </tr>\n",
              "    <tr>\n",
              "      <th>1</th>\n",
              "      <td>s2</td>\n",
              "      <td>TV Show</td>\n",
              "      <td>Blood &amp; Water</td>\n",
              "      <td>NaN</td>\n",
              "      <td>Ama Qamata, Khosi Ngema, Gail Mabalane, Thaban...</td>\n",
              "      <td>South Africa</td>\n",
              "      <td>September 24, 2021</td>\n",
              "      <td>2021</td>\n",
              "      <td>TV-MA</td>\n",
              "      <td>2 Seasons</td>\n",
              "      <td>International TV Shows, TV Dramas, TV Mysteries</td>\n",
              "      <td>After crossing paths at a party, a Cape Town t...</td>\n",
              "    </tr>\n",
              "    <tr>\n",
              "      <th>2</th>\n",
              "      <td>s3</td>\n",
              "      <td>TV Show</td>\n",
              "      <td>Ganglands</td>\n",
              "      <td>Julien Leclercq</td>\n",
              "      <td>Sami Bouajila, Tracy Gotoas, Samuel Jouy, Nabi...</td>\n",
              "      <td>NaN</td>\n",
              "      <td>September 24, 2021</td>\n",
              "      <td>2021</td>\n",
              "      <td>TV-MA</td>\n",
              "      <td>1 Season</td>\n",
              "      <td>Crime TV Shows, International TV Shows, TV Act...</td>\n",
              "      <td>To protect his family from a powerful drug lor...</td>\n",
              "    </tr>\n",
              "    <tr>\n",
              "      <th>3</th>\n",
              "      <td>s4</td>\n",
              "      <td>TV Show</td>\n",
              "      <td>Jailbirds New Orleans</td>\n",
              "      <td>NaN</td>\n",
              "      <td>NaN</td>\n",
              "      <td>NaN</td>\n",
              "      <td>September 24, 2021</td>\n",
              "      <td>2021</td>\n",
              "      <td>TV-MA</td>\n",
              "      <td>1 Season</td>\n",
              "      <td>Docuseries, Reality TV</td>\n",
              "      <td>Feuds, flirtations and toilet talk go down amo...</td>\n",
              "    </tr>\n",
              "    <tr>\n",
              "      <th>4</th>\n",
              "      <td>s5</td>\n",
              "      <td>TV Show</td>\n",
              "      <td>Kota Factory</td>\n",
              "      <td>NaN</td>\n",
              "      <td>Mayur More, Jitendra Kumar, Ranjan Raj, Alam K...</td>\n",
              "      <td>India</td>\n",
              "      <td>September 24, 2021</td>\n",
              "      <td>2021</td>\n",
              "      <td>TV-MA</td>\n",
              "      <td>2 Seasons</td>\n",
              "      <td>International TV Shows, Romantic TV Shows, TV ...</td>\n",
              "      <td>In a city of coaching centers known to train I...</td>\n",
              "    </tr>\n",
              "  </tbody>\n",
              "</table>\n",
              "</div>\n",
              "      <button class=\"colab-df-convert\" onclick=\"convertToInteractive('df-92e8c710-eecb-4cfa-94b6-e9603729b336')\"\n",
              "              title=\"Convert this dataframe to an interactive table.\"\n",
              "              style=\"display:none;\">\n",
              "        \n",
              "  <svg xmlns=\"http://www.w3.org/2000/svg\" height=\"24px\"viewBox=\"0 0 24 24\"\n",
              "       width=\"24px\">\n",
              "    <path d=\"M0 0h24v24H0V0z\" fill=\"none\"/>\n",
              "    <path d=\"M18.56 5.44l.94 2.06.94-2.06 2.06-.94-2.06-.94-.94-2.06-.94 2.06-2.06.94zm-11 1L8.5 8.5l.94-2.06 2.06-.94-2.06-.94L8.5 2.5l-.94 2.06-2.06.94zm10 10l.94 2.06.94-2.06 2.06-.94-2.06-.94-.94-2.06-.94 2.06-2.06.94z\"/><path d=\"M17.41 7.96l-1.37-1.37c-.4-.4-.92-.59-1.43-.59-.52 0-1.04.2-1.43.59L10.3 9.45l-7.72 7.72c-.78.78-.78 2.05 0 2.83L4 21.41c.39.39.9.59 1.41.59.51 0 1.02-.2 1.41-.59l7.78-7.78 2.81-2.81c.8-.78.8-2.07 0-2.86zM5.41 20L4 18.59l7.72-7.72 1.47 1.35L5.41 20z\"/>\n",
              "  </svg>\n",
              "      </button>\n",
              "      \n",
              "  <style>\n",
              "    .colab-df-container {\n",
              "      display:flex;\n",
              "      flex-wrap:wrap;\n",
              "      gap: 12px;\n",
              "    }\n",
              "\n",
              "    .colab-df-convert {\n",
              "      background-color: #E8F0FE;\n",
              "      border: none;\n",
              "      border-radius: 50%;\n",
              "      cursor: pointer;\n",
              "      display: none;\n",
              "      fill: #1967D2;\n",
              "      height: 32px;\n",
              "      padding: 0 0 0 0;\n",
              "      width: 32px;\n",
              "    }\n",
              "\n",
              "    .colab-df-convert:hover {\n",
              "      background-color: #E2EBFA;\n",
              "      box-shadow: 0px 1px 2px rgba(60, 64, 67, 0.3), 0px 1px 3px 1px rgba(60, 64, 67, 0.15);\n",
              "      fill: #174EA6;\n",
              "    }\n",
              "\n",
              "    [theme=dark] .colab-df-convert {\n",
              "      background-color: #3B4455;\n",
              "      fill: #D2E3FC;\n",
              "    }\n",
              "\n",
              "    [theme=dark] .colab-df-convert:hover {\n",
              "      background-color: #434B5C;\n",
              "      box-shadow: 0px 1px 3px 1px rgba(0, 0, 0, 0.15);\n",
              "      filter: drop-shadow(0px 1px 2px rgba(0, 0, 0, 0.3));\n",
              "      fill: #FFFFFF;\n",
              "    }\n",
              "  </style>\n",
              "\n",
              "      <script>\n",
              "        const buttonEl =\n",
              "          document.querySelector('#df-92e8c710-eecb-4cfa-94b6-e9603729b336 button.colab-df-convert');\n",
              "        buttonEl.style.display =\n",
              "          google.colab.kernel.accessAllowed ? 'block' : 'none';\n",
              "\n",
              "        async function convertToInteractive(key) {\n",
              "          const element = document.querySelector('#df-92e8c710-eecb-4cfa-94b6-e9603729b336');\n",
              "          const dataTable =\n",
              "            await google.colab.kernel.invokeFunction('convertToInteractive',\n",
              "                                                     [key], {});\n",
              "          if (!dataTable) return;\n",
              "\n",
              "          const docLinkHtml = 'Like what you see? Visit the ' +\n",
              "            '<a target=\"_blank\" href=https://colab.research.google.com/notebooks/data_table.ipynb>data table notebook</a>'\n",
              "            + ' to learn more about interactive tables.';\n",
              "          element.innerHTML = '';\n",
              "          dataTable['output_type'] = 'display_data';\n",
              "          await google.colab.output.renderOutput(dataTable, element);\n",
              "          const docLink = document.createElement('div');\n",
              "          docLink.innerHTML = docLinkHtml;\n",
              "          element.appendChild(docLink);\n",
              "        }\n",
              "      </script>\n",
              "    </div>\n",
              "  </div>\n",
              "  "
            ]
          },
          "metadata": {},
          "execution_count": 72
        }
      ],
      "source": [
        "import numpy as np\n",
        "import pandas as pd\n",
        "import matplotlib.pyplot as plt\n",
        "import seaborn as sns\n",
        "\n",
        "!gdown https://d2beiqkhq929f0.cloudfront.net/public_assets/assets/000/000/940/original/netflix.csv\n",
        "\n",
        "df = pd.read_csv(\"netflix.csv\")\n",
        "df.head()"
      ]
    },
    {
      "cell_type": "markdown",
      "source": [
        "**Observations on the shape of data, data types of all the attributes, missing value detection**"
      ],
      "metadata": {
        "id": "BrogyjM_3i8K"
      }
    },
    {
      "cell_type": "code",
      "source": [
        "df.info()"
      ],
      "metadata": {
        "colab": {
          "base_uri": "https://localhost:8080/"
        },
        "id": "8z0YE2-sPsxj",
        "outputId": "41f78819-485e-4526-d0a2-3686bf9370a5"
      },
      "execution_count": null,
      "outputs": [
        {
          "output_type": "stream",
          "name": "stdout",
          "text": [
            "<class 'pandas.core.frame.DataFrame'>\n",
            "RangeIndex: 8807 entries, 0 to 8806\n",
            "Data columns (total 12 columns):\n",
            " #   Column        Non-Null Count  Dtype \n",
            "---  ------        --------------  ----- \n",
            " 0   show_id       8807 non-null   object\n",
            " 1   type          8807 non-null   object\n",
            " 2   title         8807 non-null   object\n",
            " 3   director      6173 non-null   object\n",
            " 4   cast          7982 non-null   object\n",
            " 5   country       7976 non-null   object\n",
            " 6   date_added    8797 non-null   object\n",
            " 7   release_year  8807 non-null   int64 \n",
            " 8   rating        8803 non-null   object\n",
            " 9   duration      8804 non-null   object\n",
            " 10  listed_in     8807 non-null   object\n",
            " 11  description   8807 non-null   object\n",
            "dtypes: int64(1), object(11)\n",
            "memory usage: 825.8+ KB\n"
          ]
        }
      ]
    },
    {
      "cell_type": "code",
      "source": [
        "df.shape"
      ],
      "metadata": {
        "colab": {
          "base_uri": "https://localhost:8080/"
        },
        "id": "UtIEHBIGP3e-",
        "outputId": "33f3dd92-de15-421d-847e-83739cf32454"
      },
      "execution_count": null,
      "outputs": [
        {
          "output_type": "execute_result",
          "data": {
            "text/plain": [
              "(8807, 12)"
            ]
          },
          "metadata": {},
          "execution_count": 74
        }
      ]
    },
    {
      "cell_type": "markdown",
      "source": [
        "The given file has 8807 enteries along with 12 features to each.\n",
        "Data types of all the features except release_year(type: int) is of type object.\n",
        "The columns director, cast, country, date_added, rating, duration have the missing values\n",
        "The statistical summary can be applied on type int column i.e release_year."
      ],
      "metadata": {
        "id": "2p7gBVxpSi_V"
      }
    },
    {
      "cell_type": "code",
      "source": [
        "df.describe()"
      ],
      "metadata": {
        "colab": {
          "base_uri": "https://localhost:8080/",
          "height": 300
        },
        "id": "GJ2IDaNvR8YJ",
        "outputId": "3f5d45c8-b0b9-4daf-ab51-7f36e666d77f"
      },
      "execution_count": null,
      "outputs": [
        {
          "output_type": "execute_result",
          "data": {
            "text/plain": [
              "       release_year\n",
              "count   8807.000000\n",
              "mean    2014.180198\n",
              "std        8.819312\n",
              "min     1925.000000\n",
              "25%     2013.000000\n",
              "50%     2017.000000\n",
              "75%     2019.000000\n",
              "max     2021.000000"
            ],
            "text/html": [
              "\n",
              "  <div id=\"df-ef1c6051-bde2-4e44-b05c-1f312aa0b732\">\n",
              "    <div class=\"colab-df-container\">\n",
              "      <div>\n",
              "<style scoped>\n",
              "    .dataframe tbody tr th:only-of-type {\n",
              "        vertical-align: middle;\n",
              "    }\n",
              "\n",
              "    .dataframe tbody tr th {\n",
              "        vertical-align: top;\n",
              "    }\n",
              "\n",
              "    .dataframe thead th {\n",
              "        text-align: right;\n",
              "    }\n",
              "</style>\n",
              "<table border=\"1\" class=\"dataframe\">\n",
              "  <thead>\n",
              "    <tr style=\"text-align: right;\">\n",
              "      <th></th>\n",
              "      <th>release_year</th>\n",
              "    </tr>\n",
              "  </thead>\n",
              "  <tbody>\n",
              "    <tr>\n",
              "      <th>count</th>\n",
              "      <td>8807.000000</td>\n",
              "    </tr>\n",
              "    <tr>\n",
              "      <th>mean</th>\n",
              "      <td>2014.180198</td>\n",
              "    </tr>\n",
              "    <tr>\n",
              "      <th>std</th>\n",
              "      <td>8.819312</td>\n",
              "    </tr>\n",
              "    <tr>\n",
              "      <th>min</th>\n",
              "      <td>1925.000000</td>\n",
              "    </tr>\n",
              "    <tr>\n",
              "      <th>25%</th>\n",
              "      <td>2013.000000</td>\n",
              "    </tr>\n",
              "    <tr>\n",
              "      <th>50%</th>\n",
              "      <td>2017.000000</td>\n",
              "    </tr>\n",
              "    <tr>\n",
              "      <th>75%</th>\n",
              "      <td>2019.000000</td>\n",
              "    </tr>\n",
              "    <tr>\n",
              "      <th>max</th>\n",
              "      <td>2021.000000</td>\n",
              "    </tr>\n",
              "  </tbody>\n",
              "</table>\n",
              "</div>\n",
              "      <button class=\"colab-df-convert\" onclick=\"convertToInteractive('df-ef1c6051-bde2-4e44-b05c-1f312aa0b732')\"\n",
              "              title=\"Convert this dataframe to an interactive table.\"\n",
              "              style=\"display:none;\">\n",
              "        \n",
              "  <svg xmlns=\"http://www.w3.org/2000/svg\" height=\"24px\"viewBox=\"0 0 24 24\"\n",
              "       width=\"24px\">\n",
              "    <path d=\"M0 0h24v24H0V0z\" fill=\"none\"/>\n",
              "    <path d=\"M18.56 5.44l.94 2.06.94-2.06 2.06-.94-2.06-.94-.94-2.06-.94 2.06-2.06.94zm-11 1L8.5 8.5l.94-2.06 2.06-.94-2.06-.94L8.5 2.5l-.94 2.06-2.06.94zm10 10l.94 2.06.94-2.06 2.06-.94-2.06-.94-.94-2.06-.94 2.06-2.06.94z\"/><path d=\"M17.41 7.96l-1.37-1.37c-.4-.4-.92-.59-1.43-.59-.52 0-1.04.2-1.43.59L10.3 9.45l-7.72 7.72c-.78.78-.78 2.05 0 2.83L4 21.41c.39.39.9.59 1.41.59.51 0 1.02-.2 1.41-.59l7.78-7.78 2.81-2.81c.8-.78.8-2.07 0-2.86zM5.41 20L4 18.59l7.72-7.72 1.47 1.35L5.41 20z\"/>\n",
              "  </svg>\n",
              "      </button>\n",
              "      \n",
              "  <style>\n",
              "    .colab-df-container {\n",
              "      display:flex;\n",
              "      flex-wrap:wrap;\n",
              "      gap: 12px;\n",
              "    }\n",
              "\n",
              "    .colab-df-convert {\n",
              "      background-color: #E8F0FE;\n",
              "      border: none;\n",
              "      border-radius: 50%;\n",
              "      cursor: pointer;\n",
              "      display: none;\n",
              "      fill: #1967D2;\n",
              "      height: 32px;\n",
              "      padding: 0 0 0 0;\n",
              "      width: 32px;\n",
              "    }\n",
              "\n",
              "    .colab-df-convert:hover {\n",
              "      background-color: #E2EBFA;\n",
              "      box-shadow: 0px 1px 2px rgba(60, 64, 67, 0.3), 0px 1px 3px 1px rgba(60, 64, 67, 0.15);\n",
              "      fill: #174EA6;\n",
              "    }\n",
              "\n",
              "    [theme=dark] .colab-df-convert {\n",
              "      background-color: #3B4455;\n",
              "      fill: #D2E3FC;\n",
              "    }\n",
              "\n",
              "    [theme=dark] .colab-df-convert:hover {\n",
              "      background-color: #434B5C;\n",
              "      box-shadow: 0px 1px 3px 1px rgba(0, 0, 0, 0.15);\n",
              "      filter: drop-shadow(0px 1px 2px rgba(0, 0, 0, 0.3));\n",
              "      fill: #FFFFFF;\n",
              "    }\n",
              "  </style>\n",
              "\n",
              "      <script>\n",
              "        const buttonEl =\n",
              "          document.querySelector('#df-ef1c6051-bde2-4e44-b05c-1f312aa0b732 button.colab-df-convert');\n",
              "        buttonEl.style.display =\n",
              "          google.colab.kernel.accessAllowed ? 'block' : 'none';\n",
              "\n",
              "        async function convertToInteractive(key) {\n",
              "          const element = document.querySelector('#df-ef1c6051-bde2-4e44-b05c-1f312aa0b732');\n",
              "          const dataTable =\n",
              "            await google.colab.kernel.invokeFunction('convertToInteractive',\n",
              "                                                     [key], {});\n",
              "          if (!dataTable) return;\n",
              "\n",
              "          const docLinkHtml = 'Like what you see? Visit the ' +\n",
              "            '<a target=\"_blank\" href=https://colab.research.google.com/notebooks/data_table.ipynb>data table notebook</a>'\n",
              "            + ' to learn more about interactive tables.';\n",
              "          element.innerHTML = '';\n",
              "          dataTable['output_type'] = 'display_data';\n",
              "          await google.colab.output.renderOutput(dataTable, element);\n",
              "          const docLink = document.createElement('div');\n",
              "          docLink.innerHTML = docLinkHtml;\n",
              "          element.appendChild(docLink);\n",
              "        }\n",
              "      </script>\n",
              "    </div>\n",
              "  </div>\n",
              "  "
            ]
          },
          "metadata": {},
          "execution_count": 75
        }
      ]
    },
    {
      "cell_type": "markdown",
      "source": [
        "From the above table we can observe that there a total of 8807 movies or tv shows and 2019 has 75% of the movies released.\n"
      ],
      "metadata": {
        "id": "eoLfTLZ8Uy8I"
      }
    },
    {
      "cell_type": "code",
      "source": [
        "np.sum(df.isnull() , axis = 0) # finding missing values"
      ],
      "metadata": {
        "colab": {
          "base_uri": "https://localhost:8080/"
        },
        "id": "cPbJ2uhWYocP",
        "outputId": "c761034c-132c-45ee-f5e5-1c5d434cf6f3"
      },
      "execution_count": null,
      "outputs": [
        {
          "output_type": "execute_result",
          "data": {
            "text/plain": [
              "show_id            0\n",
              "type               0\n",
              "title              0\n",
              "director        2634\n",
              "cast             825\n",
              "country          831\n",
              "date_added        10\n",
              "release_year       0\n",
              "rating             4\n",
              "duration           3\n",
              "listed_in          0\n",
              "description        0\n",
              "dtype: int64"
            ]
          },
          "metadata": {},
          "execution_count": 76
        }
      ]
    },
    {
      "cell_type": "markdown",
      "source": [
        "These missing values can be fixed using imputation by calculating the mode for director, cast and country. Date added can be filled with their respective released year.\n",
        "Drop Nan rows of rating, duration, country, director and cast after imputation"
      ],
      "metadata": {
        "id": "0ow6jepd5Yms"
      }
    },
    {
      "cell_type": "markdown",
      "source": [
        "**Drop NaN values from rating and duration**"
      ],
      "metadata": {
        "id": "a1ls8uLVWFMu"
      }
    },
    {
      "cell_type": "code",
      "source": [
        "df1 = df.dropna(subset = (\"rating\" , \"duration\"))\n",
        "df1.info()"
      ],
      "metadata": {
        "colab": {
          "base_uri": "https://localhost:8080/"
        },
        "id": "My89VOq-V3AC",
        "outputId": "16d4d388-5207-4acd-f538-941fce395652"
      },
      "execution_count": null,
      "outputs": [
        {
          "output_type": "stream",
          "name": "stdout",
          "text": [
            "<class 'pandas.core.frame.DataFrame'>\n",
            "Int64Index: 8800 entries, 0 to 8806\n",
            "Data columns (total 12 columns):\n",
            " #   Column        Non-Null Count  Dtype \n",
            "---  ------        --------------  ----- \n",
            " 0   show_id       8800 non-null   object\n",
            " 1   type          8800 non-null   object\n",
            " 2   title         8800 non-null   object\n",
            " 3   director      6169 non-null   object\n",
            " 4   cast          7975 non-null   object\n",
            " 5   country       7970 non-null   object\n",
            " 6   date_added    8790 non-null   object\n",
            " 7   release_year  8800 non-null   int64 \n",
            " 8   rating        8800 non-null   object\n",
            " 9   duration      8800 non-null   object\n",
            " 10  listed_in     8800 non-null   object\n",
            " 11  description   8800 non-null   object\n",
            "dtypes: int64(1), object(11)\n",
            "memory usage: 893.8+ KB\n"
          ]
        }
      ]
    },
    {
      "cell_type": "code",
      "source": [
        "#Getting those indices of rows where country, cast and director are Nan and then drop them\n",
        "null_df = df1[['country','cast','director']].isna()\n",
        "null_df = null_df[ (null_df['country']==True) & (null_df['cast']==True) & (null_df['director']==True) ]\n",
        "index_to_drop = null_df.index\n",
        "index_to_drop"
      ],
      "metadata": {
        "colab": {
          "base_uri": "https://localhost:8080/"
        },
        "id": "GDfdPMvPZjdZ",
        "outputId": "03b26f77-278a-4694-d394-97ef7c27b8ca"
      },
      "execution_count": null,
      "outputs": [
        {
          "output_type": "execute_result",
          "data": {
            "text/plain": [
              "Int64Index([   3,   10,   14,   74,  123,  147,  181,  218,  224,  234,  242,\n",
              "             320,  368,  369,  379,  404,  430,  465,  466,  490,  497,  549,\n",
              "             641,  653,  710,  738,  761,  842,  851,  852,  854,  925,  936,\n",
              "             957, 1005, 1038, 1056, 1094, 1095, 1116, 1224, 1225, 1723, 1828,\n",
              "            1889, 1890, 1952, 2101, 2152, 2222, 2236, 2335, 2394, 2425, 2432,\n",
              "            2495, 2568, 2569, 2699, 2893, 2982, 3393, 3394, 3395, 3396, 3397,\n",
              "            3469, 3539, 3592, 3789, 3837, 3953, 3987, 4015, 4056, 4199, 4250,\n",
              "            4372, 4627, 4637, 4654, 5291, 5799, 5870, 6389, 6618, 7017, 7222,\n",
              "            7438, 7483, 7624, 7812, 8109, 8199, 8609, 8803],\n",
              "           dtype='int64')"
            ]
          },
          "metadata": {},
          "execution_count": 78
        }
      ]
    },
    {
      "cell_type": "code",
      "source": [
        "df1 = df1.drop(index=index_to_drop)\n",
        "df1"
      ],
      "metadata": {
        "colab": {
          "base_uri": "https://localhost:8080/",
          "height": 850
        },
        "id": "2rx3bO6gaWRY",
        "outputId": "790cb0b9-2084-4810-e329-f52224e7c435"
      },
      "execution_count": null,
      "outputs": [
        {
          "output_type": "execute_result",
          "data": {
            "text/plain": [
              "     show_id     type                 title         director  \\\n",
              "0         s1    Movie  Dick Johnson Is Dead  Kirsten Johnson   \n",
              "1         s2  TV Show         Blood & Water              NaN   \n",
              "2         s3  TV Show             Ganglands  Julien Leclercq   \n",
              "4         s5  TV Show          Kota Factory              NaN   \n",
              "5         s6  TV Show         Midnight Mass    Mike Flanagan   \n",
              "...      ...      ...                   ...              ...   \n",
              "8801   s8802    Movie               Zinzana  Majid Al Ansari   \n",
              "8802   s8803    Movie                Zodiac    David Fincher   \n",
              "8804   s8805    Movie            Zombieland  Ruben Fleischer   \n",
              "8805   s8806    Movie                  Zoom     Peter Hewitt   \n",
              "8806   s8807    Movie                Zubaan      Mozez Singh   \n",
              "\n",
              "                                                   cast  \\\n",
              "0                                                   NaN   \n",
              "1     Ama Qamata, Khosi Ngema, Gail Mabalane, Thaban...   \n",
              "2     Sami Bouajila, Tracy Gotoas, Samuel Jouy, Nabi...   \n",
              "4     Mayur More, Jitendra Kumar, Ranjan Raj, Alam K...   \n",
              "5     Kate Siegel, Zach Gilford, Hamish Linklater, H...   \n",
              "...                                                 ...   \n",
              "8801  Ali Suliman, Saleh Bakri, Yasa, Ali Al-Jabri, ...   \n",
              "8802  Mark Ruffalo, Jake Gyllenhaal, Robert Downey J...   \n",
              "8804  Jesse Eisenberg, Woody Harrelson, Emma Stone, ...   \n",
              "8805  Tim Allen, Courteney Cox, Chevy Chase, Kate Ma...   \n",
              "8806  Vicky Kaushal, Sarah-Jane Dias, Raaghav Chanan...   \n",
              "\n",
              "                           country          date_added  release_year rating  \\\n",
              "0                    United States  September 25, 2021          2020  PG-13   \n",
              "1                     South Africa  September 24, 2021          2021  TV-MA   \n",
              "2                              NaN  September 24, 2021          2021  TV-MA   \n",
              "4                            India  September 24, 2021          2021  TV-MA   \n",
              "5                              NaN  September 24, 2021          2021  TV-MA   \n",
              "...                            ...                 ...           ...    ...   \n",
              "8801  United Arab Emirates, Jordan       March 9, 2016          2015  TV-MA   \n",
              "8802                 United States   November 20, 2019          2007      R   \n",
              "8804                 United States    November 1, 2019          2009      R   \n",
              "8805                 United States    January 11, 2020          2006     PG   \n",
              "8806                         India       March 2, 2019          2015  TV-14   \n",
              "\n",
              "       duration                                          listed_in  \\\n",
              "0        90 min                                      Documentaries   \n",
              "1     2 Seasons    International TV Shows, TV Dramas, TV Mysteries   \n",
              "2      1 Season  Crime TV Shows, International TV Shows, TV Act...   \n",
              "4     2 Seasons  International TV Shows, Romantic TV Shows, TV ...   \n",
              "5      1 Season                 TV Dramas, TV Horror, TV Mysteries   \n",
              "...         ...                                                ...   \n",
              "8801     96 min            Dramas, International Movies, Thrillers   \n",
              "8802    158 min                     Cult Movies, Dramas, Thrillers   \n",
              "8804     88 min                            Comedies, Horror Movies   \n",
              "8805     88 min                 Children & Family Movies, Comedies   \n",
              "8806    111 min     Dramas, International Movies, Music & Musicals   \n",
              "\n",
              "                                            description  \n",
              "0     As her father nears the end of his life, filmm...  \n",
              "1     After crossing paths at a party, a Cape Town t...  \n",
              "2     To protect his family from a powerful drug lor...  \n",
              "4     In a city of coaching centers known to train I...  \n",
              "5     The arrival of a charismatic young priest brin...  \n",
              "...                                                 ...  \n",
              "8801  Recovering alcoholic Talal wakes up inside a s...  \n",
              "8802  A political cartoonist, a crime reporter and a...  \n",
              "8804  Looking to survive in a world taken over by zo...  \n",
              "8805  Dragged from civilian life, a former superhero...  \n",
              "8806  A scrappy but poor boy worms his way into a ty...  \n",
              "\n",
              "[8704 rows x 12 columns]"
            ],
            "text/html": [
              "\n",
              "  <div id=\"df-29acb449-156f-4407-89cd-202c22698d38\">\n",
              "    <div class=\"colab-df-container\">\n",
              "      <div>\n",
              "<style scoped>\n",
              "    .dataframe tbody tr th:only-of-type {\n",
              "        vertical-align: middle;\n",
              "    }\n",
              "\n",
              "    .dataframe tbody tr th {\n",
              "        vertical-align: top;\n",
              "    }\n",
              "\n",
              "    .dataframe thead th {\n",
              "        text-align: right;\n",
              "    }\n",
              "</style>\n",
              "<table border=\"1\" class=\"dataframe\">\n",
              "  <thead>\n",
              "    <tr style=\"text-align: right;\">\n",
              "      <th></th>\n",
              "      <th>show_id</th>\n",
              "      <th>type</th>\n",
              "      <th>title</th>\n",
              "      <th>director</th>\n",
              "      <th>cast</th>\n",
              "      <th>country</th>\n",
              "      <th>date_added</th>\n",
              "      <th>release_year</th>\n",
              "      <th>rating</th>\n",
              "      <th>duration</th>\n",
              "      <th>listed_in</th>\n",
              "      <th>description</th>\n",
              "    </tr>\n",
              "  </thead>\n",
              "  <tbody>\n",
              "    <tr>\n",
              "      <th>0</th>\n",
              "      <td>s1</td>\n",
              "      <td>Movie</td>\n",
              "      <td>Dick Johnson Is Dead</td>\n",
              "      <td>Kirsten Johnson</td>\n",
              "      <td>NaN</td>\n",
              "      <td>United States</td>\n",
              "      <td>September 25, 2021</td>\n",
              "      <td>2020</td>\n",
              "      <td>PG-13</td>\n",
              "      <td>90 min</td>\n",
              "      <td>Documentaries</td>\n",
              "      <td>As her father nears the end of his life, filmm...</td>\n",
              "    </tr>\n",
              "    <tr>\n",
              "      <th>1</th>\n",
              "      <td>s2</td>\n",
              "      <td>TV Show</td>\n",
              "      <td>Blood &amp; Water</td>\n",
              "      <td>NaN</td>\n",
              "      <td>Ama Qamata, Khosi Ngema, Gail Mabalane, Thaban...</td>\n",
              "      <td>South Africa</td>\n",
              "      <td>September 24, 2021</td>\n",
              "      <td>2021</td>\n",
              "      <td>TV-MA</td>\n",
              "      <td>2 Seasons</td>\n",
              "      <td>International TV Shows, TV Dramas, TV Mysteries</td>\n",
              "      <td>After crossing paths at a party, a Cape Town t...</td>\n",
              "    </tr>\n",
              "    <tr>\n",
              "      <th>2</th>\n",
              "      <td>s3</td>\n",
              "      <td>TV Show</td>\n",
              "      <td>Ganglands</td>\n",
              "      <td>Julien Leclercq</td>\n",
              "      <td>Sami Bouajila, Tracy Gotoas, Samuel Jouy, Nabi...</td>\n",
              "      <td>NaN</td>\n",
              "      <td>September 24, 2021</td>\n",
              "      <td>2021</td>\n",
              "      <td>TV-MA</td>\n",
              "      <td>1 Season</td>\n",
              "      <td>Crime TV Shows, International TV Shows, TV Act...</td>\n",
              "      <td>To protect his family from a powerful drug lor...</td>\n",
              "    </tr>\n",
              "    <tr>\n",
              "      <th>4</th>\n",
              "      <td>s5</td>\n",
              "      <td>TV Show</td>\n",
              "      <td>Kota Factory</td>\n",
              "      <td>NaN</td>\n",
              "      <td>Mayur More, Jitendra Kumar, Ranjan Raj, Alam K...</td>\n",
              "      <td>India</td>\n",
              "      <td>September 24, 2021</td>\n",
              "      <td>2021</td>\n",
              "      <td>TV-MA</td>\n",
              "      <td>2 Seasons</td>\n",
              "      <td>International TV Shows, Romantic TV Shows, TV ...</td>\n",
              "      <td>In a city of coaching centers known to train I...</td>\n",
              "    </tr>\n",
              "    <tr>\n",
              "      <th>5</th>\n",
              "      <td>s6</td>\n",
              "      <td>TV Show</td>\n",
              "      <td>Midnight Mass</td>\n",
              "      <td>Mike Flanagan</td>\n",
              "      <td>Kate Siegel, Zach Gilford, Hamish Linklater, H...</td>\n",
              "      <td>NaN</td>\n",
              "      <td>September 24, 2021</td>\n",
              "      <td>2021</td>\n",
              "      <td>TV-MA</td>\n",
              "      <td>1 Season</td>\n",
              "      <td>TV Dramas, TV Horror, TV Mysteries</td>\n",
              "      <td>The arrival of a charismatic young priest brin...</td>\n",
              "    </tr>\n",
              "    <tr>\n",
              "      <th>...</th>\n",
              "      <td>...</td>\n",
              "      <td>...</td>\n",
              "      <td>...</td>\n",
              "      <td>...</td>\n",
              "      <td>...</td>\n",
              "      <td>...</td>\n",
              "      <td>...</td>\n",
              "      <td>...</td>\n",
              "      <td>...</td>\n",
              "      <td>...</td>\n",
              "      <td>...</td>\n",
              "      <td>...</td>\n",
              "    </tr>\n",
              "    <tr>\n",
              "      <th>8801</th>\n",
              "      <td>s8802</td>\n",
              "      <td>Movie</td>\n",
              "      <td>Zinzana</td>\n",
              "      <td>Majid Al Ansari</td>\n",
              "      <td>Ali Suliman, Saleh Bakri, Yasa, Ali Al-Jabri, ...</td>\n",
              "      <td>United Arab Emirates, Jordan</td>\n",
              "      <td>March 9, 2016</td>\n",
              "      <td>2015</td>\n",
              "      <td>TV-MA</td>\n",
              "      <td>96 min</td>\n",
              "      <td>Dramas, International Movies, Thrillers</td>\n",
              "      <td>Recovering alcoholic Talal wakes up inside a s...</td>\n",
              "    </tr>\n",
              "    <tr>\n",
              "      <th>8802</th>\n",
              "      <td>s8803</td>\n",
              "      <td>Movie</td>\n",
              "      <td>Zodiac</td>\n",
              "      <td>David Fincher</td>\n",
              "      <td>Mark Ruffalo, Jake Gyllenhaal, Robert Downey J...</td>\n",
              "      <td>United States</td>\n",
              "      <td>November 20, 2019</td>\n",
              "      <td>2007</td>\n",
              "      <td>R</td>\n",
              "      <td>158 min</td>\n",
              "      <td>Cult Movies, Dramas, Thrillers</td>\n",
              "      <td>A political cartoonist, a crime reporter and a...</td>\n",
              "    </tr>\n",
              "    <tr>\n",
              "      <th>8804</th>\n",
              "      <td>s8805</td>\n",
              "      <td>Movie</td>\n",
              "      <td>Zombieland</td>\n",
              "      <td>Ruben Fleischer</td>\n",
              "      <td>Jesse Eisenberg, Woody Harrelson, Emma Stone, ...</td>\n",
              "      <td>United States</td>\n",
              "      <td>November 1, 2019</td>\n",
              "      <td>2009</td>\n",
              "      <td>R</td>\n",
              "      <td>88 min</td>\n",
              "      <td>Comedies, Horror Movies</td>\n",
              "      <td>Looking to survive in a world taken over by zo...</td>\n",
              "    </tr>\n",
              "    <tr>\n",
              "      <th>8805</th>\n",
              "      <td>s8806</td>\n",
              "      <td>Movie</td>\n",
              "      <td>Zoom</td>\n",
              "      <td>Peter Hewitt</td>\n",
              "      <td>Tim Allen, Courteney Cox, Chevy Chase, Kate Ma...</td>\n",
              "      <td>United States</td>\n",
              "      <td>January 11, 2020</td>\n",
              "      <td>2006</td>\n",
              "      <td>PG</td>\n",
              "      <td>88 min</td>\n",
              "      <td>Children &amp; Family Movies, Comedies</td>\n",
              "      <td>Dragged from civilian life, a former superhero...</td>\n",
              "    </tr>\n",
              "    <tr>\n",
              "      <th>8806</th>\n",
              "      <td>s8807</td>\n",
              "      <td>Movie</td>\n",
              "      <td>Zubaan</td>\n",
              "      <td>Mozez Singh</td>\n",
              "      <td>Vicky Kaushal, Sarah-Jane Dias, Raaghav Chanan...</td>\n",
              "      <td>India</td>\n",
              "      <td>March 2, 2019</td>\n",
              "      <td>2015</td>\n",
              "      <td>TV-14</td>\n",
              "      <td>111 min</td>\n",
              "      <td>Dramas, International Movies, Music &amp; Musicals</td>\n",
              "      <td>A scrappy but poor boy worms his way into a ty...</td>\n",
              "    </tr>\n",
              "  </tbody>\n",
              "</table>\n",
              "<p>8704 rows × 12 columns</p>\n",
              "</div>\n",
              "      <button class=\"colab-df-convert\" onclick=\"convertToInteractive('df-29acb449-156f-4407-89cd-202c22698d38')\"\n",
              "              title=\"Convert this dataframe to an interactive table.\"\n",
              "              style=\"display:none;\">\n",
              "        \n",
              "  <svg xmlns=\"http://www.w3.org/2000/svg\" height=\"24px\"viewBox=\"0 0 24 24\"\n",
              "       width=\"24px\">\n",
              "    <path d=\"M0 0h24v24H0V0z\" fill=\"none\"/>\n",
              "    <path d=\"M18.56 5.44l.94 2.06.94-2.06 2.06-.94-2.06-.94-.94-2.06-.94 2.06-2.06.94zm-11 1L8.5 8.5l.94-2.06 2.06-.94-2.06-.94L8.5 2.5l-.94 2.06-2.06.94zm10 10l.94 2.06.94-2.06 2.06-.94-2.06-.94-.94-2.06-.94 2.06-2.06.94z\"/><path d=\"M17.41 7.96l-1.37-1.37c-.4-.4-.92-.59-1.43-.59-.52 0-1.04.2-1.43.59L10.3 9.45l-7.72 7.72c-.78.78-.78 2.05 0 2.83L4 21.41c.39.39.9.59 1.41.59.51 0 1.02-.2 1.41-.59l7.78-7.78 2.81-2.81c.8-.78.8-2.07 0-2.86zM5.41 20L4 18.59l7.72-7.72 1.47 1.35L5.41 20z\"/>\n",
              "  </svg>\n",
              "      </button>\n",
              "      \n",
              "  <style>\n",
              "    .colab-df-container {\n",
              "      display:flex;\n",
              "      flex-wrap:wrap;\n",
              "      gap: 12px;\n",
              "    }\n",
              "\n",
              "    .colab-df-convert {\n",
              "      background-color: #E8F0FE;\n",
              "      border: none;\n",
              "      border-radius: 50%;\n",
              "      cursor: pointer;\n",
              "      display: none;\n",
              "      fill: #1967D2;\n",
              "      height: 32px;\n",
              "      padding: 0 0 0 0;\n",
              "      width: 32px;\n",
              "    }\n",
              "\n",
              "    .colab-df-convert:hover {\n",
              "      background-color: #E2EBFA;\n",
              "      box-shadow: 0px 1px 2px rgba(60, 64, 67, 0.3), 0px 1px 3px 1px rgba(60, 64, 67, 0.15);\n",
              "      fill: #174EA6;\n",
              "    }\n",
              "\n",
              "    [theme=dark] .colab-df-convert {\n",
              "      background-color: #3B4455;\n",
              "      fill: #D2E3FC;\n",
              "    }\n",
              "\n",
              "    [theme=dark] .colab-df-convert:hover {\n",
              "      background-color: #434B5C;\n",
              "      box-shadow: 0px 1px 3px 1px rgba(0, 0, 0, 0.15);\n",
              "      filter: drop-shadow(0px 1px 2px rgba(0, 0, 0, 0.3));\n",
              "      fill: #FFFFFF;\n",
              "    }\n",
              "  </style>\n",
              "\n",
              "      <script>\n",
              "        const buttonEl =\n",
              "          document.querySelector('#df-29acb449-156f-4407-89cd-202c22698d38 button.colab-df-convert');\n",
              "        buttonEl.style.display =\n",
              "          google.colab.kernel.accessAllowed ? 'block' : 'none';\n",
              "\n",
              "        async function convertToInteractive(key) {\n",
              "          const element = document.querySelector('#df-29acb449-156f-4407-89cd-202c22698d38');\n",
              "          const dataTable =\n",
              "            await google.colab.kernel.invokeFunction('convertToInteractive',\n",
              "                                                     [key], {});\n",
              "          if (!dataTable) return;\n",
              "\n",
              "          const docLinkHtml = 'Like what you see? Visit the ' +\n",
              "            '<a target=\"_blank\" href=https://colab.research.google.com/notebooks/data_table.ipynb>data table notebook</a>'\n",
              "            + ' to learn more about interactive tables.';\n",
              "          element.innerHTML = '';\n",
              "          dataTable['output_type'] = 'display_data';\n",
              "          await google.colab.output.renderOutput(dataTable, element);\n",
              "          const docLink = document.createElement('div');\n",
              "          docLink.innerHTML = docLinkHtml;\n",
              "          element.appendChild(docLink);\n",
              "        }\n",
              "      </script>\n",
              "    </div>\n",
              "  </div>\n",
              "  "
            ]
          },
          "metadata": {},
          "execution_count": 79
        }
      ]
    },
    {
      "cell_type": "markdown",
      "source": [
        "**Imputation for the column date_added using the corresponding value in release_year**\n"
      ],
      "metadata": {
        "id": "bhYiS3ICcPjX"
      }
    },
    {
      "cell_type": "code",
      "source": [
        "df1[\"date_added\"] = df1[\"date_added\"].fillna(df1[\"release_year\"])\n",
        "df1[\"date_added\"].isna().sum() # checks whether there are any missing value left"
      ],
      "metadata": {
        "colab": {
          "base_uri": "https://localhost:8080/"
        },
        "id": "twd2S9VWb5-v",
        "outputId": "ec9a9291-ac06-4192-98b5-02fd45320a82"
      },
      "execution_count": null,
      "outputs": [
        {
          "output_type": "execute_result",
          "data": {
            "text/plain": [
              "0"
            ]
          },
          "metadata": {},
          "execution_count": 80
        }
      ]
    },
    {
      "cell_type": "code",
      "source": [
        "df1.info()"
      ],
      "metadata": {
        "colab": {
          "base_uri": "https://localhost:8080/"
        },
        "id": "ASPDGDzZcz6Y",
        "outputId": "5aa97624-20ac-4de6-99e9-758fe7c4e3e0"
      },
      "execution_count": null,
      "outputs": [
        {
          "output_type": "stream",
          "name": "stdout",
          "text": [
            "<class 'pandas.core.frame.DataFrame'>\n",
            "Int64Index: 8704 entries, 0 to 8806\n",
            "Data columns (total 12 columns):\n",
            " #   Column        Non-Null Count  Dtype \n",
            "---  ------        --------------  ----- \n",
            " 0   show_id       8704 non-null   object\n",
            " 1   type          8704 non-null   object\n",
            " 2   title         8704 non-null   object\n",
            " 3   director      6169 non-null   object\n",
            " 4   cast          7975 non-null   object\n",
            " 5   country       7970 non-null   object\n",
            " 6   date_added    8704 non-null   object\n",
            " 7   release_year  8704 non-null   int64 \n",
            " 8   rating        8704 non-null   object\n",
            " 9   duration      8704 non-null   object\n",
            " 10  listed_in     8704 non-null   object\n",
            " 11  description   8704 non-null   object\n",
            "dtypes: int64(1), object(11)\n",
            "memory usage: 884.0+ KB\n"
          ]
        }
      ]
    },
    {
      "cell_type": "markdown",
      "source": [
        "**Imputation for the directors**\n"
      ],
      "metadata": {
        "id": "lAouz86DdWcC"
      }
    },
    {
      "cell_type": "code",
      "source": [
        "director_fill = df1.groupby(['type',\"listed_in\",\"country\"])['director'].apply(lambda x: x.mode())\n",
        "director_fill = director_fill.reset_index()\n",
        "director_fill"
      ],
      "metadata": {
        "colab": {
          "base_uri": "https://localhost:8080/",
          "height": 424
        },
        "id": "ZtkNu2L-dc79",
        "outputId": "b6af6ce7-7d31-464b-8641-0c8ace3a199e"
      },
      "execution_count": null,
      "outputs": [
        {
          "output_type": "execute_result",
          "data": {
            "text/plain": [
              "         type           listed_in                   country  level_3  \\\n",
              "0       Movie  Action & Adventure  Australia, United States        0   \n",
              "1       Movie  Action & Adventure   Bulgaria, United States        0   \n",
              "2       Movie  Action & Adventure                    Canada        0   \n",
              "3       Movie  Action & Adventure                    Canada        1   \n",
              "4       Movie  Action & Adventure                    Canada        2   \n",
              "...       ...                 ...                       ...      ...   \n",
              "3195  TV Show            TV Shows                     Japan        0   \n",
              "3196  TV Show            TV Shows              Saudi Arabia        0   \n",
              "3197  TV Show            TV Shows             United States        0   \n",
              "3198  TV Show            TV Shows             United States        1   \n",
              "3199  TV Show            TV Shows             United States        2   \n",
              "\n",
              "                                               director  \n",
              "0                                          Simon Wincer  \n",
              "1                                       Todor Chapkanov  \n",
              "2                                           Adam Alleca  \n",
              "3                                           Allan Ungar  \n",
              "4                                         Brett Donowho  \n",
              "...                                                 ...  \n",
              "3195                    Kobun Shizuno, Hiroyuki Seshita  \n",
              "3196  Ali Kalthami, Meshal Aljaser, Faris Godus, Moh...  \n",
              "3197                      Joe Berlinger, Bruce Sinofsky  \n",
              "3198  Oscar Micheaux, Spencer Williams, Richard E. N...  \n",
              "3199                      Steven Bognar, Julia Reichert  \n",
              "\n",
              "[3200 rows x 5 columns]"
            ],
            "text/html": [
              "\n",
              "  <div id=\"df-ec6d1701-ed2f-4d0b-b97e-befa5c9b0cec\">\n",
              "    <div class=\"colab-df-container\">\n",
              "      <div>\n",
              "<style scoped>\n",
              "    .dataframe tbody tr th:only-of-type {\n",
              "        vertical-align: middle;\n",
              "    }\n",
              "\n",
              "    .dataframe tbody tr th {\n",
              "        vertical-align: top;\n",
              "    }\n",
              "\n",
              "    .dataframe thead th {\n",
              "        text-align: right;\n",
              "    }\n",
              "</style>\n",
              "<table border=\"1\" class=\"dataframe\">\n",
              "  <thead>\n",
              "    <tr style=\"text-align: right;\">\n",
              "      <th></th>\n",
              "      <th>type</th>\n",
              "      <th>listed_in</th>\n",
              "      <th>country</th>\n",
              "      <th>level_3</th>\n",
              "      <th>director</th>\n",
              "    </tr>\n",
              "  </thead>\n",
              "  <tbody>\n",
              "    <tr>\n",
              "      <th>0</th>\n",
              "      <td>Movie</td>\n",
              "      <td>Action &amp; Adventure</td>\n",
              "      <td>Australia, United States</td>\n",
              "      <td>0</td>\n",
              "      <td>Simon Wincer</td>\n",
              "    </tr>\n",
              "    <tr>\n",
              "      <th>1</th>\n",
              "      <td>Movie</td>\n",
              "      <td>Action &amp; Adventure</td>\n",
              "      <td>Bulgaria, United States</td>\n",
              "      <td>0</td>\n",
              "      <td>Todor Chapkanov</td>\n",
              "    </tr>\n",
              "    <tr>\n",
              "      <th>2</th>\n",
              "      <td>Movie</td>\n",
              "      <td>Action &amp; Adventure</td>\n",
              "      <td>Canada</td>\n",
              "      <td>0</td>\n",
              "      <td>Adam Alleca</td>\n",
              "    </tr>\n",
              "    <tr>\n",
              "      <th>3</th>\n",
              "      <td>Movie</td>\n",
              "      <td>Action &amp; Adventure</td>\n",
              "      <td>Canada</td>\n",
              "      <td>1</td>\n",
              "      <td>Allan Ungar</td>\n",
              "    </tr>\n",
              "    <tr>\n",
              "      <th>4</th>\n",
              "      <td>Movie</td>\n",
              "      <td>Action &amp; Adventure</td>\n",
              "      <td>Canada</td>\n",
              "      <td>2</td>\n",
              "      <td>Brett Donowho</td>\n",
              "    </tr>\n",
              "    <tr>\n",
              "      <th>...</th>\n",
              "      <td>...</td>\n",
              "      <td>...</td>\n",
              "      <td>...</td>\n",
              "      <td>...</td>\n",
              "      <td>...</td>\n",
              "    </tr>\n",
              "    <tr>\n",
              "      <th>3195</th>\n",
              "      <td>TV Show</td>\n",
              "      <td>TV Shows</td>\n",
              "      <td>Japan</td>\n",
              "      <td>0</td>\n",
              "      <td>Kobun Shizuno, Hiroyuki Seshita</td>\n",
              "    </tr>\n",
              "    <tr>\n",
              "      <th>3196</th>\n",
              "      <td>TV Show</td>\n",
              "      <td>TV Shows</td>\n",
              "      <td>Saudi Arabia</td>\n",
              "      <td>0</td>\n",
              "      <td>Ali Kalthami, Meshal Aljaser, Faris Godus, Moh...</td>\n",
              "    </tr>\n",
              "    <tr>\n",
              "      <th>3197</th>\n",
              "      <td>TV Show</td>\n",
              "      <td>TV Shows</td>\n",
              "      <td>United States</td>\n",
              "      <td>0</td>\n",
              "      <td>Joe Berlinger, Bruce Sinofsky</td>\n",
              "    </tr>\n",
              "    <tr>\n",
              "      <th>3198</th>\n",
              "      <td>TV Show</td>\n",
              "      <td>TV Shows</td>\n",
              "      <td>United States</td>\n",
              "      <td>1</td>\n",
              "      <td>Oscar Micheaux, Spencer Williams, Richard E. N...</td>\n",
              "    </tr>\n",
              "    <tr>\n",
              "      <th>3199</th>\n",
              "      <td>TV Show</td>\n",
              "      <td>TV Shows</td>\n",
              "      <td>United States</td>\n",
              "      <td>2</td>\n",
              "      <td>Steven Bognar, Julia Reichert</td>\n",
              "    </tr>\n",
              "  </tbody>\n",
              "</table>\n",
              "<p>3200 rows × 5 columns</p>\n",
              "</div>\n",
              "      <button class=\"colab-df-convert\" onclick=\"convertToInteractive('df-ec6d1701-ed2f-4d0b-b97e-befa5c9b0cec')\"\n",
              "              title=\"Convert this dataframe to an interactive table.\"\n",
              "              style=\"display:none;\">\n",
              "        \n",
              "  <svg xmlns=\"http://www.w3.org/2000/svg\" height=\"24px\"viewBox=\"0 0 24 24\"\n",
              "       width=\"24px\">\n",
              "    <path d=\"M0 0h24v24H0V0z\" fill=\"none\"/>\n",
              "    <path d=\"M18.56 5.44l.94 2.06.94-2.06 2.06-.94-2.06-.94-.94-2.06-.94 2.06-2.06.94zm-11 1L8.5 8.5l.94-2.06 2.06-.94-2.06-.94L8.5 2.5l-.94 2.06-2.06.94zm10 10l.94 2.06.94-2.06 2.06-.94-2.06-.94-.94-2.06-.94 2.06-2.06.94z\"/><path d=\"M17.41 7.96l-1.37-1.37c-.4-.4-.92-.59-1.43-.59-.52 0-1.04.2-1.43.59L10.3 9.45l-7.72 7.72c-.78.78-.78 2.05 0 2.83L4 21.41c.39.39.9.59 1.41.59.51 0 1.02-.2 1.41-.59l7.78-7.78 2.81-2.81c.8-.78.8-2.07 0-2.86zM5.41 20L4 18.59l7.72-7.72 1.47 1.35L5.41 20z\"/>\n",
              "  </svg>\n",
              "      </button>\n",
              "      \n",
              "  <style>\n",
              "    .colab-df-container {\n",
              "      display:flex;\n",
              "      flex-wrap:wrap;\n",
              "      gap: 12px;\n",
              "    }\n",
              "\n",
              "    .colab-df-convert {\n",
              "      background-color: #E8F0FE;\n",
              "      border: none;\n",
              "      border-radius: 50%;\n",
              "      cursor: pointer;\n",
              "      display: none;\n",
              "      fill: #1967D2;\n",
              "      height: 32px;\n",
              "      padding: 0 0 0 0;\n",
              "      width: 32px;\n",
              "    }\n",
              "\n",
              "    .colab-df-convert:hover {\n",
              "      background-color: #E2EBFA;\n",
              "      box-shadow: 0px 1px 2px rgba(60, 64, 67, 0.3), 0px 1px 3px 1px rgba(60, 64, 67, 0.15);\n",
              "      fill: #174EA6;\n",
              "    }\n",
              "\n",
              "    [theme=dark] .colab-df-convert {\n",
              "      background-color: #3B4455;\n",
              "      fill: #D2E3FC;\n",
              "    }\n",
              "\n",
              "    [theme=dark] .colab-df-convert:hover {\n",
              "      background-color: #434B5C;\n",
              "      box-shadow: 0px 1px 3px 1px rgba(0, 0, 0, 0.15);\n",
              "      filter: drop-shadow(0px 1px 2px rgba(0, 0, 0, 0.3));\n",
              "      fill: #FFFFFF;\n",
              "    }\n",
              "  </style>\n",
              "\n",
              "      <script>\n",
              "        const buttonEl =\n",
              "          document.querySelector('#df-ec6d1701-ed2f-4d0b-b97e-befa5c9b0cec button.colab-df-convert');\n",
              "        buttonEl.style.display =\n",
              "          google.colab.kernel.accessAllowed ? 'block' : 'none';\n",
              "\n",
              "        async function convertToInteractive(key) {\n",
              "          const element = document.querySelector('#df-ec6d1701-ed2f-4d0b-b97e-befa5c9b0cec');\n",
              "          const dataTable =\n",
              "            await google.colab.kernel.invokeFunction('convertToInteractive',\n",
              "                                                     [key], {});\n",
              "          if (!dataTable) return;\n",
              "\n",
              "          const docLinkHtml = 'Like what you see? Visit the ' +\n",
              "            '<a target=\"_blank\" href=https://colab.research.google.com/notebooks/data_table.ipynb>data table notebook</a>'\n",
              "            + ' to learn more about interactive tables.';\n",
              "          element.innerHTML = '';\n",
              "          dataTable['output_type'] = 'display_data';\n",
              "          await google.colab.output.renderOutput(dataTable, element);\n",
              "          const docLink = document.createElement('div');\n",
              "          docLink.innerHTML = docLinkHtml;\n",
              "          element.appendChild(docLink);\n",
              "        }\n",
              "      </script>\n",
              "    </div>\n",
              "  </div>\n",
              "  "
            ]
          },
          "metadata": {},
          "execution_count": 82
        }
      ]
    },
    {
      "cell_type": "code",
      "source": [
        "# imputing director with mode\n",
        "df1 = df1.merge(director_fill, on = [\"type\",\"listed_in\",\"country\" ] , how = 'left')\n",
        "df1[\"director\"] = np.where(df1[\"director_x\"].isna(), df1[\"director_y\"], df1[\"director_x\"])\n",
        "df1 = df1[[\"show_id\",\"type\",\"title\",\"director\",\"cast\",\"country\",\"date_added\",\"release_year\",\"rating\",\"duration\",\"listed_in\",\"description\"]]\n",
        "df1\n",
        "\n",
        "df1 = df1.drop_duplicates( subset='show_id' )\n",
        "\n",
        "df2 = df1.merge(director_fill[['type',\"listed_in\",\"director\"]], on = [\"type\",\"listed_in\"] , how = 'left')\n",
        "df2[\"director\"] = np.where(df2[\"director_x\"].isna(), df2[\"director_y\"], df2[\"director_x\"])\n",
        "df2 = df2[[\"show_id\",\"type\",\"title\",\"director\",\"cast\",\"country\",\"date_added\",\"release_year\",\"rating\",\"duration\",\"listed_in\",\"description\"]]\n",
        "df2\n",
        "\n",
        "df2 = df2.drop_duplicates( subset='show_id' )\n",
        "\n",
        "df3 = df2.merge(director_fill[['type',\"director\"]], on = [\"type\"] , how = 'left')\n",
        "df3[\"director\"] = np.where(df3[\"director_x\"].isna(), df3[\"director_y\"], df3[\"director_x\"])\n",
        "df3 = df3[[\"show_id\",\"type\",\"title\",\"director\",\"cast\",\"country\",\"date_added\",\"release_year\",\"rating\",\"duration\",\"listed_in\",\"description\"]]\n",
        "df3\n",
        "\n",
        "df3 = df3.drop_duplicates(subset='show_id')\n",
        "\n",
        "df3.info()"
      ],
      "metadata": {
        "colab": {
          "base_uri": "https://localhost:8080/"
        },
        "id": "yTY58FQmft53",
        "outputId": "f5042609-e23c-48ce-a4bc-d131afdc4e5d"
      },
      "execution_count": null,
      "outputs": [
        {
          "output_type": "stream",
          "name": "stdout",
          "text": [
            "<class 'pandas.core.frame.DataFrame'>\n",
            "Int64Index: 8704 entries, 0 to 18958929\n",
            "Data columns (total 12 columns):\n",
            " #   Column        Non-Null Count  Dtype \n",
            "---  ------        --------------  ----- \n",
            " 0   show_id       8704 non-null   object\n",
            " 1   type          8704 non-null   object\n",
            " 2   title         8704 non-null   object\n",
            " 3   director      8704 non-null   object\n",
            " 4   cast          7975 non-null   object\n",
            " 5   country       7970 non-null   object\n",
            " 6   date_added    8704 non-null   object\n",
            " 7   release_year  8704 non-null   int64 \n",
            " 8   rating        8704 non-null   object\n",
            " 9   duration      8704 non-null   object\n",
            " 10  listed_in     8704 non-null   object\n",
            " 11  description   8704 non-null   object\n",
            "dtypes: int64(1), object(11)\n",
            "memory usage: 884.0+ KB\n"
          ]
        }
      ]
    },
    {
      "cell_type": "code",
      "source": [
        "df3[\"director\"].isna().sum()"
      ],
      "metadata": {
        "colab": {
          "base_uri": "https://localhost:8080/"
        },
        "id": "Jrl31yfYf5TH",
        "outputId": "aeb865bf-e751-492d-cb07-202a007753b1"
      },
      "execution_count": null,
      "outputs": [
        {
          "output_type": "execute_result",
          "data": {
            "text/plain": [
              "0"
            ]
          },
          "metadata": {},
          "execution_count": 84
        }
      ]
    },
    {
      "cell_type": "code",
      "source": [
        "df1=df3\n",
        "df2=df3"
      ],
      "metadata": {
        "id": "IIjXyaqPgAnz"
      },
      "execution_count": null,
      "outputs": []
    },
    {
      "cell_type": "markdown",
      "source": [
        "**Imputation of Cast**"
      ],
      "metadata": {
        "id": "vNnGuhF0gMO4"
      }
    },
    {
      "cell_type": "code",
      "source": [
        "cast_fill = df1.groupby(['type',\"listed_in\",\"country\"])['cast'].apply(lambda x: x.mode())\n",
        "cast_fill = cast_fill.reset_index()\n",
        "cast_fill"
      ],
      "metadata": {
        "colab": {
          "base_uri": "https://localhost:8080/",
          "height": 424
        },
        "id": "f59w8vqVgLK7",
        "outputId": "9f37dd53-1fe0-4716-9b27-f6a2a34be2b6"
      },
      "execution_count": null,
      "outputs": [
        {
          "output_type": "execute_result",
          "data": {
            "text/plain": [
              "         type           listed_in                   country  level_3  \\\n",
              "0       Movie  Action & Adventure  Australia, United States        0   \n",
              "1       Movie  Action & Adventure   Bulgaria, United States        0   \n",
              "2       Movie  Action & Adventure                    Canada        0   \n",
              "3       Movie  Action & Adventure                    Canada        1   \n",
              "4       Movie  Action & Adventure                    Canada        2   \n",
              "...       ...                 ...                       ...      ...   \n",
              "6470  TV Show            TV Shows                     India        0   \n",
              "6471  TV Show            TV Shows                     India        1   \n",
              "6472  TV Show            TV Shows                     Japan        0   \n",
              "6473  TV Show            TV Shows              Saudi Arabia        0   \n",
              "6474  TV Show            TV Shows             United States        0   \n",
              "\n",
              "                                                   cast  \n",
              "0     Tom Selleck, Laura San Giacomo, Alan Rickman, ...  \n",
              "1     Scott Adkins, Teodora Duhovnikova, Alon Aboutb...  \n",
              "2     Cole Hauser, Bruce Willis, Shawn Ashmore, Asht...  \n",
              "3     Dominic Purcell, Cody Hackman, Stephen Lang, T...  \n",
              "4     Jason Momoa, Garret Dillahunt, Jill Wagner, St...  \n",
              "...                                                 ...  \n",
              "6470  Rahman, Havish, Regina Cassandra, Nandita Swet...  \n",
              "6471  Suriya, Vijay Sethupathi, Revathy, Prakash Raj...  \n",
              "6472  Mamoru Miyano, Takahiro Sakurai, Kana Hanazawa...  \n",
              "6473  Moayad Alnefaie, Mohammed Alhamdan, Citi Bet B...  \n",
              "6474  James Hetfield, Lars Ulrich, Kirk Hammett, Rob...  \n",
              "\n",
              "[6475 rows x 5 columns]"
            ],
            "text/html": [
              "\n",
              "  <div id=\"df-ba97910f-c5a7-4df3-a9a4-da3662b21776\">\n",
              "    <div class=\"colab-df-container\">\n",
              "      <div>\n",
              "<style scoped>\n",
              "    .dataframe tbody tr th:only-of-type {\n",
              "        vertical-align: middle;\n",
              "    }\n",
              "\n",
              "    .dataframe tbody tr th {\n",
              "        vertical-align: top;\n",
              "    }\n",
              "\n",
              "    .dataframe thead th {\n",
              "        text-align: right;\n",
              "    }\n",
              "</style>\n",
              "<table border=\"1\" class=\"dataframe\">\n",
              "  <thead>\n",
              "    <tr style=\"text-align: right;\">\n",
              "      <th></th>\n",
              "      <th>type</th>\n",
              "      <th>listed_in</th>\n",
              "      <th>country</th>\n",
              "      <th>level_3</th>\n",
              "      <th>cast</th>\n",
              "    </tr>\n",
              "  </thead>\n",
              "  <tbody>\n",
              "    <tr>\n",
              "      <th>0</th>\n",
              "      <td>Movie</td>\n",
              "      <td>Action &amp; Adventure</td>\n",
              "      <td>Australia, United States</td>\n",
              "      <td>0</td>\n",
              "      <td>Tom Selleck, Laura San Giacomo, Alan Rickman, ...</td>\n",
              "    </tr>\n",
              "    <tr>\n",
              "      <th>1</th>\n",
              "      <td>Movie</td>\n",
              "      <td>Action &amp; Adventure</td>\n",
              "      <td>Bulgaria, United States</td>\n",
              "      <td>0</td>\n",
              "      <td>Scott Adkins, Teodora Duhovnikova, Alon Aboutb...</td>\n",
              "    </tr>\n",
              "    <tr>\n",
              "      <th>2</th>\n",
              "      <td>Movie</td>\n",
              "      <td>Action &amp; Adventure</td>\n",
              "      <td>Canada</td>\n",
              "      <td>0</td>\n",
              "      <td>Cole Hauser, Bruce Willis, Shawn Ashmore, Asht...</td>\n",
              "    </tr>\n",
              "    <tr>\n",
              "      <th>3</th>\n",
              "      <td>Movie</td>\n",
              "      <td>Action &amp; Adventure</td>\n",
              "      <td>Canada</td>\n",
              "      <td>1</td>\n",
              "      <td>Dominic Purcell, Cody Hackman, Stephen Lang, T...</td>\n",
              "    </tr>\n",
              "    <tr>\n",
              "      <th>4</th>\n",
              "      <td>Movie</td>\n",
              "      <td>Action &amp; Adventure</td>\n",
              "      <td>Canada</td>\n",
              "      <td>2</td>\n",
              "      <td>Jason Momoa, Garret Dillahunt, Jill Wagner, St...</td>\n",
              "    </tr>\n",
              "    <tr>\n",
              "      <th>...</th>\n",
              "      <td>...</td>\n",
              "      <td>...</td>\n",
              "      <td>...</td>\n",
              "      <td>...</td>\n",
              "      <td>...</td>\n",
              "    </tr>\n",
              "    <tr>\n",
              "      <th>6470</th>\n",
              "      <td>TV Show</td>\n",
              "      <td>TV Shows</td>\n",
              "      <td>India</td>\n",
              "      <td>0</td>\n",
              "      <td>Rahman, Havish, Regina Cassandra, Nandita Swet...</td>\n",
              "    </tr>\n",
              "    <tr>\n",
              "      <th>6471</th>\n",
              "      <td>TV Show</td>\n",
              "      <td>TV Shows</td>\n",
              "      <td>India</td>\n",
              "      <td>1</td>\n",
              "      <td>Suriya, Vijay Sethupathi, Revathy, Prakash Raj...</td>\n",
              "    </tr>\n",
              "    <tr>\n",
              "      <th>6472</th>\n",
              "      <td>TV Show</td>\n",
              "      <td>TV Shows</td>\n",
              "      <td>Japan</td>\n",
              "      <td>0</td>\n",
              "      <td>Mamoru Miyano, Takahiro Sakurai, Kana Hanazawa...</td>\n",
              "    </tr>\n",
              "    <tr>\n",
              "      <th>6473</th>\n",
              "      <td>TV Show</td>\n",
              "      <td>TV Shows</td>\n",
              "      <td>Saudi Arabia</td>\n",
              "      <td>0</td>\n",
              "      <td>Moayad Alnefaie, Mohammed Alhamdan, Citi Bet B...</td>\n",
              "    </tr>\n",
              "    <tr>\n",
              "      <th>6474</th>\n",
              "      <td>TV Show</td>\n",
              "      <td>TV Shows</td>\n",
              "      <td>United States</td>\n",
              "      <td>0</td>\n",
              "      <td>James Hetfield, Lars Ulrich, Kirk Hammett, Rob...</td>\n",
              "    </tr>\n",
              "  </tbody>\n",
              "</table>\n",
              "<p>6475 rows × 5 columns</p>\n",
              "</div>\n",
              "      <button class=\"colab-df-convert\" onclick=\"convertToInteractive('df-ba97910f-c5a7-4df3-a9a4-da3662b21776')\"\n",
              "              title=\"Convert this dataframe to an interactive table.\"\n",
              "              style=\"display:none;\">\n",
              "        \n",
              "  <svg xmlns=\"http://www.w3.org/2000/svg\" height=\"24px\"viewBox=\"0 0 24 24\"\n",
              "       width=\"24px\">\n",
              "    <path d=\"M0 0h24v24H0V0z\" fill=\"none\"/>\n",
              "    <path d=\"M18.56 5.44l.94 2.06.94-2.06 2.06-.94-2.06-.94-.94-2.06-.94 2.06-2.06.94zm-11 1L8.5 8.5l.94-2.06 2.06-.94-2.06-.94L8.5 2.5l-.94 2.06-2.06.94zm10 10l.94 2.06.94-2.06 2.06-.94-2.06-.94-.94-2.06-.94 2.06-2.06.94z\"/><path d=\"M17.41 7.96l-1.37-1.37c-.4-.4-.92-.59-1.43-.59-.52 0-1.04.2-1.43.59L10.3 9.45l-7.72 7.72c-.78.78-.78 2.05 0 2.83L4 21.41c.39.39.9.59 1.41.59.51 0 1.02-.2 1.41-.59l7.78-7.78 2.81-2.81c.8-.78.8-2.07 0-2.86zM5.41 20L4 18.59l7.72-7.72 1.47 1.35L5.41 20z\"/>\n",
              "  </svg>\n",
              "      </button>\n",
              "      \n",
              "  <style>\n",
              "    .colab-df-container {\n",
              "      display:flex;\n",
              "      flex-wrap:wrap;\n",
              "      gap: 12px;\n",
              "    }\n",
              "\n",
              "    .colab-df-convert {\n",
              "      background-color: #E8F0FE;\n",
              "      border: none;\n",
              "      border-radius: 50%;\n",
              "      cursor: pointer;\n",
              "      display: none;\n",
              "      fill: #1967D2;\n",
              "      height: 32px;\n",
              "      padding: 0 0 0 0;\n",
              "      width: 32px;\n",
              "    }\n",
              "\n",
              "    .colab-df-convert:hover {\n",
              "      background-color: #E2EBFA;\n",
              "      box-shadow: 0px 1px 2px rgba(60, 64, 67, 0.3), 0px 1px 3px 1px rgba(60, 64, 67, 0.15);\n",
              "      fill: #174EA6;\n",
              "    }\n",
              "\n",
              "    [theme=dark] .colab-df-convert {\n",
              "      background-color: #3B4455;\n",
              "      fill: #D2E3FC;\n",
              "    }\n",
              "\n",
              "    [theme=dark] .colab-df-convert:hover {\n",
              "      background-color: #434B5C;\n",
              "      box-shadow: 0px 1px 3px 1px rgba(0, 0, 0, 0.15);\n",
              "      filter: drop-shadow(0px 1px 2px rgba(0, 0, 0, 0.3));\n",
              "      fill: #FFFFFF;\n",
              "    }\n",
              "  </style>\n",
              "\n",
              "      <script>\n",
              "        const buttonEl =\n",
              "          document.querySelector('#df-ba97910f-c5a7-4df3-a9a4-da3662b21776 button.colab-df-convert');\n",
              "        buttonEl.style.display =\n",
              "          google.colab.kernel.accessAllowed ? 'block' : 'none';\n",
              "\n",
              "        async function convertToInteractive(key) {\n",
              "          const element = document.querySelector('#df-ba97910f-c5a7-4df3-a9a4-da3662b21776');\n",
              "          const dataTable =\n",
              "            await google.colab.kernel.invokeFunction('convertToInteractive',\n",
              "                                                     [key], {});\n",
              "          if (!dataTable) return;\n",
              "\n",
              "          const docLinkHtml = 'Like what you see? Visit the ' +\n",
              "            '<a target=\"_blank\" href=https://colab.research.google.com/notebooks/data_table.ipynb>data table notebook</a>'\n",
              "            + ' to learn more about interactive tables.';\n",
              "          element.innerHTML = '';\n",
              "          dataTable['output_type'] = 'display_data';\n",
              "          await google.colab.output.renderOutput(dataTable, element);\n",
              "          const docLink = document.createElement('div');\n",
              "          docLink.innerHTML = docLinkHtml;\n",
              "          element.appendChild(docLink);\n",
              "        }\n",
              "      </script>\n",
              "    </div>\n",
              "  </div>\n",
              "  "
            ]
          },
          "metadata": {},
          "execution_count": 86
        }
      ]
    },
    {
      "cell_type": "code",
      "source": [
        "df1 = df1.merge(cast_fill, on = [\"type\",\"listed_in\",\"country\" ] , how = 'left')\n",
        "df1[\"cast\"] = np.where(df1[\"cast_x\"].isna(), df1[\"cast_y\"], df1[\"cast_x\"])\n",
        "df1 = df1[[\"show_id\",\"type\",\"title\",\"director\",\"cast\",\"country\",\"date_added\",\"release_year\",\"rating\",\"duration\",\"listed_in\",\"description\"]]\n",
        "df1\n",
        "\n",
        "df1 = df1.drop_duplicates( subset='show_id' )\n",
        "\n",
        "df2 = df1.merge(cast_fill[['type',\"listed_in\",\"cast\"]], on = [\"type\",\"listed_in\"] , how = 'left')\n",
        "df2[\"cast\"] = np.where(df2[\"cast_x\"].isna(), df2[\"cast_y\"], df2[\"cast_x\"])\n",
        "df2 = df2[[\"show_id\",\"type\",\"title\",\"director\",\"cast\",\"country\",\"date_added\",\"release_year\",\"rating\",\"duration\",\"listed_in\",\"description\"]]\n",
        "df2\n",
        "\n",
        "df2 = df2.drop_duplicates( subset='show_id' )\n",
        "\n",
        "df3 = df2.merge(cast_fill[['type',\"cast\"]], on = [\"type\"] , how = 'left')\n",
        "df3[\"cast\"] = np.where(df3[\"cast_x\"].isna(), df3[\"cast_y\"], df3[\"cast_x\"])\n",
        "df3 = df3[[\"show_id\",\"type\",\"title\",\"director\",\"cast\",\"country\",\"date_added\",\"release_year\",\"rating\",\"duration\",\"listed_in\",\"description\"]]\n",
        "df3\n",
        "\n",
        "df3 = df3.drop_duplicates(subset='show_id')\n",
        "\n",
        "df3.info()"
      ],
      "metadata": {
        "colab": {
          "base_uri": "https://localhost:8080/"
        },
        "id": "rM0Po4GjgYr_",
        "outputId": "7d48a68f-8fc0-4928-f7ac-86742027cb69"
      },
      "execution_count": null,
      "outputs": [
        {
          "output_type": "stream",
          "name": "stdout",
          "text": [
            "<class 'pandas.core.frame.DataFrame'>\n",
            "Int64Index: 8704 entries, 0 to 33369933\n",
            "Data columns (total 12 columns):\n",
            " #   Column        Non-Null Count  Dtype \n",
            "---  ------        --------------  ----- \n",
            " 0   show_id       8704 non-null   object\n",
            " 1   type          8704 non-null   object\n",
            " 2   title         8704 non-null   object\n",
            " 3   director      8704 non-null   object\n",
            " 4   cast          8704 non-null   object\n",
            " 5   country       7970 non-null   object\n",
            " 6   date_added    8704 non-null   object\n",
            " 7   release_year  8704 non-null   int64 \n",
            " 8   rating        8704 non-null   object\n",
            " 9   duration      8704 non-null   object\n",
            " 10  listed_in     8704 non-null   object\n",
            " 11  description   8704 non-null   object\n",
            "dtypes: int64(1), object(11)\n",
            "memory usage: 884.0+ KB\n"
          ]
        }
      ]
    },
    {
      "cell_type": "code",
      "source": [
        "df1=df3\n",
        "df2=df3"
      ],
      "metadata": {
        "id": "KibeER1hgo41"
      },
      "execution_count": null,
      "outputs": []
    },
    {
      "cell_type": "markdown",
      "source": [
        "**Imputation of Country**"
      ],
      "metadata": {
        "id": "gPQP113HgtMp"
      }
    },
    {
      "cell_type": "code",
      "source": [
        "country_fill = df1.groupby([\"cast\",\"director\"])['country'].apply(lambda x: x.mode())\n",
        "country_fill = country_fill.reset_index()\n",
        "country_fill"
      ],
      "metadata": {
        "colab": {
          "base_uri": "https://localhost:8080/",
          "height": 424
        },
        "id": "PRjgQTCMgxci",
        "outputId": "13386fbc-03e7-469e-bc5f-56e4828696e2"
      },
      "execution_count": null,
      "outputs": [
        {
          "output_type": "execute_result",
          "data": {
            "text/plain": [
              "                                                   cast  \\\n",
              "0     'Najite Dede, Jude Chukwuka, Taiwo Arimoro, Od...   \n",
              "1     4Minute, B1A4, BtoB, ELSIE, EXID, EXO, Got7, I...   \n",
              "2     50 Cent, Ryan Phillippe, Bruce Willis, Rory Ma...   \n",
              "3     A.J. LoCascio, Sendhil Ramamurthy, Fred Tatasc...   \n",
              "4                                           A.R. Rahman   \n",
              "...                                                 ...   \n",
              "7648  İbrahim Büyükak, Zeynep Koçak, Gupse Özay, Cen...   \n",
              "7649  İbrahim Çelikkol, Belçim Bilgin, Alican Yüceso...   \n",
              "7650  Şahin Irmak, İrem Sak, Gonca Vuslateri, Emre K...   \n",
              "7651  Şükrü Özyıldız, Aslı Enver, Şenay Gürler, Başa...   \n",
              "7652  Ṣọpẹ́ Dìrísù, Wunmi Mosaku, Matt Smith, Malaik...   \n",
              "\n",
              "                     director  level_2         country  \n",
              "0                   Jay Oliva        0         Nigeria  \n",
              "1                    Muh Chen        0     South Korea  \n",
              "2                Mike Gunther        0   United States  \n",
              "3            Michael D. Black        0   United States  \n",
              "4     Rudradeep Bhattacharjee        0           India  \n",
              "...                       ...      ...             ...  \n",
              "7648             Bedran Güzel        0          Turkey  \n",
              "7649           Ehtesham Uddin        0          Turkey  \n",
              "7650              Hakan Algül        0          Turkey  \n",
              "7651       Neslihan Yesilyurt        0          Turkey  \n",
              "7652              Remi Weekes        0  United Kingdom  \n",
              "\n",
              "[7653 rows x 4 columns]"
            ],
            "text/html": [
              "\n",
              "  <div id=\"df-50e75ea6-07de-4322-8a5a-bd275c25120a\">\n",
              "    <div class=\"colab-df-container\">\n",
              "      <div>\n",
              "<style scoped>\n",
              "    .dataframe tbody tr th:only-of-type {\n",
              "        vertical-align: middle;\n",
              "    }\n",
              "\n",
              "    .dataframe tbody tr th {\n",
              "        vertical-align: top;\n",
              "    }\n",
              "\n",
              "    .dataframe thead th {\n",
              "        text-align: right;\n",
              "    }\n",
              "</style>\n",
              "<table border=\"1\" class=\"dataframe\">\n",
              "  <thead>\n",
              "    <tr style=\"text-align: right;\">\n",
              "      <th></th>\n",
              "      <th>cast</th>\n",
              "      <th>director</th>\n",
              "      <th>level_2</th>\n",
              "      <th>country</th>\n",
              "    </tr>\n",
              "  </thead>\n",
              "  <tbody>\n",
              "    <tr>\n",
              "      <th>0</th>\n",
              "      <td>'Najite Dede, Jude Chukwuka, Taiwo Arimoro, Od...</td>\n",
              "      <td>Jay Oliva</td>\n",
              "      <td>0</td>\n",
              "      <td>Nigeria</td>\n",
              "    </tr>\n",
              "    <tr>\n",
              "      <th>1</th>\n",
              "      <td>4Minute, B1A4, BtoB, ELSIE, EXID, EXO, Got7, I...</td>\n",
              "      <td>Muh Chen</td>\n",
              "      <td>0</td>\n",
              "      <td>South Korea</td>\n",
              "    </tr>\n",
              "    <tr>\n",
              "      <th>2</th>\n",
              "      <td>50 Cent, Ryan Phillippe, Bruce Willis, Rory Ma...</td>\n",
              "      <td>Mike Gunther</td>\n",
              "      <td>0</td>\n",
              "      <td>United States</td>\n",
              "    </tr>\n",
              "    <tr>\n",
              "      <th>3</th>\n",
              "      <td>A.J. LoCascio, Sendhil Ramamurthy, Fred Tatasc...</td>\n",
              "      <td>Michael D. Black</td>\n",
              "      <td>0</td>\n",
              "      <td>United States</td>\n",
              "    </tr>\n",
              "    <tr>\n",
              "      <th>4</th>\n",
              "      <td>A.R. Rahman</td>\n",
              "      <td>Rudradeep Bhattacharjee</td>\n",
              "      <td>0</td>\n",
              "      <td>India</td>\n",
              "    </tr>\n",
              "    <tr>\n",
              "      <th>...</th>\n",
              "      <td>...</td>\n",
              "      <td>...</td>\n",
              "      <td>...</td>\n",
              "      <td>...</td>\n",
              "    </tr>\n",
              "    <tr>\n",
              "      <th>7648</th>\n",
              "      <td>İbrahim Büyükak, Zeynep Koçak, Gupse Özay, Cen...</td>\n",
              "      <td>Bedran Güzel</td>\n",
              "      <td>0</td>\n",
              "      <td>Turkey</td>\n",
              "    </tr>\n",
              "    <tr>\n",
              "      <th>7649</th>\n",
              "      <td>İbrahim Çelikkol, Belçim Bilgin, Alican Yüceso...</td>\n",
              "      <td>Ehtesham Uddin</td>\n",
              "      <td>0</td>\n",
              "      <td>Turkey</td>\n",
              "    </tr>\n",
              "    <tr>\n",
              "      <th>7650</th>\n",
              "      <td>Şahin Irmak, İrem Sak, Gonca Vuslateri, Emre K...</td>\n",
              "      <td>Hakan Algül</td>\n",
              "      <td>0</td>\n",
              "      <td>Turkey</td>\n",
              "    </tr>\n",
              "    <tr>\n",
              "      <th>7651</th>\n",
              "      <td>Şükrü Özyıldız, Aslı Enver, Şenay Gürler, Başa...</td>\n",
              "      <td>Neslihan Yesilyurt</td>\n",
              "      <td>0</td>\n",
              "      <td>Turkey</td>\n",
              "    </tr>\n",
              "    <tr>\n",
              "      <th>7652</th>\n",
              "      <td>Ṣọpẹ́ Dìrísù, Wunmi Mosaku, Matt Smith, Malaik...</td>\n",
              "      <td>Remi Weekes</td>\n",
              "      <td>0</td>\n",
              "      <td>United Kingdom</td>\n",
              "    </tr>\n",
              "  </tbody>\n",
              "</table>\n",
              "<p>7653 rows × 4 columns</p>\n",
              "</div>\n",
              "      <button class=\"colab-df-convert\" onclick=\"convertToInteractive('df-50e75ea6-07de-4322-8a5a-bd275c25120a')\"\n",
              "              title=\"Convert this dataframe to an interactive table.\"\n",
              "              style=\"display:none;\">\n",
              "        \n",
              "  <svg xmlns=\"http://www.w3.org/2000/svg\" height=\"24px\"viewBox=\"0 0 24 24\"\n",
              "       width=\"24px\">\n",
              "    <path d=\"M0 0h24v24H0V0z\" fill=\"none\"/>\n",
              "    <path d=\"M18.56 5.44l.94 2.06.94-2.06 2.06-.94-2.06-.94-.94-2.06-.94 2.06-2.06.94zm-11 1L8.5 8.5l.94-2.06 2.06-.94-2.06-.94L8.5 2.5l-.94 2.06-2.06.94zm10 10l.94 2.06.94-2.06 2.06-.94-2.06-.94-.94-2.06-.94 2.06-2.06.94z\"/><path d=\"M17.41 7.96l-1.37-1.37c-.4-.4-.92-.59-1.43-.59-.52 0-1.04.2-1.43.59L10.3 9.45l-7.72 7.72c-.78.78-.78 2.05 0 2.83L4 21.41c.39.39.9.59 1.41.59.51 0 1.02-.2 1.41-.59l7.78-7.78 2.81-2.81c.8-.78.8-2.07 0-2.86zM5.41 20L4 18.59l7.72-7.72 1.47 1.35L5.41 20z\"/>\n",
              "  </svg>\n",
              "      </button>\n",
              "      \n",
              "  <style>\n",
              "    .colab-df-container {\n",
              "      display:flex;\n",
              "      flex-wrap:wrap;\n",
              "      gap: 12px;\n",
              "    }\n",
              "\n",
              "    .colab-df-convert {\n",
              "      background-color: #E8F0FE;\n",
              "      border: none;\n",
              "      border-radius: 50%;\n",
              "      cursor: pointer;\n",
              "      display: none;\n",
              "      fill: #1967D2;\n",
              "      height: 32px;\n",
              "      padding: 0 0 0 0;\n",
              "      width: 32px;\n",
              "    }\n",
              "\n",
              "    .colab-df-convert:hover {\n",
              "      background-color: #E2EBFA;\n",
              "      box-shadow: 0px 1px 2px rgba(60, 64, 67, 0.3), 0px 1px 3px 1px rgba(60, 64, 67, 0.15);\n",
              "      fill: #174EA6;\n",
              "    }\n",
              "\n",
              "    [theme=dark] .colab-df-convert {\n",
              "      background-color: #3B4455;\n",
              "      fill: #D2E3FC;\n",
              "    }\n",
              "\n",
              "    [theme=dark] .colab-df-convert:hover {\n",
              "      background-color: #434B5C;\n",
              "      box-shadow: 0px 1px 3px 1px rgba(0, 0, 0, 0.15);\n",
              "      filter: drop-shadow(0px 1px 2px rgba(0, 0, 0, 0.3));\n",
              "      fill: #FFFFFF;\n",
              "    }\n",
              "  </style>\n",
              "\n",
              "      <script>\n",
              "        const buttonEl =\n",
              "          document.querySelector('#df-50e75ea6-07de-4322-8a5a-bd275c25120a button.colab-df-convert');\n",
              "        buttonEl.style.display =\n",
              "          google.colab.kernel.accessAllowed ? 'block' : 'none';\n",
              "\n",
              "        async function convertToInteractive(key) {\n",
              "          const element = document.querySelector('#df-50e75ea6-07de-4322-8a5a-bd275c25120a');\n",
              "          const dataTable =\n",
              "            await google.colab.kernel.invokeFunction('convertToInteractive',\n",
              "                                                     [key], {});\n",
              "          if (!dataTable) return;\n",
              "\n",
              "          const docLinkHtml = 'Like what you see? Visit the ' +\n",
              "            '<a target=\"_blank\" href=https://colab.research.google.com/notebooks/data_table.ipynb>data table notebook</a>'\n",
              "            + ' to learn more about interactive tables.';\n",
              "          element.innerHTML = '';\n",
              "          dataTable['output_type'] = 'display_data';\n",
              "          await google.colab.output.renderOutput(dataTable, element);\n",
              "          const docLink = document.createElement('div');\n",
              "          docLink.innerHTML = docLinkHtml;\n",
              "          element.appendChild(docLink);\n",
              "        }\n",
              "      </script>\n",
              "    </div>\n",
              "  </div>\n",
              "  "
            ]
          },
          "metadata": {},
          "execution_count": 89
        }
      ]
    },
    {
      "cell_type": "code",
      "source": [
        "df1 = df1.merge(country_fill, on = [\"cast\",\"director\"] , how = 'left')\n",
        "df1[\"country\"] = np.where(df1[\"country_x\"].isna(), df1[\"country_y\"], df1[\"country_x\"])\n",
        "df1 = df1[[\"show_id\",\"type\",\"title\",\"director\",\"cast\",\"country\",\"date_added\",\"release_year\",\"rating\",\"duration\",\"listed_in\",\"description\"]]\n",
        "df1\n",
        "\n",
        "df1 = df1.drop_duplicates( subset='show_id' )\n",
        "\n",
        "df2 = df1.merge(country_fill[[\"country\",\"cast\"]], on = [\"cast\"] , how = 'left')\n",
        "df2[\"country\"] = np.where(df2[\"country_x\"].isna(), df2[\"country_y\"], df2[\"country_x\"])\n",
        "df2 = df2[[\"show_id\",\"type\",\"title\",\"director\",\"cast\",\"country\",\"date_added\",\"release_year\",\"rating\",\"duration\",\"listed_in\",\"description\"]]\n",
        "df2\n",
        "\n",
        "df2 = df2.drop_duplicates( subset='show_id' )\n",
        "\n",
        "\n",
        "df2.info()"
      ],
      "metadata": {
        "colab": {
          "base_uri": "https://localhost:8080/"
        },
        "id": "EjFIQKCohEMO",
        "outputId": "d56479d4-24b6-4c7b-ba4e-9f602622e51a"
      },
      "execution_count": null,
      "outputs": [
        {
          "output_type": "stream",
          "name": "stdout",
          "text": [
            "<class 'pandas.core.frame.DataFrame'>\n",
            "Int64Index: 8704 entries, 0 to 33178\n",
            "Data columns (total 12 columns):\n",
            " #   Column        Non-Null Count  Dtype \n",
            "---  ------        --------------  ----- \n",
            " 0   show_id       8704 non-null   object\n",
            " 1   type          8704 non-null   object\n",
            " 2   title         8704 non-null   object\n",
            " 3   director      8704 non-null   object\n",
            " 4   cast          8704 non-null   object\n",
            " 5   country       8099 non-null   object\n",
            " 6   date_added    8704 non-null   object\n",
            " 7   release_year  8704 non-null   int64 \n",
            " 8   rating        8704 non-null   object\n",
            " 9   duration      8704 non-null   object\n",
            " 10  listed_in     8704 non-null   object\n",
            " 11  description   8704 non-null   object\n",
            "dtypes: int64(1), object(11)\n",
            "memory usage: 884.0+ KB\n"
          ]
        }
      ]
    },
    {
      "cell_type": "code",
      "source": [
        "m = df['country'].mode()[0] #United States appears the most therefore add United States in the missing rows of country\n",
        "df2[\"country\"] = df2['country'].fillna(m)\n",
        "df2.info()"
      ],
      "metadata": {
        "colab": {
          "base_uri": "https://localhost:8080/"
        },
        "id": "z-HgnscchljQ",
        "outputId": "8e90c775-0b97-49a7-880d-64f558071bb1"
      },
      "execution_count": null,
      "outputs": [
        {
          "output_type": "stream",
          "name": "stdout",
          "text": [
            "<class 'pandas.core.frame.DataFrame'>\n",
            "Int64Index: 8704 entries, 0 to 33178\n",
            "Data columns (total 12 columns):\n",
            " #   Column        Non-Null Count  Dtype \n",
            "---  ------        --------------  ----- \n",
            " 0   show_id       8704 non-null   object\n",
            " 1   type          8704 non-null   object\n",
            " 2   title         8704 non-null   object\n",
            " 3   director      8704 non-null   object\n",
            " 4   cast          8704 non-null   object\n",
            " 5   country       8704 non-null   object\n",
            " 6   date_added    8704 non-null   object\n",
            " 7   release_year  8704 non-null   int64 \n",
            " 8   rating        8704 non-null   object\n",
            " 9   duration      8704 non-null   object\n",
            " 10  listed_in     8704 non-null   object\n",
            " 11  description   8704 non-null   object\n",
            "dtypes: int64(1), object(11)\n",
            "memory usage: 884.0+ KB\n"
          ]
        }
      ]
    },
    {
      "cell_type": "code",
      "source": [
        "#check whether all the missing values are handled or not\n",
        "df2.isna().sum().sum()"
      ],
      "metadata": {
        "colab": {
          "base_uri": "https://localhost:8080/"
        },
        "id": "LTNtnYiFigKn",
        "outputId": "ebe77093-d8c4-4501-fa3b-e581107de775"
      },
      "execution_count": null,
      "outputs": [
        {
          "output_type": "execute_result",
          "data": {
            "text/plain": [
              "0"
            ]
          },
          "metadata": {},
          "execution_count": 92
        }
      ]
    },
    {
      "cell_type": "code",
      "source": [
        "#reset the index\n",
        "df2 = df2.reset_index(drop=True)\n",
        "df2"
      ],
      "metadata": {
        "colab": {
          "base_uri": "https://localhost:8080/",
          "height": 884
        },
        "id": "-pYiNfZyi1-y",
        "outputId": "cba15602-617c-4cab-f692-4bddf7f94595"
      },
      "execution_count": null,
      "outputs": [
        {
          "output_type": "execute_result",
          "data": {
            "text/plain": [
              "     show_id     type                 title            director  \\\n",
              "0         s1    Movie  Dick Johnson Is Dead     Kirsten Johnson   \n",
              "1         s2  TV Show         Blood & Water  Michel Tikhomiroff   \n",
              "2         s3  TV Show             Ganglands     Julien Leclercq   \n",
              "3         s5  TV Show          Kota Factory           BB Sasore   \n",
              "4         s6  TV Show         Midnight Mass       Mike Flanagan   \n",
              "...      ...      ...                   ...                 ...   \n",
              "8699   s8802    Movie               Zinzana     Majid Al Ansari   \n",
              "8700   s8803    Movie                Zodiac       David Fincher   \n",
              "8701   s8805    Movie            Zombieland     Ruben Fleischer   \n",
              "8702   s8806    Movie                  Zoom        Peter Hewitt   \n",
              "8703   s8807    Movie                Zubaan         Mozez Singh   \n",
              "\n",
              "                                                   cast  \\\n",
              "0                                         Craig Sechler   \n",
              "1     Ama Qamata, Khosi Ngema, Gail Mabalane, Thaban...   \n",
              "2     Sami Bouajila, Tracy Gotoas, Samuel Jouy, Nabi...   \n",
              "3     Mayur More, Jitendra Kumar, Ranjan Raj, Alam K...   \n",
              "4     Kate Siegel, Zach Gilford, Hamish Linklater, H...   \n",
              "...                                                 ...   \n",
              "8699  Ali Suliman, Saleh Bakri, Yasa, Ali Al-Jabri, ...   \n",
              "8700  Mark Ruffalo, Jake Gyllenhaal, Robert Downey J...   \n",
              "8701  Jesse Eisenberg, Woody Harrelson, Emma Stone, ...   \n",
              "8702  Tim Allen, Courteney Cox, Chevy Chase, Kate Ma...   \n",
              "8703  Vicky Kaushal, Sarah-Jane Dias, Raaghav Chanan...   \n",
              "\n",
              "                           country          date_added  release_year rating  \\\n",
              "0                    United States  September 25, 2021          2020  PG-13   \n",
              "1                     South Africa  September 24, 2021          2021  TV-MA   \n",
              "2                    United States  September 24, 2021          2021  TV-MA   \n",
              "3                            India  September 24, 2021          2021  TV-MA   \n",
              "4                    United States  September 24, 2021          2021  TV-MA   \n",
              "...                            ...                 ...           ...    ...   \n",
              "8699  United Arab Emirates, Jordan       March 9, 2016          2015  TV-MA   \n",
              "8700                 United States   November 20, 2019          2007      R   \n",
              "8701                 United States    November 1, 2019          2009      R   \n",
              "8702                 United States    January 11, 2020          2006     PG   \n",
              "8703                         India       March 2, 2019          2015  TV-14   \n",
              "\n",
              "       duration                                          listed_in  \\\n",
              "0        90 min                                      Documentaries   \n",
              "1     2 Seasons    International TV Shows, TV Dramas, TV Mysteries   \n",
              "2      1 Season  Crime TV Shows, International TV Shows, TV Act...   \n",
              "3     2 Seasons  International TV Shows, Romantic TV Shows, TV ...   \n",
              "4      1 Season                 TV Dramas, TV Horror, TV Mysteries   \n",
              "...         ...                                                ...   \n",
              "8699     96 min            Dramas, International Movies, Thrillers   \n",
              "8700    158 min                     Cult Movies, Dramas, Thrillers   \n",
              "8701     88 min                            Comedies, Horror Movies   \n",
              "8702     88 min                 Children & Family Movies, Comedies   \n",
              "8703    111 min     Dramas, International Movies, Music & Musicals   \n",
              "\n",
              "                                            description  \n",
              "0     As her father nears the end of his life, filmm...  \n",
              "1     After crossing paths at a party, a Cape Town t...  \n",
              "2     To protect his family from a powerful drug lor...  \n",
              "3     In a city of coaching centers known to train I...  \n",
              "4     The arrival of a charismatic young priest brin...  \n",
              "...                                                 ...  \n",
              "8699  Recovering alcoholic Talal wakes up inside a s...  \n",
              "8700  A political cartoonist, a crime reporter and a...  \n",
              "8701  Looking to survive in a world taken over by zo...  \n",
              "8702  Dragged from civilian life, a former superhero...  \n",
              "8703  A scrappy but poor boy worms his way into a ty...  \n",
              "\n",
              "[8704 rows x 12 columns]"
            ],
            "text/html": [
              "\n",
              "  <div id=\"df-077e5f1c-b631-41f5-8433-3de58d95c31c\">\n",
              "    <div class=\"colab-df-container\">\n",
              "      <div>\n",
              "<style scoped>\n",
              "    .dataframe tbody tr th:only-of-type {\n",
              "        vertical-align: middle;\n",
              "    }\n",
              "\n",
              "    .dataframe tbody tr th {\n",
              "        vertical-align: top;\n",
              "    }\n",
              "\n",
              "    .dataframe thead th {\n",
              "        text-align: right;\n",
              "    }\n",
              "</style>\n",
              "<table border=\"1\" class=\"dataframe\">\n",
              "  <thead>\n",
              "    <tr style=\"text-align: right;\">\n",
              "      <th></th>\n",
              "      <th>show_id</th>\n",
              "      <th>type</th>\n",
              "      <th>title</th>\n",
              "      <th>director</th>\n",
              "      <th>cast</th>\n",
              "      <th>country</th>\n",
              "      <th>date_added</th>\n",
              "      <th>release_year</th>\n",
              "      <th>rating</th>\n",
              "      <th>duration</th>\n",
              "      <th>listed_in</th>\n",
              "      <th>description</th>\n",
              "    </tr>\n",
              "  </thead>\n",
              "  <tbody>\n",
              "    <tr>\n",
              "      <th>0</th>\n",
              "      <td>s1</td>\n",
              "      <td>Movie</td>\n",
              "      <td>Dick Johnson Is Dead</td>\n",
              "      <td>Kirsten Johnson</td>\n",
              "      <td>Craig Sechler</td>\n",
              "      <td>United States</td>\n",
              "      <td>September 25, 2021</td>\n",
              "      <td>2020</td>\n",
              "      <td>PG-13</td>\n",
              "      <td>90 min</td>\n",
              "      <td>Documentaries</td>\n",
              "      <td>As her father nears the end of his life, filmm...</td>\n",
              "    </tr>\n",
              "    <tr>\n",
              "      <th>1</th>\n",
              "      <td>s2</td>\n",
              "      <td>TV Show</td>\n",
              "      <td>Blood &amp; Water</td>\n",
              "      <td>Michel Tikhomiroff</td>\n",
              "      <td>Ama Qamata, Khosi Ngema, Gail Mabalane, Thaban...</td>\n",
              "      <td>South Africa</td>\n",
              "      <td>September 24, 2021</td>\n",
              "      <td>2021</td>\n",
              "      <td>TV-MA</td>\n",
              "      <td>2 Seasons</td>\n",
              "      <td>International TV Shows, TV Dramas, TV Mysteries</td>\n",
              "      <td>After crossing paths at a party, a Cape Town t...</td>\n",
              "    </tr>\n",
              "    <tr>\n",
              "      <th>2</th>\n",
              "      <td>s3</td>\n",
              "      <td>TV Show</td>\n",
              "      <td>Ganglands</td>\n",
              "      <td>Julien Leclercq</td>\n",
              "      <td>Sami Bouajila, Tracy Gotoas, Samuel Jouy, Nabi...</td>\n",
              "      <td>United States</td>\n",
              "      <td>September 24, 2021</td>\n",
              "      <td>2021</td>\n",
              "      <td>TV-MA</td>\n",
              "      <td>1 Season</td>\n",
              "      <td>Crime TV Shows, International TV Shows, TV Act...</td>\n",
              "      <td>To protect his family from a powerful drug lor...</td>\n",
              "    </tr>\n",
              "    <tr>\n",
              "      <th>3</th>\n",
              "      <td>s5</td>\n",
              "      <td>TV Show</td>\n",
              "      <td>Kota Factory</td>\n",
              "      <td>BB Sasore</td>\n",
              "      <td>Mayur More, Jitendra Kumar, Ranjan Raj, Alam K...</td>\n",
              "      <td>India</td>\n",
              "      <td>September 24, 2021</td>\n",
              "      <td>2021</td>\n",
              "      <td>TV-MA</td>\n",
              "      <td>2 Seasons</td>\n",
              "      <td>International TV Shows, Romantic TV Shows, TV ...</td>\n",
              "      <td>In a city of coaching centers known to train I...</td>\n",
              "    </tr>\n",
              "    <tr>\n",
              "      <th>4</th>\n",
              "      <td>s6</td>\n",
              "      <td>TV Show</td>\n",
              "      <td>Midnight Mass</td>\n",
              "      <td>Mike Flanagan</td>\n",
              "      <td>Kate Siegel, Zach Gilford, Hamish Linklater, H...</td>\n",
              "      <td>United States</td>\n",
              "      <td>September 24, 2021</td>\n",
              "      <td>2021</td>\n",
              "      <td>TV-MA</td>\n",
              "      <td>1 Season</td>\n",
              "      <td>TV Dramas, TV Horror, TV Mysteries</td>\n",
              "      <td>The arrival of a charismatic young priest brin...</td>\n",
              "    </tr>\n",
              "    <tr>\n",
              "      <th>...</th>\n",
              "      <td>...</td>\n",
              "      <td>...</td>\n",
              "      <td>...</td>\n",
              "      <td>...</td>\n",
              "      <td>...</td>\n",
              "      <td>...</td>\n",
              "      <td>...</td>\n",
              "      <td>...</td>\n",
              "      <td>...</td>\n",
              "      <td>...</td>\n",
              "      <td>...</td>\n",
              "      <td>...</td>\n",
              "    </tr>\n",
              "    <tr>\n",
              "      <th>8699</th>\n",
              "      <td>s8802</td>\n",
              "      <td>Movie</td>\n",
              "      <td>Zinzana</td>\n",
              "      <td>Majid Al Ansari</td>\n",
              "      <td>Ali Suliman, Saleh Bakri, Yasa, Ali Al-Jabri, ...</td>\n",
              "      <td>United Arab Emirates, Jordan</td>\n",
              "      <td>March 9, 2016</td>\n",
              "      <td>2015</td>\n",
              "      <td>TV-MA</td>\n",
              "      <td>96 min</td>\n",
              "      <td>Dramas, International Movies, Thrillers</td>\n",
              "      <td>Recovering alcoholic Talal wakes up inside a s...</td>\n",
              "    </tr>\n",
              "    <tr>\n",
              "      <th>8700</th>\n",
              "      <td>s8803</td>\n",
              "      <td>Movie</td>\n",
              "      <td>Zodiac</td>\n",
              "      <td>David Fincher</td>\n",
              "      <td>Mark Ruffalo, Jake Gyllenhaal, Robert Downey J...</td>\n",
              "      <td>United States</td>\n",
              "      <td>November 20, 2019</td>\n",
              "      <td>2007</td>\n",
              "      <td>R</td>\n",
              "      <td>158 min</td>\n",
              "      <td>Cult Movies, Dramas, Thrillers</td>\n",
              "      <td>A political cartoonist, a crime reporter and a...</td>\n",
              "    </tr>\n",
              "    <tr>\n",
              "      <th>8701</th>\n",
              "      <td>s8805</td>\n",
              "      <td>Movie</td>\n",
              "      <td>Zombieland</td>\n",
              "      <td>Ruben Fleischer</td>\n",
              "      <td>Jesse Eisenberg, Woody Harrelson, Emma Stone, ...</td>\n",
              "      <td>United States</td>\n",
              "      <td>November 1, 2019</td>\n",
              "      <td>2009</td>\n",
              "      <td>R</td>\n",
              "      <td>88 min</td>\n",
              "      <td>Comedies, Horror Movies</td>\n",
              "      <td>Looking to survive in a world taken over by zo...</td>\n",
              "    </tr>\n",
              "    <tr>\n",
              "      <th>8702</th>\n",
              "      <td>s8806</td>\n",
              "      <td>Movie</td>\n",
              "      <td>Zoom</td>\n",
              "      <td>Peter Hewitt</td>\n",
              "      <td>Tim Allen, Courteney Cox, Chevy Chase, Kate Ma...</td>\n",
              "      <td>United States</td>\n",
              "      <td>January 11, 2020</td>\n",
              "      <td>2006</td>\n",
              "      <td>PG</td>\n",
              "      <td>88 min</td>\n",
              "      <td>Children &amp; Family Movies, Comedies</td>\n",
              "      <td>Dragged from civilian life, a former superhero...</td>\n",
              "    </tr>\n",
              "    <tr>\n",
              "      <th>8703</th>\n",
              "      <td>s8807</td>\n",
              "      <td>Movie</td>\n",
              "      <td>Zubaan</td>\n",
              "      <td>Mozez Singh</td>\n",
              "      <td>Vicky Kaushal, Sarah-Jane Dias, Raaghav Chanan...</td>\n",
              "      <td>India</td>\n",
              "      <td>March 2, 2019</td>\n",
              "      <td>2015</td>\n",
              "      <td>TV-14</td>\n",
              "      <td>111 min</td>\n",
              "      <td>Dramas, International Movies, Music &amp; Musicals</td>\n",
              "      <td>A scrappy but poor boy worms his way into a ty...</td>\n",
              "    </tr>\n",
              "  </tbody>\n",
              "</table>\n",
              "<p>8704 rows × 12 columns</p>\n",
              "</div>\n",
              "      <button class=\"colab-df-convert\" onclick=\"convertToInteractive('df-077e5f1c-b631-41f5-8433-3de58d95c31c')\"\n",
              "              title=\"Convert this dataframe to an interactive table.\"\n",
              "              style=\"display:none;\">\n",
              "        \n",
              "  <svg xmlns=\"http://www.w3.org/2000/svg\" height=\"24px\"viewBox=\"0 0 24 24\"\n",
              "       width=\"24px\">\n",
              "    <path d=\"M0 0h24v24H0V0z\" fill=\"none\"/>\n",
              "    <path d=\"M18.56 5.44l.94 2.06.94-2.06 2.06-.94-2.06-.94-.94-2.06-.94 2.06-2.06.94zm-11 1L8.5 8.5l.94-2.06 2.06-.94-2.06-.94L8.5 2.5l-.94 2.06-2.06.94zm10 10l.94 2.06.94-2.06 2.06-.94-2.06-.94-.94-2.06-.94 2.06-2.06.94z\"/><path d=\"M17.41 7.96l-1.37-1.37c-.4-.4-.92-.59-1.43-.59-.52 0-1.04.2-1.43.59L10.3 9.45l-7.72 7.72c-.78.78-.78 2.05 0 2.83L4 21.41c.39.39.9.59 1.41.59.51 0 1.02-.2 1.41-.59l7.78-7.78 2.81-2.81c.8-.78.8-2.07 0-2.86zM5.41 20L4 18.59l7.72-7.72 1.47 1.35L5.41 20z\"/>\n",
              "  </svg>\n",
              "      </button>\n",
              "      \n",
              "  <style>\n",
              "    .colab-df-container {\n",
              "      display:flex;\n",
              "      flex-wrap:wrap;\n",
              "      gap: 12px;\n",
              "    }\n",
              "\n",
              "    .colab-df-convert {\n",
              "      background-color: #E8F0FE;\n",
              "      border: none;\n",
              "      border-radius: 50%;\n",
              "      cursor: pointer;\n",
              "      display: none;\n",
              "      fill: #1967D2;\n",
              "      height: 32px;\n",
              "      padding: 0 0 0 0;\n",
              "      width: 32px;\n",
              "    }\n",
              "\n",
              "    .colab-df-convert:hover {\n",
              "      background-color: #E2EBFA;\n",
              "      box-shadow: 0px 1px 2px rgba(60, 64, 67, 0.3), 0px 1px 3px 1px rgba(60, 64, 67, 0.15);\n",
              "      fill: #174EA6;\n",
              "    }\n",
              "\n",
              "    [theme=dark] .colab-df-convert {\n",
              "      background-color: #3B4455;\n",
              "      fill: #D2E3FC;\n",
              "    }\n",
              "\n",
              "    [theme=dark] .colab-df-convert:hover {\n",
              "      background-color: #434B5C;\n",
              "      box-shadow: 0px 1px 3px 1px rgba(0, 0, 0, 0.15);\n",
              "      filter: drop-shadow(0px 1px 2px rgba(0, 0, 0, 0.3));\n",
              "      fill: #FFFFFF;\n",
              "    }\n",
              "  </style>\n",
              "\n",
              "      <script>\n",
              "        const buttonEl =\n",
              "          document.querySelector('#df-077e5f1c-b631-41f5-8433-3de58d95c31c button.colab-df-convert');\n",
              "        buttonEl.style.display =\n",
              "          google.colab.kernel.accessAllowed ? 'block' : 'none';\n",
              "\n",
              "        async function convertToInteractive(key) {\n",
              "          const element = document.querySelector('#df-077e5f1c-b631-41f5-8433-3de58d95c31c');\n",
              "          const dataTable =\n",
              "            await google.colab.kernel.invokeFunction('convertToInteractive',\n",
              "                                                     [key], {});\n",
              "          if (!dataTable) return;\n",
              "\n",
              "          const docLinkHtml = 'Like what you see? Visit the ' +\n",
              "            '<a target=\"_blank\" href=https://colab.research.google.com/notebooks/data_table.ipynb>data table notebook</a>'\n",
              "            + ' to learn more about interactive tables.';\n",
              "          element.innerHTML = '';\n",
              "          dataTable['output_type'] = 'display_data';\n",
              "          await google.colab.output.renderOutput(dataTable, element);\n",
              "          const docLink = document.createElement('div');\n",
              "          docLink.innerHTML = docLinkHtml;\n",
              "          element.appendChild(docLink);\n",
              "        }\n",
              "      </script>\n",
              "    </div>\n",
              "  </div>\n",
              "  "
            ]
          },
          "metadata": {},
          "execution_count": 93
        }
      ]
    },
    {
      "cell_type": "code",
      "source": [
        "#Chaning format of date_added to datetime type\n",
        "df2['date_added'] = pd.to_datetime(df['date_added'])\n",
        "df2.head()"
      ],
      "metadata": {
        "colab": {
          "base_uri": "https://localhost:8080/",
          "height": 406
        },
        "id": "gCyqAwrdO4Rr",
        "outputId": "97444af8-000c-4164-f901-cf46e06074c0"
      },
      "execution_count": null,
      "outputs": [
        {
          "output_type": "execute_result",
          "data": {
            "text/plain": [
              "  show_id     type                 title            director  \\\n",
              "0      s1    Movie  Dick Johnson Is Dead     Kirsten Johnson   \n",
              "1      s2  TV Show         Blood & Water  Michel Tikhomiroff   \n",
              "2      s3  TV Show             Ganglands     Julien Leclercq   \n",
              "3      s5  TV Show          Kota Factory           BB Sasore   \n",
              "4      s6  TV Show         Midnight Mass       Mike Flanagan   \n",
              "\n",
              "                                                cast        country  \\\n",
              "0                                      Craig Sechler  United States   \n",
              "1  Ama Qamata, Khosi Ngema, Gail Mabalane, Thaban...   South Africa   \n",
              "2  Sami Bouajila, Tracy Gotoas, Samuel Jouy, Nabi...  United States   \n",
              "3  Mayur More, Jitendra Kumar, Ranjan Raj, Alam K...          India   \n",
              "4  Kate Siegel, Zach Gilford, Hamish Linklater, H...  United States   \n",
              "\n",
              "  date_added  release_year rating   duration  \\\n",
              "0 2021-09-25          2020  PG-13     90 min   \n",
              "1 2021-09-24          2021  TV-MA  2 Seasons   \n",
              "2 2021-09-24          2021  TV-MA   1 Season   \n",
              "3 2021-09-24          2021  TV-MA  2 Seasons   \n",
              "4 2021-09-24          2021  TV-MA   1 Season   \n",
              "\n",
              "                                           listed_in  \\\n",
              "0                                      Documentaries   \n",
              "1    International TV Shows, TV Dramas, TV Mysteries   \n",
              "2  Crime TV Shows, International TV Shows, TV Act...   \n",
              "3  International TV Shows, Romantic TV Shows, TV ...   \n",
              "4                 TV Dramas, TV Horror, TV Mysteries   \n",
              "\n",
              "                                         description  \n",
              "0  As her father nears the end of his life, filmm...  \n",
              "1  After crossing paths at a party, a Cape Town t...  \n",
              "2  To protect his family from a powerful drug lor...  \n",
              "3  In a city of coaching centers known to train I...  \n",
              "4  The arrival of a charismatic young priest brin...  "
            ],
            "text/html": [
              "\n",
              "  <div id=\"df-13919391-8377-450d-9528-5c3d2459751c\">\n",
              "    <div class=\"colab-df-container\">\n",
              "      <div>\n",
              "<style scoped>\n",
              "    .dataframe tbody tr th:only-of-type {\n",
              "        vertical-align: middle;\n",
              "    }\n",
              "\n",
              "    .dataframe tbody tr th {\n",
              "        vertical-align: top;\n",
              "    }\n",
              "\n",
              "    .dataframe thead th {\n",
              "        text-align: right;\n",
              "    }\n",
              "</style>\n",
              "<table border=\"1\" class=\"dataframe\">\n",
              "  <thead>\n",
              "    <tr style=\"text-align: right;\">\n",
              "      <th></th>\n",
              "      <th>show_id</th>\n",
              "      <th>type</th>\n",
              "      <th>title</th>\n",
              "      <th>director</th>\n",
              "      <th>cast</th>\n",
              "      <th>country</th>\n",
              "      <th>date_added</th>\n",
              "      <th>release_year</th>\n",
              "      <th>rating</th>\n",
              "      <th>duration</th>\n",
              "      <th>listed_in</th>\n",
              "      <th>description</th>\n",
              "    </tr>\n",
              "  </thead>\n",
              "  <tbody>\n",
              "    <tr>\n",
              "      <th>0</th>\n",
              "      <td>s1</td>\n",
              "      <td>Movie</td>\n",
              "      <td>Dick Johnson Is Dead</td>\n",
              "      <td>Kirsten Johnson</td>\n",
              "      <td>Craig Sechler</td>\n",
              "      <td>United States</td>\n",
              "      <td>2021-09-25</td>\n",
              "      <td>2020</td>\n",
              "      <td>PG-13</td>\n",
              "      <td>90 min</td>\n",
              "      <td>Documentaries</td>\n",
              "      <td>As her father nears the end of his life, filmm...</td>\n",
              "    </tr>\n",
              "    <tr>\n",
              "      <th>1</th>\n",
              "      <td>s2</td>\n",
              "      <td>TV Show</td>\n",
              "      <td>Blood &amp; Water</td>\n",
              "      <td>Michel Tikhomiroff</td>\n",
              "      <td>Ama Qamata, Khosi Ngema, Gail Mabalane, Thaban...</td>\n",
              "      <td>South Africa</td>\n",
              "      <td>2021-09-24</td>\n",
              "      <td>2021</td>\n",
              "      <td>TV-MA</td>\n",
              "      <td>2 Seasons</td>\n",
              "      <td>International TV Shows, TV Dramas, TV Mysteries</td>\n",
              "      <td>After crossing paths at a party, a Cape Town t...</td>\n",
              "    </tr>\n",
              "    <tr>\n",
              "      <th>2</th>\n",
              "      <td>s3</td>\n",
              "      <td>TV Show</td>\n",
              "      <td>Ganglands</td>\n",
              "      <td>Julien Leclercq</td>\n",
              "      <td>Sami Bouajila, Tracy Gotoas, Samuel Jouy, Nabi...</td>\n",
              "      <td>United States</td>\n",
              "      <td>2021-09-24</td>\n",
              "      <td>2021</td>\n",
              "      <td>TV-MA</td>\n",
              "      <td>1 Season</td>\n",
              "      <td>Crime TV Shows, International TV Shows, TV Act...</td>\n",
              "      <td>To protect his family from a powerful drug lor...</td>\n",
              "    </tr>\n",
              "    <tr>\n",
              "      <th>3</th>\n",
              "      <td>s5</td>\n",
              "      <td>TV Show</td>\n",
              "      <td>Kota Factory</td>\n",
              "      <td>BB Sasore</td>\n",
              "      <td>Mayur More, Jitendra Kumar, Ranjan Raj, Alam K...</td>\n",
              "      <td>India</td>\n",
              "      <td>2021-09-24</td>\n",
              "      <td>2021</td>\n",
              "      <td>TV-MA</td>\n",
              "      <td>2 Seasons</td>\n",
              "      <td>International TV Shows, Romantic TV Shows, TV ...</td>\n",
              "      <td>In a city of coaching centers known to train I...</td>\n",
              "    </tr>\n",
              "    <tr>\n",
              "      <th>4</th>\n",
              "      <td>s6</td>\n",
              "      <td>TV Show</td>\n",
              "      <td>Midnight Mass</td>\n",
              "      <td>Mike Flanagan</td>\n",
              "      <td>Kate Siegel, Zach Gilford, Hamish Linklater, H...</td>\n",
              "      <td>United States</td>\n",
              "      <td>2021-09-24</td>\n",
              "      <td>2021</td>\n",
              "      <td>TV-MA</td>\n",
              "      <td>1 Season</td>\n",
              "      <td>TV Dramas, TV Horror, TV Mysteries</td>\n",
              "      <td>The arrival of a charismatic young priest brin...</td>\n",
              "    </tr>\n",
              "  </tbody>\n",
              "</table>\n",
              "</div>\n",
              "      <button class=\"colab-df-convert\" onclick=\"convertToInteractive('df-13919391-8377-450d-9528-5c3d2459751c')\"\n",
              "              title=\"Convert this dataframe to an interactive table.\"\n",
              "              style=\"display:none;\">\n",
              "        \n",
              "  <svg xmlns=\"http://www.w3.org/2000/svg\" height=\"24px\"viewBox=\"0 0 24 24\"\n",
              "       width=\"24px\">\n",
              "    <path d=\"M0 0h24v24H0V0z\" fill=\"none\"/>\n",
              "    <path d=\"M18.56 5.44l.94 2.06.94-2.06 2.06-.94-2.06-.94-.94-2.06-.94 2.06-2.06.94zm-11 1L8.5 8.5l.94-2.06 2.06-.94-2.06-.94L8.5 2.5l-.94 2.06-2.06.94zm10 10l.94 2.06.94-2.06 2.06-.94-2.06-.94-.94-2.06-.94 2.06-2.06.94z\"/><path d=\"M17.41 7.96l-1.37-1.37c-.4-.4-.92-.59-1.43-.59-.52 0-1.04.2-1.43.59L10.3 9.45l-7.72 7.72c-.78.78-.78 2.05 0 2.83L4 21.41c.39.39.9.59 1.41.59.51 0 1.02-.2 1.41-.59l7.78-7.78 2.81-2.81c.8-.78.8-2.07 0-2.86zM5.41 20L4 18.59l7.72-7.72 1.47 1.35L5.41 20z\"/>\n",
              "  </svg>\n",
              "      </button>\n",
              "      \n",
              "  <style>\n",
              "    .colab-df-container {\n",
              "      display:flex;\n",
              "      flex-wrap:wrap;\n",
              "      gap: 12px;\n",
              "    }\n",
              "\n",
              "    .colab-df-convert {\n",
              "      background-color: #E8F0FE;\n",
              "      border: none;\n",
              "      border-radius: 50%;\n",
              "      cursor: pointer;\n",
              "      display: none;\n",
              "      fill: #1967D2;\n",
              "      height: 32px;\n",
              "      padding: 0 0 0 0;\n",
              "      width: 32px;\n",
              "    }\n",
              "\n",
              "    .colab-df-convert:hover {\n",
              "      background-color: #E2EBFA;\n",
              "      box-shadow: 0px 1px 2px rgba(60, 64, 67, 0.3), 0px 1px 3px 1px rgba(60, 64, 67, 0.15);\n",
              "      fill: #174EA6;\n",
              "    }\n",
              "\n",
              "    [theme=dark] .colab-df-convert {\n",
              "      background-color: #3B4455;\n",
              "      fill: #D2E3FC;\n",
              "    }\n",
              "\n",
              "    [theme=dark] .colab-df-convert:hover {\n",
              "      background-color: #434B5C;\n",
              "      box-shadow: 0px 1px 3px 1px rgba(0, 0, 0, 0.15);\n",
              "      filter: drop-shadow(0px 1px 2px rgba(0, 0, 0, 0.3));\n",
              "      fill: #FFFFFF;\n",
              "    }\n",
              "  </style>\n",
              "\n",
              "      <script>\n",
              "        const buttonEl =\n",
              "          document.querySelector('#df-13919391-8377-450d-9528-5c3d2459751c button.colab-df-convert');\n",
              "        buttonEl.style.display =\n",
              "          google.colab.kernel.accessAllowed ? 'block' : 'none';\n",
              "\n",
              "        async function convertToInteractive(key) {\n",
              "          const element = document.querySelector('#df-13919391-8377-450d-9528-5c3d2459751c');\n",
              "          const dataTable =\n",
              "            await google.colab.kernel.invokeFunction('convertToInteractive',\n",
              "                                                     [key], {});\n",
              "          if (!dataTable) return;\n",
              "\n",
              "          const docLinkHtml = 'Like what you see? Visit the ' +\n",
              "            '<a target=\"_blank\" href=https://colab.research.google.com/notebooks/data_table.ipynb>data table notebook</a>'\n",
              "            + ' to learn more about interactive tables.';\n",
              "          element.innerHTML = '';\n",
              "          dataTable['output_type'] = 'display_data';\n",
              "          await google.colab.output.renderOutput(dataTable, element);\n",
              "          const docLink = document.createElement('div');\n",
              "          docLink.innerHTML = docLinkHtml;\n",
              "          element.appendChild(docLink);\n",
              "        }\n",
              "      </script>\n",
              "    </div>\n",
              "  </div>\n",
              "  "
            ]
          },
          "metadata": {},
          "execution_count": 94
        }
      ]
    },
    {
      "cell_type": "markdown",
      "source": [
        "After handling all the missing values we now have a dataframe of 8704 rows with 12 columns"
      ],
      "metadata": {
        "id": "X0HYNLUNjHJ9"
      }
    },
    {
      "cell_type": "markdown",
      "source": [
        "**Non-Graphical Analysis: Value counts and unique attributes**\n",
        "1) Let us analyse the distribution of Movies and the TV Show in the dataset\n"
      ],
      "metadata": {
        "id": "7CkjsQSHk56f"
      }
    },
    {
      "cell_type": "code",
      "source": [
        "df[\"type\"].value_counts()"
      ],
      "metadata": {
        "colab": {
          "base_uri": "https://localhost:8080/"
        },
        "id": "fLGFylsrlPKU",
        "outputId": "baaf2209-5980-42cd-9a80-51609a147ab3"
      },
      "execution_count": null,
      "outputs": [
        {
          "output_type": "execute_result",
          "data": {
            "text/plain": [
              "Movie      6131\n",
              "TV Show    2676\n",
              "Name: type, dtype: int64"
            ]
          },
          "metadata": {},
          "execution_count": 95
        }
      ]
    },
    {
      "cell_type": "code",
      "source": [],
      "metadata": {
        "id": "5vyo08GO7wjO"
      },
      "execution_count": null,
      "outputs": []
    },
    {
      "cell_type": "markdown",
      "source": [
        "There are 6109 Movies and 2595 TV Shows in dataset.\n"
      ],
      "metadata": {
        "id": "LcfKaFb-mC6r"
      }
    },
    {
      "cell_type": "markdown",
      "source": [
        "**Unnesting of listed_in**"
      ],
      "metadata": {
        "id": "eHDMiPl-aSVi"
      }
    },
    {
      "cell_type": "code",
      "source": [
        "df3 = df2[\"listed_in\"].str.split(\",\",expand=True).add_prefix('listed_in')\n",
        "df4= pd.merge(df2, df3, left_index=True, right_index=True)\n",
        "df4.drop(\"listed_in\",axis=1,inplace=True)\n",
        "df4=pd.melt(df4, id_vars=['show_id', 'type', 'title', 'director', 'cast', 'country', 'date_added',\n",
        "       'release_year', 'rating', 'duration', 'description'],value_name ='listed_in').drop(\"variable\",axis=1)\n",
        "df4.dropna(subset=['listed_in'],inplace=True)\n",
        "df4"
      ],
      "metadata": {
        "colab": {
          "base_uri": "https://localhost:8080/",
          "height": 815
        },
        "id": "pEfiaE0UoXqv",
        "outputId": "820e17d8-567e-4a32-d5f1-0d623cae3703"
      },
      "execution_count": null,
      "outputs": [
        {
          "output_type": "execute_result",
          "data": {
            "text/plain": [
              "      show_id     type                 title                 director  \\\n",
              "0          s1    Movie  Dick Johnson Is Dead          Kirsten Johnson   \n",
              "1          s2  TV Show         Blood & Water       Michel Tikhomiroff   \n",
              "2          s3  TV Show             Ganglands          Julien Leclercq   \n",
              "3          s5  TV Show          Kota Factory                BB Sasore   \n",
              "4          s6  TV Show         Midnight Mass            Mike Flanagan   \n",
              "...       ...      ...                   ...                      ...   \n",
              "26104   s8799    Movie              Zed Plus  Chandra Prakash Dwivedi   \n",
              "26106   s8801  TV Show    Zindagi Gulzar Hai           Ehtesham Uddin   \n",
              "26107   s8802    Movie               Zinzana          Majid Al Ansari   \n",
              "26108   s8803    Movie                Zodiac            David Fincher   \n",
              "26111   s8807    Movie                Zubaan              Mozez Singh   \n",
              "\n",
              "                                                    cast  \\\n",
              "0                                          Craig Sechler   \n",
              "1      Ama Qamata, Khosi Ngema, Gail Mabalane, Thaban...   \n",
              "2      Sami Bouajila, Tracy Gotoas, Samuel Jouy, Nabi...   \n",
              "3      Mayur More, Jitendra Kumar, Ranjan Raj, Alam K...   \n",
              "4      Kate Siegel, Zach Gilford, Hamish Linklater, H...   \n",
              "...                                                  ...   \n",
              "26104  Adil Hussain, Mona Singh, K.K. Raina, Sanjay M...   \n",
              "26106  Sanam Saeed, Fawad Khan, Ayesha Omer, Mehreen ...   \n",
              "26107  Ali Suliman, Saleh Bakri, Yasa, Ali Al-Jabri, ...   \n",
              "26108  Mark Ruffalo, Jake Gyllenhaal, Robert Downey J...   \n",
              "26111  Vicky Kaushal, Sarah-Jane Dias, Raaghav Chanan...   \n",
              "\n",
              "                            country date_added  release_year rating  \\\n",
              "0                     United States 2021-09-25          2020  PG-13   \n",
              "1                      South Africa 2021-09-24          2021  TV-MA   \n",
              "2                     United States 2021-09-24          2021  TV-MA   \n",
              "3                             India 2021-09-24          2021  TV-MA   \n",
              "4                     United States 2021-09-24          2021  TV-MA   \n",
              "...                             ...        ...           ...    ...   \n",
              "26104                         India 2019-05-06          2014  TV-MA   \n",
              "26106                      Pakistan 2019-04-18          2012  TV-PG   \n",
              "26107  United Arab Emirates, Jordan 2017-11-01          2015  TV-MA   \n",
              "26108                 United States 2016-09-15          2007      R   \n",
              "26111                         India 2020-01-27          2015  TV-14   \n",
              "\n",
              "        duration                                        description  \\\n",
              "0         90 min  As her father nears the end of his life, filmm...   \n",
              "1      2 Seasons  After crossing paths at a party, a Cape Town t...   \n",
              "2       1 Season  To protect his family from a powerful drug lor...   \n",
              "3      2 Seasons  In a city of coaching centers known to train I...   \n",
              "4       1 Season  The arrival of a charismatic young priest brin...   \n",
              "...          ...                                                ...   \n",
              "26104    131 min  A philandering small-town mechanic's political...   \n",
              "26106   1 Season  Strong-willed, middle-class Kashaf and carefre...   \n",
              "26107     96 min  Recovering alcoholic Talal wakes up inside a s...   \n",
              "26108    158 min  A political cartoonist, a crime reporter and a...   \n",
              "26111    111 min  A scrappy but poor boy worms his way into a ty...   \n",
              "\n",
              "                    listed_in  \n",
              "0               Documentaries  \n",
              "1      International TV Shows  \n",
              "2              Crime TV Shows  \n",
              "3      International TV Shows  \n",
              "4                   TV Dramas  \n",
              "...                       ...  \n",
              "26104    International Movies  \n",
              "26106               TV Dramas  \n",
              "26107               Thrillers  \n",
              "26108               Thrillers  \n",
              "26111        Music & Musicals  \n",
              "\n",
              "[19130 rows x 12 columns]"
            ],
            "text/html": [
              "\n",
              "  <div id=\"df-02f3ba94-21f6-483e-ba95-8fc28546bbc0\">\n",
              "    <div class=\"colab-df-container\">\n",
              "      <div>\n",
              "<style scoped>\n",
              "    .dataframe tbody tr th:only-of-type {\n",
              "        vertical-align: middle;\n",
              "    }\n",
              "\n",
              "    .dataframe tbody tr th {\n",
              "        vertical-align: top;\n",
              "    }\n",
              "\n",
              "    .dataframe thead th {\n",
              "        text-align: right;\n",
              "    }\n",
              "</style>\n",
              "<table border=\"1\" class=\"dataframe\">\n",
              "  <thead>\n",
              "    <tr style=\"text-align: right;\">\n",
              "      <th></th>\n",
              "      <th>show_id</th>\n",
              "      <th>type</th>\n",
              "      <th>title</th>\n",
              "      <th>director</th>\n",
              "      <th>cast</th>\n",
              "      <th>country</th>\n",
              "      <th>date_added</th>\n",
              "      <th>release_year</th>\n",
              "      <th>rating</th>\n",
              "      <th>duration</th>\n",
              "      <th>description</th>\n",
              "      <th>listed_in</th>\n",
              "    </tr>\n",
              "  </thead>\n",
              "  <tbody>\n",
              "    <tr>\n",
              "      <th>0</th>\n",
              "      <td>s1</td>\n",
              "      <td>Movie</td>\n",
              "      <td>Dick Johnson Is Dead</td>\n",
              "      <td>Kirsten Johnson</td>\n",
              "      <td>Craig Sechler</td>\n",
              "      <td>United States</td>\n",
              "      <td>2021-09-25</td>\n",
              "      <td>2020</td>\n",
              "      <td>PG-13</td>\n",
              "      <td>90 min</td>\n",
              "      <td>As her father nears the end of his life, filmm...</td>\n",
              "      <td>Documentaries</td>\n",
              "    </tr>\n",
              "    <tr>\n",
              "      <th>1</th>\n",
              "      <td>s2</td>\n",
              "      <td>TV Show</td>\n",
              "      <td>Blood &amp; Water</td>\n",
              "      <td>Michel Tikhomiroff</td>\n",
              "      <td>Ama Qamata, Khosi Ngema, Gail Mabalane, Thaban...</td>\n",
              "      <td>South Africa</td>\n",
              "      <td>2021-09-24</td>\n",
              "      <td>2021</td>\n",
              "      <td>TV-MA</td>\n",
              "      <td>2 Seasons</td>\n",
              "      <td>After crossing paths at a party, a Cape Town t...</td>\n",
              "      <td>International TV Shows</td>\n",
              "    </tr>\n",
              "    <tr>\n",
              "      <th>2</th>\n",
              "      <td>s3</td>\n",
              "      <td>TV Show</td>\n",
              "      <td>Ganglands</td>\n",
              "      <td>Julien Leclercq</td>\n",
              "      <td>Sami Bouajila, Tracy Gotoas, Samuel Jouy, Nabi...</td>\n",
              "      <td>United States</td>\n",
              "      <td>2021-09-24</td>\n",
              "      <td>2021</td>\n",
              "      <td>TV-MA</td>\n",
              "      <td>1 Season</td>\n",
              "      <td>To protect his family from a powerful drug lor...</td>\n",
              "      <td>Crime TV Shows</td>\n",
              "    </tr>\n",
              "    <tr>\n",
              "      <th>3</th>\n",
              "      <td>s5</td>\n",
              "      <td>TV Show</td>\n",
              "      <td>Kota Factory</td>\n",
              "      <td>BB Sasore</td>\n",
              "      <td>Mayur More, Jitendra Kumar, Ranjan Raj, Alam K...</td>\n",
              "      <td>India</td>\n",
              "      <td>2021-09-24</td>\n",
              "      <td>2021</td>\n",
              "      <td>TV-MA</td>\n",
              "      <td>2 Seasons</td>\n",
              "      <td>In a city of coaching centers known to train I...</td>\n",
              "      <td>International TV Shows</td>\n",
              "    </tr>\n",
              "    <tr>\n",
              "      <th>4</th>\n",
              "      <td>s6</td>\n",
              "      <td>TV Show</td>\n",
              "      <td>Midnight Mass</td>\n",
              "      <td>Mike Flanagan</td>\n",
              "      <td>Kate Siegel, Zach Gilford, Hamish Linklater, H...</td>\n",
              "      <td>United States</td>\n",
              "      <td>2021-09-24</td>\n",
              "      <td>2021</td>\n",
              "      <td>TV-MA</td>\n",
              "      <td>1 Season</td>\n",
              "      <td>The arrival of a charismatic young priest brin...</td>\n",
              "      <td>TV Dramas</td>\n",
              "    </tr>\n",
              "    <tr>\n",
              "      <th>...</th>\n",
              "      <td>...</td>\n",
              "      <td>...</td>\n",
              "      <td>...</td>\n",
              "      <td>...</td>\n",
              "      <td>...</td>\n",
              "      <td>...</td>\n",
              "      <td>...</td>\n",
              "      <td>...</td>\n",
              "      <td>...</td>\n",
              "      <td>...</td>\n",
              "      <td>...</td>\n",
              "      <td>...</td>\n",
              "    </tr>\n",
              "    <tr>\n",
              "      <th>26104</th>\n",
              "      <td>s8799</td>\n",
              "      <td>Movie</td>\n",
              "      <td>Zed Plus</td>\n",
              "      <td>Chandra Prakash Dwivedi</td>\n",
              "      <td>Adil Hussain, Mona Singh, K.K. Raina, Sanjay M...</td>\n",
              "      <td>India</td>\n",
              "      <td>2019-05-06</td>\n",
              "      <td>2014</td>\n",
              "      <td>TV-MA</td>\n",
              "      <td>131 min</td>\n",
              "      <td>A philandering small-town mechanic's political...</td>\n",
              "      <td>International Movies</td>\n",
              "    </tr>\n",
              "    <tr>\n",
              "      <th>26106</th>\n",
              "      <td>s8801</td>\n",
              "      <td>TV Show</td>\n",
              "      <td>Zindagi Gulzar Hai</td>\n",
              "      <td>Ehtesham Uddin</td>\n",
              "      <td>Sanam Saeed, Fawad Khan, Ayesha Omer, Mehreen ...</td>\n",
              "      <td>Pakistan</td>\n",
              "      <td>2019-04-18</td>\n",
              "      <td>2012</td>\n",
              "      <td>TV-PG</td>\n",
              "      <td>1 Season</td>\n",
              "      <td>Strong-willed, middle-class Kashaf and carefre...</td>\n",
              "      <td>TV Dramas</td>\n",
              "    </tr>\n",
              "    <tr>\n",
              "      <th>26107</th>\n",
              "      <td>s8802</td>\n",
              "      <td>Movie</td>\n",
              "      <td>Zinzana</td>\n",
              "      <td>Majid Al Ansari</td>\n",
              "      <td>Ali Suliman, Saleh Bakri, Yasa, Ali Al-Jabri, ...</td>\n",
              "      <td>United Arab Emirates, Jordan</td>\n",
              "      <td>2017-11-01</td>\n",
              "      <td>2015</td>\n",
              "      <td>TV-MA</td>\n",
              "      <td>96 min</td>\n",
              "      <td>Recovering alcoholic Talal wakes up inside a s...</td>\n",
              "      <td>Thrillers</td>\n",
              "    </tr>\n",
              "    <tr>\n",
              "      <th>26108</th>\n",
              "      <td>s8803</td>\n",
              "      <td>Movie</td>\n",
              "      <td>Zodiac</td>\n",
              "      <td>David Fincher</td>\n",
              "      <td>Mark Ruffalo, Jake Gyllenhaal, Robert Downey J...</td>\n",
              "      <td>United States</td>\n",
              "      <td>2016-09-15</td>\n",
              "      <td>2007</td>\n",
              "      <td>R</td>\n",
              "      <td>158 min</td>\n",
              "      <td>A political cartoonist, a crime reporter and a...</td>\n",
              "      <td>Thrillers</td>\n",
              "    </tr>\n",
              "    <tr>\n",
              "      <th>26111</th>\n",
              "      <td>s8807</td>\n",
              "      <td>Movie</td>\n",
              "      <td>Zubaan</td>\n",
              "      <td>Mozez Singh</td>\n",
              "      <td>Vicky Kaushal, Sarah-Jane Dias, Raaghav Chanan...</td>\n",
              "      <td>India</td>\n",
              "      <td>2020-01-27</td>\n",
              "      <td>2015</td>\n",
              "      <td>TV-14</td>\n",
              "      <td>111 min</td>\n",
              "      <td>A scrappy but poor boy worms his way into a ty...</td>\n",
              "      <td>Music &amp; Musicals</td>\n",
              "    </tr>\n",
              "  </tbody>\n",
              "</table>\n",
              "<p>19130 rows × 12 columns</p>\n",
              "</div>\n",
              "      <button class=\"colab-df-convert\" onclick=\"convertToInteractive('df-02f3ba94-21f6-483e-ba95-8fc28546bbc0')\"\n",
              "              title=\"Convert this dataframe to an interactive table.\"\n",
              "              style=\"display:none;\">\n",
              "        \n",
              "  <svg xmlns=\"http://www.w3.org/2000/svg\" height=\"24px\"viewBox=\"0 0 24 24\"\n",
              "       width=\"24px\">\n",
              "    <path d=\"M0 0h24v24H0V0z\" fill=\"none\"/>\n",
              "    <path d=\"M18.56 5.44l.94 2.06.94-2.06 2.06-.94-2.06-.94-.94-2.06-.94 2.06-2.06.94zm-11 1L8.5 8.5l.94-2.06 2.06-.94-2.06-.94L8.5 2.5l-.94 2.06-2.06.94zm10 10l.94 2.06.94-2.06 2.06-.94-2.06-.94-.94-2.06-.94 2.06-2.06.94z\"/><path d=\"M17.41 7.96l-1.37-1.37c-.4-.4-.92-.59-1.43-.59-.52 0-1.04.2-1.43.59L10.3 9.45l-7.72 7.72c-.78.78-.78 2.05 0 2.83L4 21.41c.39.39.9.59 1.41.59.51 0 1.02-.2 1.41-.59l7.78-7.78 2.81-2.81c.8-.78.8-2.07 0-2.86zM5.41 20L4 18.59l7.72-7.72 1.47 1.35L5.41 20z\"/>\n",
              "  </svg>\n",
              "      </button>\n",
              "      \n",
              "  <style>\n",
              "    .colab-df-container {\n",
              "      display:flex;\n",
              "      flex-wrap:wrap;\n",
              "      gap: 12px;\n",
              "    }\n",
              "\n",
              "    .colab-df-convert {\n",
              "      background-color: #E8F0FE;\n",
              "      border: none;\n",
              "      border-radius: 50%;\n",
              "      cursor: pointer;\n",
              "      display: none;\n",
              "      fill: #1967D2;\n",
              "      height: 32px;\n",
              "      padding: 0 0 0 0;\n",
              "      width: 32px;\n",
              "    }\n",
              "\n",
              "    .colab-df-convert:hover {\n",
              "      background-color: #E2EBFA;\n",
              "      box-shadow: 0px 1px 2px rgba(60, 64, 67, 0.3), 0px 1px 3px 1px rgba(60, 64, 67, 0.15);\n",
              "      fill: #174EA6;\n",
              "    }\n",
              "\n",
              "    [theme=dark] .colab-df-convert {\n",
              "      background-color: #3B4455;\n",
              "      fill: #D2E3FC;\n",
              "    }\n",
              "\n",
              "    [theme=dark] .colab-df-convert:hover {\n",
              "      background-color: #434B5C;\n",
              "      box-shadow: 0px 1px 3px 1px rgba(0, 0, 0, 0.15);\n",
              "      filter: drop-shadow(0px 1px 2px rgba(0, 0, 0, 0.3));\n",
              "      fill: #FFFFFF;\n",
              "    }\n",
              "  </style>\n",
              "\n",
              "      <script>\n",
              "        const buttonEl =\n",
              "          document.querySelector('#df-02f3ba94-21f6-483e-ba95-8fc28546bbc0 button.colab-df-convert');\n",
              "        buttonEl.style.display =\n",
              "          google.colab.kernel.accessAllowed ? 'block' : 'none';\n",
              "\n",
              "        async function convertToInteractive(key) {\n",
              "          const element = document.querySelector('#df-02f3ba94-21f6-483e-ba95-8fc28546bbc0');\n",
              "          const dataTable =\n",
              "            await google.colab.kernel.invokeFunction('convertToInteractive',\n",
              "                                                     [key], {});\n",
              "          if (!dataTable) return;\n",
              "\n",
              "          const docLinkHtml = 'Like what you see? Visit the ' +\n",
              "            '<a target=\"_blank\" href=https://colab.research.google.com/notebooks/data_table.ipynb>data table notebook</a>'\n",
              "            + ' to learn more about interactive tables.';\n",
              "          element.innerHTML = '';\n",
              "          dataTable['output_type'] = 'display_data';\n",
              "          await google.colab.output.renderOutput(dataTable, element);\n",
              "          const docLink = document.createElement('div');\n",
              "          docLink.innerHTML = docLinkHtml;\n",
              "          element.appendChild(docLink);\n",
              "        }\n",
              "      </script>\n",
              "    </div>\n",
              "  </div>\n",
              "  "
            ]
          },
          "metadata": {},
          "execution_count": 96
        }
      ]
    },
    {
      "cell_type": "code",
      "source": [
        "cast_unested = df4[\"cast\"].str.split(\",\",expand=True).add_prefix('cast')\n",
        "df4= pd. merge(df4,cast_unested , left_index=True, right_index=True)\n",
        "df4.drop(\"cast\",axis=1,inplace=True)\n",
        "df4=pd.melt(df4, id_vars=['show_id', 'type', 'title', 'director', 'country', 'date_added',\n",
        "       'release_year', 'rating', 'duration', 'description','listed_in'],value_name ='cast').drop(\"variable\",axis=1)\n",
        "df4.dropna(subset=['cast'],inplace=True)\n",
        "df4"
      ],
      "metadata": {
        "colab": {
          "base_uri": "https://localhost:8080/",
          "height": 641
        },
        "id": "BcZTu5QJyREg",
        "outputId": "5ec45200-c8e5-4e50-e706-3a678d97ac9b"
      },
      "execution_count": null,
      "outputs": [
        {
          "output_type": "execute_result",
          "data": {
            "text/plain": [
              "       show_id     type                 title            director  \\\n",
              "0           s1    Movie  Dick Johnson Is Dead     Kirsten Johnson   \n",
              "1           s2  TV Show         Blood & Water  Michel Tikhomiroff   \n",
              "2           s3  TV Show             Ganglands     Julien Leclercq   \n",
              "3           s5  TV Show          Kota Factory           BB Sasore   \n",
              "4           s6  TV Show         Midnight Mass       Mike Flanagan   \n",
              "...        ...      ...                   ...                 ...   \n",
              "939180   s1855  TV Show       Social Distance   Jay Chandrasekhar   \n",
              "941075   s3775  TV Show          Black Mirror  Philippa Lowthorpe   \n",
              "947461   s1855  TV Show       Social Distance   Jay Chandrasekhar   \n",
              "949012   s3775  TV Show          Black Mirror  Philippa Lowthorpe   \n",
              "954448   s3775  TV Show          Black Mirror  Philippa Lowthorpe   \n",
              "\n",
              "               country date_added  release_year rating   duration  \\\n",
              "0        United States 2021-09-25          2020  PG-13     90 min   \n",
              "1         South Africa 2021-09-24          2021  TV-MA  2 Seasons   \n",
              "2        United States 2021-09-24          2021  TV-MA   1 Season   \n",
              "3                India 2021-09-24          2021  TV-MA  2 Seasons   \n",
              "4        United States 2021-09-24          2021  TV-MA   1 Season   \n",
              "...                ...        ...           ...    ...        ...   \n",
              "939180   United States 2020-10-22          2020  TV-MA   1 Season   \n",
              "941075  United Kingdom 2019-06-28          2019  TV-MA  5 Seasons   \n",
              "947461   United States 2020-10-22          2020  TV-MA   1 Season   \n",
              "949012  United Kingdom 2019-06-28          2019  TV-MA  5 Seasons   \n",
              "954448  United Kingdom 2019-06-28          2019  TV-MA  5 Seasons   \n",
              "\n",
              "                                              description  \\\n",
              "0       As her father nears the end of his life, filmm...   \n",
              "1       After crossing paths at a party, a Cape Town t...   \n",
              "2       To protect his family from a powerful drug lor...   \n",
              "3       In a city of coaching centers known to train I...   \n",
              "4       The arrival of a charismatic young priest brin...   \n",
              "...                                                   ...   \n",
              "939180  Filmed in isolation, this narrative anthology ...   \n",
              "941075  This sci-fi anthology series explores a twiste...   \n",
              "947461  Filmed in isolation, this narrative anthology ...   \n",
              "949012  This sci-fi anthology series explores a twiste...   \n",
              "954448  This sci-fi anthology series explores a twiste...   \n",
              "\n",
              "                      listed_in           cast  \n",
              "0                 Documentaries  Craig Sechler  \n",
              "1        International TV Shows     Ama Qamata  \n",
              "2                Crime TV Shows  Sami Bouajila  \n",
              "3        International TV Shows     Mayur More  \n",
              "4                     TV Dramas    Kate Siegel  \n",
              "...                         ...            ...  \n",
              "939180              TV Comedies   Lovie Simone  \n",
              "941075         British TV Shows     Rafe Spall  \n",
              "947461                TV Dramas   Lovie Simone  \n",
              "949012   International TV Shows     Rafe Spall  \n",
              "954448                TV Dramas     Rafe Spall  \n",
              "\n",
              "[151288 rows x 12 columns]"
            ],
            "text/html": [
              "\n",
              "  <div id=\"df-7e10f3dc-afe7-4dad-bdc4-d80ec5ba8d68\">\n",
              "    <div class=\"colab-df-container\">\n",
              "      <div>\n",
              "<style scoped>\n",
              "    .dataframe tbody tr th:only-of-type {\n",
              "        vertical-align: middle;\n",
              "    }\n",
              "\n",
              "    .dataframe tbody tr th {\n",
              "        vertical-align: top;\n",
              "    }\n",
              "\n",
              "    .dataframe thead th {\n",
              "        text-align: right;\n",
              "    }\n",
              "</style>\n",
              "<table border=\"1\" class=\"dataframe\">\n",
              "  <thead>\n",
              "    <tr style=\"text-align: right;\">\n",
              "      <th></th>\n",
              "      <th>show_id</th>\n",
              "      <th>type</th>\n",
              "      <th>title</th>\n",
              "      <th>director</th>\n",
              "      <th>country</th>\n",
              "      <th>date_added</th>\n",
              "      <th>release_year</th>\n",
              "      <th>rating</th>\n",
              "      <th>duration</th>\n",
              "      <th>description</th>\n",
              "      <th>listed_in</th>\n",
              "      <th>cast</th>\n",
              "    </tr>\n",
              "  </thead>\n",
              "  <tbody>\n",
              "    <tr>\n",
              "      <th>0</th>\n",
              "      <td>s1</td>\n",
              "      <td>Movie</td>\n",
              "      <td>Dick Johnson Is Dead</td>\n",
              "      <td>Kirsten Johnson</td>\n",
              "      <td>United States</td>\n",
              "      <td>2021-09-25</td>\n",
              "      <td>2020</td>\n",
              "      <td>PG-13</td>\n",
              "      <td>90 min</td>\n",
              "      <td>As her father nears the end of his life, filmm...</td>\n",
              "      <td>Documentaries</td>\n",
              "      <td>Craig Sechler</td>\n",
              "    </tr>\n",
              "    <tr>\n",
              "      <th>1</th>\n",
              "      <td>s2</td>\n",
              "      <td>TV Show</td>\n",
              "      <td>Blood &amp; Water</td>\n",
              "      <td>Michel Tikhomiroff</td>\n",
              "      <td>South Africa</td>\n",
              "      <td>2021-09-24</td>\n",
              "      <td>2021</td>\n",
              "      <td>TV-MA</td>\n",
              "      <td>2 Seasons</td>\n",
              "      <td>After crossing paths at a party, a Cape Town t...</td>\n",
              "      <td>International TV Shows</td>\n",
              "      <td>Ama Qamata</td>\n",
              "    </tr>\n",
              "    <tr>\n",
              "      <th>2</th>\n",
              "      <td>s3</td>\n",
              "      <td>TV Show</td>\n",
              "      <td>Ganglands</td>\n",
              "      <td>Julien Leclercq</td>\n",
              "      <td>United States</td>\n",
              "      <td>2021-09-24</td>\n",
              "      <td>2021</td>\n",
              "      <td>TV-MA</td>\n",
              "      <td>1 Season</td>\n",
              "      <td>To protect his family from a powerful drug lor...</td>\n",
              "      <td>Crime TV Shows</td>\n",
              "      <td>Sami Bouajila</td>\n",
              "    </tr>\n",
              "    <tr>\n",
              "      <th>3</th>\n",
              "      <td>s5</td>\n",
              "      <td>TV Show</td>\n",
              "      <td>Kota Factory</td>\n",
              "      <td>BB Sasore</td>\n",
              "      <td>India</td>\n",
              "      <td>2021-09-24</td>\n",
              "      <td>2021</td>\n",
              "      <td>TV-MA</td>\n",
              "      <td>2 Seasons</td>\n",
              "      <td>In a city of coaching centers known to train I...</td>\n",
              "      <td>International TV Shows</td>\n",
              "      <td>Mayur More</td>\n",
              "    </tr>\n",
              "    <tr>\n",
              "      <th>4</th>\n",
              "      <td>s6</td>\n",
              "      <td>TV Show</td>\n",
              "      <td>Midnight Mass</td>\n",
              "      <td>Mike Flanagan</td>\n",
              "      <td>United States</td>\n",
              "      <td>2021-09-24</td>\n",
              "      <td>2021</td>\n",
              "      <td>TV-MA</td>\n",
              "      <td>1 Season</td>\n",
              "      <td>The arrival of a charismatic young priest brin...</td>\n",
              "      <td>TV Dramas</td>\n",
              "      <td>Kate Siegel</td>\n",
              "    </tr>\n",
              "    <tr>\n",
              "      <th>...</th>\n",
              "      <td>...</td>\n",
              "      <td>...</td>\n",
              "      <td>...</td>\n",
              "      <td>...</td>\n",
              "      <td>...</td>\n",
              "      <td>...</td>\n",
              "      <td>...</td>\n",
              "      <td>...</td>\n",
              "      <td>...</td>\n",
              "      <td>...</td>\n",
              "      <td>...</td>\n",
              "      <td>...</td>\n",
              "    </tr>\n",
              "    <tr>\n",
              "      <th>939180</th>\n",
              "      <td>s1855</td>\n",
              "      <td>TV Show</td>\n",
              "      <td>Social Distance</td>\n",
              "      <td>Jay Chandrasekhar</td>\n",
              "      <td>United States</td>\n",
              "      <td>2020-10-22</td>\n",
              "      <td>2020</td>\n",
              "      <td>TV-MA</td>\n",
              "      <td>1 Season</td>\n",
              "      <td>Filmed in isolation, this narrative anthology ...</td>\n",
              "      <td>TV Comedies</td>\n",
              "      <td>Lovie Simone</td>\n",
              "    </tr>\n",
              "    <tr>\n",
              "      <th>941075</th>\n",
              "      <td>s3775</td>\n",
              "      <td>TV Show</td>\n",
              "      <td>Black Mirror</td>\n",
              "      <td>Philippa Lowthorpe</td>\n",
              "      <td>United Kingdom</td>\n",
              "      <td>2019-06-28</td>\n",
              "      <td>2019</td>\n",
              "      <td>TV-MA</td>\n",
              "      <td>5 Seasons</td>\n",
              "      <td>This sci-fi anthology series explores a twiste...</td>\n",
              "      <td>British TV Shows</td>\n",
              "      <td>Rafe Spall</td>\n",
              "    </tr>\n",
              "    <tr>\n",
              "      <th>947461</th>\n",
              "      <td>s1855</td>\n",
              "      <td>TV Show</td>\n",
              "      <td>Social Distance</td>\n",
              "      <td>Jay Chandrasekhar</td>\n",
              "      <td>United States</td>\n",
              "      <td>2020-10-22</td>\n",
              "      <td>2020</td>\n",
              "      <td>TV-MA</td>\n",
              "      <td>1 Season</td>\n",
              "      <td>Filmed in isolation, this narrative anthology ...</td>\n",
              "      <td>TV Dramas</td>\n",
              "      <td>Lovie Simone</td>\n",
              "    </tr>\n",
              "    <tr>\n",
              "      <th>949012</th>\n",
              "      <td>s3775</td>\n",
              "      <td>TV Show</td>\n",
              "      <td>Black Mirror</td>\n",
              "      <td>Philippa Lowthorpe</td>\n",
              "      <td>United Kingdom</td>\n",
              "      <td>2019-06-28</td>\n",
              "      <td>2019</td>\n",
              "      <td>TV-MA</td>\n",
              "      <td>5 Seasons</td>\n",
              "      <td>This sci-fi anthology series explores a twiste...</td>\n",
              "      <td>International TV Shows</td>\n",
              "      <td>Rafe Spall</td>\n",
              "    </tr>\n",
              "    <tr>\n",
              "      <th>954448</th>\n",
              "      <td>s3775</td>\n",
              "      <td>TV Show</td>\n",
              "      <td>Black Mirror</td>\n",
              "      <td>Philippa Lowthorpe</td>\n",
              "      <td>United Kingdom</td>\n",
              "      <td>2019-06-28</td>\n",
              "      <td>2019</td>\n",
              "      <td>TV-MA</td>\n",
              "      <td>5 Seasons</td>\n",
              "      <td>This sci-fi anthology series explores a twiste...</td>\n",
              "      <td>TV Dramas</td>\n",
              "      <td>Rafe Spall</td>\n",
              "    </tr>\n",
              "  </tbody>\n",
              "</table>\n",
              "<p>151288 rows × 12 columns</p>\n",
              "</div>\n",
              "      <button class=\"colab-df-convert\" onclick=\"convertToInteractive('df-7e10f3dc-afe7-4dad-bdc4-d80ec5ba8d68')\"\n",
              "              title=\"Convert this dataframe to an interactive table.\"\n",
              "              style=\"display:none;\">\n",
              "        \n",
              "  <svg xmlns=\"http://www.w3.org/2000/svg\" height=\"24px\"viewBox=\"0 0 24 24\"\n",
              "       width=\"24px\">\n",
              "    <path d=\"M0 0h24v24H0V0z\" fill=\"none\"/>\n",
              "    <path d=\"M18.56 5.44l.94 2.06.94-2.06 2.06-.94-2.06-.94-.94-2.06-.94 2.06-2.06.94zm-11 1L8.5 8.5l.94-2.06 2.06-.94-2.06-.94L8.5 2.5l-.94 2.06-2.06.94zm10 10l.94 2.06.94-2.06 2.06-.94-2.06-.94-.94-2.06-.94 2.06-2.06.94z\"/><path d=\"M17.41 7.96l-1.37-1.37c-.4-.4-.92-.59-1.43-.59-.52 0-1.04.2-1.43.59L10.3 9.45l-7.72 7.72c-.78.78-.78 2.05 0 2.83L4 21.41c.39.39.9.59 1.41.59.51 0 1.02-.2 1.41-.59l7.78-7.78 2.81-2.81c.8-.78.8-2.07 0-2.86zM5.41 20L4 18.59l7.72-7.72 1.47 1.35L5.41 20z\"/>\n",
              "  </svg>\n",
              "      </button>\n",
              "      \n",
              "  <style>\n",
              "    .colab-df-container {\n",
              "      display:flex;\n",
              "      flex-wrap:wrap;\n",
              "      gap: 12px;\n",
              "    }\n",
              "\n",
              "    .colab-df-convert {\n",
              "      background-color: #E8F0FE;\n",
              "      border: none;\n",
              "      border-radius: 50%;\n",
              "      cursor: pointer;\n",
              "      display: none;\n",
              "      fill: #1967D2;\n",
              "      height: 32px;\n",
              "      padding: 0 0 0 0;\n",
              "      width: 32px;\n",
              "    }\n",
              "\n",
              "    .colab-df-convert:hover {\n",
              "      background-color: #E2EBFA;\n",
              "      box-shadow: 0px 1px 2px rgba(60, 64, 67, 0.3), 0px 1px 3px 1px rgba(60, 64, 67, 0.15);\n",
              "      fill: #174EA6;\n",
              "    }\n",
              "\n",
              "    [theme=dark] .colab-df-convert {\n",
              "      background-color: #3B4455;\n",
              "      fill: #D2E3FC;\n",
              "    }\n",
              "\n",
              "    [theme=dark] .colab-df-convert:hover {\n",
              "      background-color: #434B5C;\n",
              "      box-shadow: 0px 1px 3px 1px rgba(0, 0, 0, 0.15);\n",
              "      filter: drop-shadow(0px 1px 2px rgba(0, 0, 0, 0.3));\n",
              "      fill: #FFFFFF;\n",
              "    }\n",
              "  </style>\n",
              "\n",
              "      <script>\n",
              "        const buttonEl =\n",
              "          document.querySelector('#df-7e10f3dc-afe7-4dad-bdc4-d80ec5ba8d68 button.colab-df-convert');\n",
              "        buttonEl.style.display =\n",
              "          google.colab.kernel.accessAllowed ? 'block' : 'none';\n",
              "\n",
              "        async function convertToInteractive(key) {\n",
              "          const element = document.querySelector('#df-7e10f3dc-afe7-4dad-bdc4-d80ec5ba8d68');\n",
              "          const dataTable =\n",
              "            await google.colab.kernel.invokeFunction('convertToInteractive',\n",
              "                                                     [key], {});\n",
              "          if (!dataTable) return;\n",
              "\n",
              "          const docLinkHtml = 'Like what you see? Visit the ' +\n",
              "            '<a target=\"_blank\" href=https://colab.research.google.com/notebooks/data_table.ipynb>data table notebook</a>'\n",
              "            + ' to learn more about interactive tables.';\n",
              "          element.innerHTML = '';\n",
              "          dataTable['output_type'] = 'display_data';\n",
              "          await google.colab.output.renderOutput(dataTable, element);\n",
              "          const docLink = document.createElement('div');\n",
              "          docLink.innerHTML = docLinkHtml;\n",
              "          element.appendChild(docLink);\n",
              "        }\n",
              "      </script>\n",
              "    </div>\n",
              "  </div>\n",
              "  "
            ]
          },
          "metadata": {},
          "execution_count": 97
        }
      ]
    },
    {
      "cell_type": "code",
      "source": [
        "df2 = df4\n",
        "df1 = df4\n",
        "df3 = df4"
      ],
      "metadata": {
        "id": "31DYBGSBI5Bi"
      },
      "execution_count": null,
      "outputs": []
    },
    {
      "cell_type": "code",
      "source": [
        "unnest_coloumn = df1[\"director\"].str.split(\",\",expand=True).add_prefix('director') # expand = True creates coloumns instead od keeping it in list format | .add_prefix('listed_in') will add prefix to new colomn\n",
        "\n",
        "df2 = df1.merge(unnest_coloumn, left_index=True, right_index=True)\n",
        "\n",
        "df2.drop(\"director\",axis=1,inplace=True)\n",
        "\n",
        "df3=pd.melt(df2, id_vars=['show_id', 'type', 'title', 'listed_in', 'cast', 'country', 'date_added','release_year', 'rating', 'duration', 'description']\n",
        "            ,value_name ='director').drop(\"variable\",axis=1)\n",
        "\n",
        "df3.dropna(subset=['director'],inplace=True)\n",
        "df1 = df3\n",
        "df3.info()"
      ],
      "metadata": {
        "colab": {
          "base_uri": "https://localhost:8080/"
        },
        "id": "Raw9i-CEJYQF",
        "outputId": "985b9ec2-808c-46c0-f72f-91c40c78f224"
      },
      "execution_count": null,
      "outputs": [
        {
          "output_type": "stream",
          "name": "stdout",
          "text": [
            "<class 'pandas.core.frame.DataFrame'>\n",
            "Int64Index: 168211 entries, 0 to 1962014\n",
            "Data columns (total 12 columns):\n",
            " #   Column        Non-Null Count   Dtype         \n",
            "---  ------        --------------   -----         \n",
            " 0   show_id       168211 non-null  object        \n",
            " 1   type          168211 non-null  object        \n",
            " 2   title         168211 non-null  object        \n",
            " 3   listed_in     168211 non-null  object        \n",
            " 4   cast          168211 non-null  object        \n",
            " 5   country       168211 non-null  object        \n",
            " 6   date_added    168063 non-null  datetime64[ns]\n",
            " 7   release_year  168211 non-null  int64         \n",
            " 8   rating        168211 non-null  object        \n",
            " 9   duration      168211 non-null  object        \n",
            " 10  description   168211 non-null  object        \n",
            " 11  director      168211 non-null  object        \n",
            "dtypes: datetime64[ns](1), int64(1), object(10)\n",
            "memory usage: 16.7+ MB\n"
          ]
        }
      ]
    },
    {
      "cell_type": "code",
      "source": [
        "unnest_coloumn = df1[\"country\"].str.split(\",\",expand=True).add_prefix('country') # expand = True creates coloumns instead od keeping it in list format | .add_prefix('listed_in') will add prefix to new colomn\n",
        "\n",
        "df2 = df1.merge(unnest_coloumn, left_index=True, right_index=True)\n",
        "\n",
        "df2.drop(\"country\",axis=1,inplace=True)\n",
        "\n",
        "df3=pd.melt(df2, id_vars=['show_id', 'type', 'title', 'director', 'cast', 'listed_in', 'date_added','release_year', 'rating', 'duration', 'description']\n",
        "            ,value_name ='country').drop(\"variable\",axis=1)\n",
        "df3.dropna(subset=['country'],inplace=True)\n",
        "df1 = df3\n",
        "df1.info()"
      ],
      "metadata": {
        "colab": {
          "base_uri": "https://localhost:8080/"
        },
        "id": "zp1EgFsYJ6Kh",
        "outputId": "d6c5405c-1522-47f2-9d4d-63b1f8f95f52"
      },
      "execution_count": null,
      "outputs": [
        {
          "output_type": "stream",
          "name": "stdout",
          "text": [
            "<class 'pandas.core.frame.DataFrame'>\n",
            "Int64Index: 210281 entries, 0 to 1863790\n",
            "Data columns (total 12 columns):\n",
            " #   Column        Non-Null Count   Dtype         \n",
            "---  ------        --------------   -----         \n",
            " 0   show_id       210281 non-null  object        \n",
            " 1   type          210281 non-null  object        \n",
            " 2   title         210281 non-null  object        \n",
            " 3   director      210281 non-null  object        \n",
            " 4   cast          210281 non-null  object        \n",
            " 5   listed_in     210281 non-null  object        \n",
            " 6   date_added    210085 non-null  datetime64[ns]\n",
            " 7   release_year  210281 non-null  int64         \n",
            " 8   rating        210281 non-null  object        \n",
            " 9   duration      210281 non-null  object        \n",
            " 10  description   210281 non-null  object        \n",
            " 11  country       210281 non-null  object        \n",
            "dtypes: datetime64[ns](1), int64(1), object(10)\n",
            "memory usage: 20.9+ MB\n"
          ]
        }
      ]
    },
    {
      "cell_type": "code",
      "source": [
        "df1[\"country\"].value_counts().head(10)"
      ],
      "metadata": {
        "id": "96UtrSGlGYYJ",
        "colab": {
          "base_uri": "https://localhost:8080/"
        },
        "outputId": "8c5354b0-1b90-4f82-aab7-16a55a7504a6"
      },
      "execution_count": null,
      "outputs": [
        {
          "output_type": "execute_result",
          "data": {
            "text/plain": [
              "United States     62885\n",
              "India             23249\n",
              "United Kingdom    10138\n",
              " United States     9819\n",
              "Japan              7378\n",
              "South Korea        5766\n",
              "France             4856\n",
              "Canada             4567\n",
              "Spain              4301\n",
              " France            4104\n",
              "Name: country, dtype: int64"
            ]
          },
          "metadata": {},
          "execution_count": 101
        }
      ]
    },
    {
      "cell_type": "markdown",
      "source": [
        "We can see that countries have duplicates values in it and have some spaces before it which are to be handled usig strip function and then delete the duplicates"
      ],
      "metadata": {
        "id": "L499WN89Uo2O"
      }
    },
    {
      "cell_type": "code",
      "source": [
        "df1[\"cast\"] = df1[\"cast\"].str.strip()\n",
        "df1['listed_in'] = df1[\"listed_in\"].str.strip()\n",
        "df1['director'] = df1[\"director\"].str.strip()\n",
        "df1['country'] = df1[\"country\"].str.strip()\n",
        "\n",
        "df1.drop_duplicates(keep=\"first\",inplace=True)\n",
        "df1.info()"
      ],
      "metadata": {
        "colab": {
          "base_uri": "https://localhost:8080/"
        },
        "id": "jBI6B5MaLuRj",
        "outputId": "256bfa6d-a046-424a-a7c4-161c9ee84ea9"
      },
      "execution_count": null,
      "outputs": [
        {
          "output_type": "stream",
          "name": "stdout",
          "text": [
            "<class 'pandas.core.frame.DataFrame'>\n",
            "Int64Index: 210226 entries, 0 to 1863790\n",
            "Data columns (total 12 columns):\n",
            " #   Column        Non-Null Count   Dtype         \n",
            "---  ------        --------------   -----         \n",
            " 0   show_id       210226 non-null  object        \n",
            " 1   type          210226 non-null  object        \n",
            " 2   title         210226 non-null  object        \n",
            " 3   director      210226 non-null  object        \n",
            " 4   cast          210226 non-null  object        \n",
            " 5   listed_in     210226 non-null  object        \n",
            " 6   date_added    210030 non-null  datetime64[ns]\n",
            " 7   release_year  210226 non-null  int64         \n",
            " 8   rating        210226 non-null  object        \n",
            " 9   duration      210226 non-null  object        \n",
            " 10  description   210226 non-null  object        \n",
            " 11  country       210226 non-null  object        \n",
            "dtypes: datetime64[ns](1), int64(1), object(10)\n",
            "memory usage: 20.9+ MB\n"
          ]
        }
      ]
    },
    {
      "cell_type": "code",
      "source": [
        "df1[\"country\"].value_counts().head(10)"
      ],
      "metadata": {
        "colab": {
          "base_uri": "https://localhost:8080/"
        },
        "id": "aGcdKGk8Sv1c",
        "outputId": "10fb43d6-14b9-454c-fb30-c7b08298398a"
      },
      "execution_count": null,
      "outputs": [
        {
          "output_type": "execute_result",
          "data": {
            "text/plain": [
              "United States     72679\n",
              "India             23970\n",
              "United Kingdom    13466\n",
              "France             8958\n",
              "Japan              8784\n",
              "Canada             8157\n",
              "South Korea        6219\n",
              "Spain              5398\n",
              "Germany            4488\n",
              "Mexico             4193\n",
              "Name: country, dtype: int64"
            ]
          },
          "metadata": {},
          "execution_count": 103
        }
      ]
    },
    {
      "cell_type": "markdown",
      "source": [
        "All the duplicates are removed and unesting is done."
      ],
      "metadata": {
        "id": "OQ1xAlbIV59d"
      }
    },
    {
      "cell_type": "code",
      "source": [
        "df1.head(5)"
      ],
      "metadata": {
        "colab": {
          "base_uri": "https://localhost:8080/",
          "height": 337
        },
        "id": "2LVhGjZ9M5r6",
        "outputId": "a6b912a1-3b78-4232-aec9-3af12607c17e"
      },
      "execution_count": null,
      "outputs": [
        {
          "output_type": "execute_result",
          "data": {
            "text/plain": [
              "  show_id     type                 title            director           cast  \\\n",
              "0      s1    Movie  Dick Johnson Is Dead     Kirsten Johnson  Craig Sechler   \n",
              "1      s2  TV Show         Blood & Water  Michel Tikhomiroff     Ama Qamata   \n",
              "2      s3  TV Show             Ganglands     Julien Leclercq  Sami Bouajila   \n",
              "3      s5  TV Show          Kota Factory           BB Sasore     Mayur More   \n",
              "4      s6  TV Show         Midnight Mass       Mike Flanagan    Kate Siegel   \n",
              "\n",
              "                listed_in date_added  release_year rating   duration  \\\n",
              "0           Documentaries 2021-09-25          2020  PG-13     90 min   \n",
              "1  International TV Shows 2021-09-24          2021  TV-MA  2 Seasons   \n",
              "2          Crime TV Shows 2021-09-24          2021  TV-MA   1 Season   \n",
              "3  International TV Shows 2021-09-24          2021  TV-MA  2 Seasons   \n",
              "4               TV Dramas 2021-09-24          2021  TV-MA   1 Season   \n",
              "\n",
              "                                         description        country  \n",
              "0  As her father nears the end of his life, filmm...  United States  \n",
              "1  After crossing paths at a party, a Cape Town t...   South Africa  \n",
              "2  To protect his family from a powerful drug lor...  United States  \n",
              "3  In a city of coaching centers known to train I...          India  \n",
              "4  The arrival of a charismatic young priest brin...  United States  "
            ],
            "text/html": [
              "\n",
              "  <div id=\"df-1484e325-df69-41f9-a663-e05989550121\">\n",
              "    <div class=\"colab-df-container\">\n",
              "      <div>\n",
              "<style scoped>\n",
              "    .dataframe tbody tr th:only-of-type {\n",
              "        vertical-align: middle;\n",
              "    }\n",
              "\n",
              "    .dataframe tbody tr th {\n",
              "        vertical-align: top;\n",
              "    }\n",
              "\n",
              "    .dataframe thead th {\n",
              "        text-align: right;\n",
              "    }\n",
              "</style>\n",
              "<table border=\"1\" class=\"dataframe\">\n",
              "  <thead>\n",
              "    <tr style=\"text-align: right;\">\n",
              "      <th></th>\n",
              "      <th>show_id</th>\n",
              "      <th>type</th>\n",
              "      <th>title</th>\n",
              "      <th>director</th>\n",
              "      <th>cast</th>\n",
              "      <th>listed_in</th>\n",
              "      <th>date_added</th>\n",
              "      <th>release_year</th>\n",
              "      <th>rating</th>\n",
              "      <th>duration</th>\n",
              "      <th>description</th>\n",
              "      <th>country</th>\n",
              "    </tr>\n",
              "  </thead>\n",
              "  <tbody>\n",
              "    <tr>\n",
              "      <th>0</th>\n",
              "      <td>s1</td>\n",
              "      <td>Movie</td>\n",
              "      <td>Dick Johnson Is Dead</td>\n",
              "      <td>Kirsten Johnson</td>\n",
              "      <td>Craig Sechler</td>\n",
              "      <td>Documentaries</td>\n",
              "      <td>2021-09-25</td>\n",
              "      <td>2020</td>\n",
              "      <td>PG-13</td>\n",
              "      <td>90 min</td>\n",
              "      <td>As her father nears the end of his life, filmm...</td>\n",
              "      <td>United States</td>\n",
              "    </tr>\n",
              "    <tr>\n",
              "      <th>1</th>\n",
              "      <td>s2</td>\n",
              "      <td>TV Show</td>\n",
              "      <td>Blood &amp; Water</td>\n",
              "      <td>Michel Tikhomiroff</td>\n",
              "      <td>Ama Qamata</td>\n",
              "      <td>International TV Shows</td>\n",
              "      <td>2021-09-24</td>\n",
              "      <td>2021</td>\n",
              "      <td>TV-MA</td>\n",
              "      <td>2 Seasons</td>\n",
              "      <td>After crossing paths at a party, a Cape Town t...</td>\n",
              "      <td>South Africa</td>\n",
              "    </tr>\n",
              "    <tr>\n",
              "      <th>2</th>\n",
              "      <td>s3</td>\n",
              "      <td>TV Show</td>\n",
              "      <td>Ganglands</td>\n",
              "      <td>Julien Leclercq</td>\n",
              "      <td>Sami Bouajila</td>\n",
              "      <td>Crime TV Shows</td>\n",
              "      <td>2021-09-24</td>\n",
              "      <td>2021</td>\n",
              "      <td>TV-MA</td>\n",
              "      <td>1 Season</td>\n",
              "      <td>To protect his family from a powerful drug lor...</td>\n",
              "      <td>United States</td>\n",
              "    </tr>\n",
              "    <tr>\n",
              "      <th>3</th>\n",
              "      <td>s5</td>\n",
              "      <td>TV Show</td>\n",
              "      <td>Kota Factory</td>\n",
              "      <td>BB Sasore</td>\n",
              "      <td>Mayur More</td>\n",
              "      <td>International TV Shows</td>\n",
              "      <td>2021-09-24</td>\n",
              "      <td>2021</td>\n",
              "      <td>TV-MA</td>\n",
              "      <td>2 Seasons</td>\n",
              "      <td>In a city of coaching centers known to train I...</td>\n",
              "      <td>India</td>\n",
              "    </tr>\n",
              "    <tr>\n",
              "      <th>4</th>\n",
              "      <td>s6</td>\n",
              "      <td>TV Show</td>\n",
              "      <td>Midnight Mass</td>\n",
              "      <td>Mike Flanagan</td>\n",
              "      <td>Kate Siegel</td>\n",
              "      <td>TV Dramas</td>\n",
              "      <td>2021-09-24</td>\n",
              "      <td>2021</td>\n",
              "      <td>TV-MA</td>\n",
              "      <td>1 Season</td>\n",
              "      <td>The arrival of a charismatic young priest brin...</td>\n",
              "      <td>United States</td>\n",
              "    </tr>\n",
              "  </tbody>\n",
              "</table>\n",
              "</div>\n",
              "      <button class=\"colab-df-convert\" onclick=\"convertToInteractive('df-1484e325-df69-41f9-a663-e05989550121')\"\n",
              "              title=\"Convert this dataframe to an interactive table.\"\n",
              "              style=\"display:none;\">\n",
              "        \n",
              "  <svg xmlns=\"http://www.w3.org/2000/svg\" height=\"24px\"viewBox=\"0 0 24 24\"\n",
              "       width=\"24px\">\n",
              "    <path d=\"M0 0h24v24H0V0z\" fill=\"none\"/>\n",
              "    <path d=\"M18.56 5.44l.94 2.06.94-2.06 2.06-.94-2.06-.94-.94-2.06-.94 2.06-2.06.94zm-11 1L8.5 8.5l.94-2.06 2.06-.94-2.06-.94L8.5 2.5l-.94 2.06-2.06.94zm10 10l.94 2.06.94-2.06 2.06-.94-2.06-.94-.94-2.06-.94 2.06-2.06.94z\"/><path d=\"M17.41 7.96l-1.37-1.37c-.4-.4-.92-.59-1.43-.59-.52 0-1.04.2-1.43.59L10.3 9.45l-7.72 7.72c-.78.78-.78 2.05 0 2.83L4 21.41c.39.39.9.59 1.41.59.51 0 1.02-.2 1.41-.59l7.78-7.78 2.81-2.81c.8-.78.8-2.07 0-2.86zM5.41 20L4 18.59l7.72-7.72 1.47 1.35L5.41 20z\"/>\n",
              "  </svg>\n",
              "      </button>\n",
              "      \n",
              "  <style>\n",
              "    .colab-df-container {\n",
              "      display:flex;\n",
              "      flex-wrap:wrap;\n",
              "      gap: 12px;\n",
              "    }\n",
              "\n",
              "    .colab-df-convert {\n",
              "      background-color: #E8F0FE;\n",
              "      border: none;\n",
              "      border-radius: 50%;\n",
              "      cursor: pointer;\n",
              "      display: none;\n",
              "      fill: #1967D2;\n",
              "      height: 32px;\n",
              "      padding: 0 0 0 0;\n",
              "      width: 32px;\n",
              "    }\n",
              "\n",
              "    .colab-df-convert:hover {\n",
              "      background-color: #E2EBFA;\n",
              "      box-shadow: 0px 1px 2px rgba(60, 64, 67, 0.3), 0px 1px 3px 1px rgba(60, 64, 67, 0.15);\n",
              "      fill: #174EA6;\n",
              "    }\n",
              "\n",
              "    [theme=dark] .colab-df-convert {\n",
              "      background-color: #3B4455;\n",
              "      fill: #D2E3FC;\n",
              "    }\n",
              "\n",
              "    [theme=dark] .colab-df-convert:hover {\n",
              "      background-color: #434B5C;\n",
              "      box-shadow: 0px 1px 3px 1px rgba(0, 0, 0, 0.15);\n",
              "      filter: drop-shadow(0px 1px 2px rgba(0, 0, 0, 0.3));\n",
              "      fill: #FFFFFF;\n",
              "    }\n",
              "  </style>\n",
              "\n",
              "      <script>\n",
              "        const buttonEl =\n",
              "          document.querySelector('#df-1484e325-df69-41f9-a663-e05989550121 button.colab-df-convert');\n",
              "        buttonEl.style.display =\n",
              "          google.colab.kernel.accessAllowed ? 'block' : 'none';\n",
              "\n",
              "        async function convertToInteractive(key) {\n",
              "          const element = document.querySelector('#df-1484e325-df69-41f9-a663-e05989550121');\n",
              "          const dataTable =\n",
              "            await google.colab.kernel.invokeFunction('convertToInteractive',\n",
              "                                                     [key], {});\n",
              "          if (!dataTable) return;\n",
              "\n",
              "          const docLinkHtml = 'Like what you see? Visit the ' +\n",
              "            '<a target=\"_blank\" href=https://colab.research.google.com/notebooks/data_table.ipynb>data table notebook</a>'\n",
              "            + ' to learn more about interactive tables.';\n",
              "          element.innerHTML = '';\n",
              "          dataTable['output_type'] = 'display_data';\n",
              "          await google.colab.output.renderOutput(dataTable, element);\n",
              "          const docLink = document.createElement('div');\n",
              "          docLink.innerHTML = docLinkHtml;\n",
              "          element.appendChild(docLink);\n",
              "        }\n",
              "      </script>\n",
              "    </div>\n",
              "  </div>\n",
              "  "
            ]
          },
          "metadata": {},
          "execution_count": 104
        }
      ]
    },
    {
      "cell_type": "markdown",
      "source": [
        "# **Handling duration column**\n",
        "Creating a separate dataframe for movies and TV Shows for further analysis"
      ],
      "metadata": {
        "id": "qjkvNmx6WhTZ"
      }
    },
    {
      "cell_type": "code",
      "source": [
        "movies_df = df1[df1['type'] == 'Movie']\n",
        "movies_df['duration'] = movies_df['duration'].str.split().apply(lambda x : x[0])\n",
        "movies_df.head()     # Movies df contains all the details of movies"
      ],
      "metadata": {
        "colab": {
          "base_uri": "https://localhost:8080/",
          "height": 337
        },
        "id": "AaNtf-0IWYsl",
        "outputId": "97842d52-8a85-423e-8837-bf3ae2ed0904"
      },
      "execution_count": null,
      "outputs": [
        {
          "output_type": "execute_result",
          "data": {
            "text/plain": [
              "   show_id   type                             title             director  \\\n",
              "0       s1  Movie              Dick Johnson Is Dead      Kirsten Johnson   \n",
              "5       s7  Movie  My Little Pony: A New Generation        Robert Cullen   \n",
              "6       s8  Movie                           Sankofa         Haile Gerima   \n",
              "8      s10  Movie                      The Starling       Theodore Melfi   \n",
              "10     s13  Movie                      Je Suis Karl  Christian Schwochow   \n",
              "\n",
              "                cast                 listed_in date_added  release_year  \\\n",
              "0      Craig Sechler             Documentaries 2021-09-25          2020   \n",
              "5    Vanessa Hudgens  Children & Family Movies 2021-09-24          2021   \n",
              "6       Kofi Ghanaba                    Dramas 2021-09-24          1993   \n",
              "8   Melissa McCarthy                  Comedies 2021-09-24          2021   \n",
              "10       Luna Wedler                    Dramas 2021-09-24          2021   \n",
              "\n",
              "   rating duration                                        description  \\\n",
              "0   PG-13       90  As her father nears the end of his life, filmm...   \n",
              "5      PG       91  Equestria's divided. But a bright-eyed hero be...   \n",
              "6   TV-MA      125  On a photo shoot in Ghana, an American model s...   \n",
              "8   PG-13      104  A woman adjusting to life after a loss contend...   \n",
              "10  TV-MA      127  After most of her family is murdered in a terr...   \n",
              "\n",
              "          country  \n",
              "0   United States  \n",
              "5   United States  \n",
              "6   United States  \n",
              "8   United States  \n",
              "10        Germany  "
            ],
            "text/html": [
              "\n",
              "  <div id=\"df-0d965766-82ad-47ee-a125-125c0ac4d625\">\n",
              "    <div class=\"colab-df-container\">\n",
              "      <div>\n",
              "<style scoped>\n",
              "    .dataframe tbody tr th:only-of-type {\n",
              "        vertical-align: middle;\n",
              "    }\n",
              "\n",
              "    .dataframe tbody tr th {\n",
              "        vertical-align: top;\n",
              "    }\n",
              "\n",
              "    .dataframe thead th {\n",
              "        text-align: right;\n",
              "    }\n",
              "</style>\n",
              "<table border=\"1\" class=\"dataframe\">\n",
              "  <thead>\n",
              "    <tr style=\"text-align: right;\">\n",
              "      <th></th>\n",
              "      <th>show_id</th>\n",
              "      <th>type</th>\n",
              "      <th>title</th>\n",
              "      <th>director</th>\n",
              "      <th>cast</th>\n",
              "      <th>listed_in</th>\n",
              "      <th>date_added</th>\n",
              "      <th>release_year</th>\n",
              "      <th>rating</th>\n",
              "      <th>duration</th>\n",
              "      <th>description</th>\n",
              "      <th>country</th>\n",
              "    </tr>\n",
              "  </thead>\n",
              "  <tbody>\n",
              "    <tr>\n",
              "      <th>0</th>\n",
              "      <td>s1</td>\n",
              "      <td>Movie</td>\n",
              "      <td>Dick Johnson Is Dead</td>\n",
              "      <td>Kirsten Johnson</td>\n",
              "      <td>Craig Sechler</td>\n",
              "      <td>Documentaries</td>\n",
              "      <td>2021-09-25</td>\n",
              "      <td>2020</td>\n",
              "      <td>PG-13</td>\n",
              "      <td>90</td>\n",
              "      <td>As her father nears the end of his life, filmm...</td>\n",
              "      <td>United States</td>\n",
              "    </tr>\n",
              "    <tr>\n",
              "      <th>5</th>\n",
              "      <td>s7</td>\n",
              "      <td>Movie</td>\n",
              "      <td>My Little Pony: A New Generation</td>\n",
              "      <td>Robert Cullen</td>\n",
              "      <td>Vanessa Hudgens</td>\n",
              "      <td>Children &amp; Family Movies</td>\n",
              "      <td>2021-09-24</td>\n",
              "      <td>2021</td>\n",
              "      <td>PG</td>\n",
              "      <td>91</td>\n",
              "      <td>Equestria's divided. But a bright-eyed hero be...</td>\n",
              "      <td>United States</td>\n",
              "    </tr>\n",
              "    <tr>\n",
              "      <th>6</th>\n",
              "      <td>s8</td>\n",
              "      <td>Movie</td>\n",
              "      <td>Sankofa</td>\n",
              "      <td>Haile Gerima</td>\n",
              "      <td>Kofi Ghanaba</td>\n",
              "      <td>Dramas</td>\n",
              "      <td>2021-09-24</td>\n",
              "      <td>1993</td>\n",
              "      <td>TV-MA</td>\n",
              "      <td>125</td>\n",
              "      <td>On a photo shoot in Ghana, an American model s...</td>\n",
              "      <td>United States</td>\n",
              "    </tr>\n",
              "    <tr>\n",
              "      <th>8</th>\n",
              "      <td>s10</td>\n",
              "      <td>Movie</td>\n",
              "      <td>The Starling</td>\n",
              "      <td>Theodore Melfi</td>\n",
              "      <td>Melissa McCarthy</td>\n",
              "      <td>Comedies</td>\n",
              "      <td>2021-09-24</td>\n",
              "      <td>2021</td>\n",
              "      <td>PG-13</td>\n",
              "      <td>104</td>\n",
              "      <td>A woman adjusting to life after a loss contend...</td>\n",
              "      <td>United States</td>\n",
              "    </tr>\n",
              "    <tr>\n",
              "      <th>10</th>\n",
              "      <td>s13</td>\n",
              "      <td>Movie</td>\n",
              "      <td>Je Suis Karl</td>\n",
              "      <td>Christian Schwochow</td>\n",
              "      <td>Luna Wedler</td>\n",
              "      <td>Dramas</td>\n",
              "      <td>2021-09-24</td>\n",
              "      <td>2021</td>\n",
              "      <td>TV-MA</td>\n",
              "      <td>127</td>\n",
              "      <td>After most of her family is murdered in a terr...</td>\n",
              "      <td>Germany</td>\n",
              "    </tr>\n",
              "  </tbody>\n",
              "</table>\n",
              "</div>\n",
              "      <button class=\"colab-df-convert\" onclick=\"convertToInteractive('df-0d965766-82ad-47ee-a125-125c0ac4d625')\"\n",
              "              title=\"Convert this dataframe to an interactive table.\"\n",
              "              style=\"display:none;\">\n",
              "        \n",
              "  <svg xmlns=\"http://www.w3.org/2000/svg\" height=\"24px\"viewBox=\"0 0 24 24\"\n",
              "       width=\"24px\">\n",
              "    <path d=\"M0 0h24v24H0V0z\" fill=\"none\"/>\n",
              "    <path d=\"M18.56 5.44l.94 2.06.94-2.06 2.06-.94-2.06-.94-.94-2.06-.94 2.06-2.06.94zm-11 1L8.5 8.5l.94-2.06 2.06-.94-2.06-.94L8.5 2.5l-.94 2.06-2.06.94zm10 10l.94 2.06.94-2.06 2.06-.94-2.06-.94-.94-2.06-.94 2.06-2.06.94z\"/><path d=\"M17.41 7.96l-1.37-1.37c-.4-.4-.92-.59-1.43-.59-.52 0-1.04.2-1.43.59L10.3 9.45l-7.72 7.72c-.78.78-.78 2.05 0 2.83L4 21.41c.39.39.9.59 1.41.59.51 0 1.02-.2 1.41-.59l7.78-7.78 2.81-2.81c.8-.78.8-2.07 0-2.86zM5.41 20L4 18.59l7.72-7.72 1.47 1.35L5.41 20z\"/>\n",
              "  </svg>\n",
              "      </button>\n",
              "      \n",
              "  <style>\n",
              "    .colab-df-container {\n",
              "      display:flex;\n",
              "      flex-wrap:wrap;\n",
              "      gap: 12px;\n",
              "    }\n",
              "\n",
              "    .colab-df-convert {\n",
              "      background-color: #E8F0FE;\n",
              "      border: none;\n",
              "      border-radius: 50%;\n",
              "      cursor: pointer;\n",
              "      display: none;\n",
              "      fill: #1967D2;\n",
              "      height: 32px;\n",
              "      padding: 0 0 0 0;\n",
              "      width: 32px;\n",
              "    }\n",
              "\n",
              "    .colab-df-convert:hover {\n",
              "      background-color: #E2EBFA;\n",
              "      box-shadow: 0px 1px 2px rgba(60, 64, 67, 0.3), 0px 1px 3px 1px rgba(60, 64, 67, 0.15);\n",
              "      fill: #174EA6;\n",
              "    }\n",
              "\n",
              "    [theme=dark] .colab-df-convert {\n",
              "      background-color: #3B4455;\n",
              "      fill: #D2E3FC;\n",
              "    }\n",
              "\n",
              "    [theme=dark] .colab-df-convert:hover {\n",
              "      background-color: #434B5C;\n",
              "      box-shadow: 0px 1px 3px 1px rgba(0, 0, 0, 0.15);\n",
              "      filter: drop-shadow(0px 1px 2px rgba(0, 0, 0, 0.3));\n",
              "      fill: #FFFFFF;\n",
              "    }\n",
              "  </style>\n",
              "\n",
              "      <script>\n",
              "        const buttonEl =\n",
              "          document.querySelector('#df-0d965766-82ad-47ee-a125-125c0ac4d625 button.colab-df-convert');\n",
              "        buttonEl.style.display =\n",
              "          google.colab.kernel.accessAllowed ? 'block' : 'none';\n",
              "\n",
              "        async function convertToInteractive(key) {\n",
              "          const element = document.querySelector('#df-0d965766-82ad-47ee-a125-125c0ac4d625');\n",
              "          const dataTable =\n",
              "            await google.colab.kernel.invokeFunction('convertToInteractive',\n",
              "                                                     [key], {});\n",
              "          if (!dataTable) return;\n",
              "\n",
              "          const docLinkHtml = 'Like what you see? Visit the ' +\n",
              "            '<a target=\"_blank\" href=https://colab.research.google.com/notebooks/data_table.ipynb>data table notebook</a>'\n",
              "            + ' to learn more about interactive tables.';\n",
              "          element.innerHTML = '';\n",
              "          dataTable['output_type'] = 'display_data';\n",
              "          await google.colab.output.renderOutput(dataTable, element);\n",
              "          const docLink = document.createElement('div');\n",
              "          docLink.innerHTML = docLinkHtml;\n",
              "          element.appendChild(docLink);\n",
              "        }\n",
              "      </script>\n",
              "    </div>\n",
              "  </div>\n",
              "  "
            ]
          },
          "metadata": {},
          "execution_count": 105
        }
      ]
    },
    {
      "cell_type": "code",
      "source": [
        "TV_df = df1[df1['type'] == 'TV Show']\n",
        "TV_df['duration'] = TV_df['duration'].str.split().apply(lambda x : x[0])\n",
        "XYZ = TV_df\n",
        "TV_df.head()  # TV df has data of all the TV Shows"
      ],
      "metadata": {
        "colab": {
          "base_uri": "https://localhost:8080/",
          "height": 337
        },
        "id": "xDyrouJSY99j",
        "outputId": "0771c891-6237-46dc-e98f-78226f785844"
      },
      "execution_count": null,
      "outputs": [
        {
          "output_type": "execute_result",
          "data": {
            "text/plain": [
              "  show_id     type                          title            director  \\\n",
              "1      s2  TV Show                  Blood & Water  Michel Tikhomiroff   \n",
              "2      s3  TV Show                      Ganglands     Julien Leclercq   \n",
              "3      s5  TV Show                   Kota Factory           BB Sasore   \n",
              "4      s6  TV Show                  Midnight Mass       Mike Flanagan   \n",
              "7      s9  TV Show  The Great British Baking Show     Andy Devonshire   \n",
              "\n",
              "            cast               listed_in date_added  release_year rating  \\\n",
              "1     Ama Qamata  International TV Shows 2021-09-24          2021  TV-MA   \n",
              "2  Sami Bouajila          Crime TV Shows 2021-09-24          2021  TV-MA   \n",
              "3     Mayur More  International TV Shows 2021-09-24          2021  TV-MA   \n",
              "4    Kate Siegel               TV Dramas 2021-09-24          2021  TV-MA   \n",
              "7   Mel Giedroyc        British TV Shows 2021-09-24          2021  TV-14   \n",
              "\n",
              "  duration                                        description         country  \n",
              "1        2  After crossing paths at a party, a Cape Town t...    South Africa  \n",
              "2        1  To protect his family from a powerful drug lor...   United States  \n",
              "3        2  In a city of coaching centers known to train I...           India  \n",
              "4        1  The arrival of a charismatic young priest brin...   United States  \n",
              "7        9  A talented batch of amateur bakers face off in...  United Kingdom  "
            ],
            "text/html": [
              "\n",
              "  <div id=\"df-f912d2f9-ef4b-426d-8781-de6f2ca773c5\">\n",
              "    <div class=\"colab-df-container\">\n",
              "      <div>\n",
              "<style scoped>\n",
              "    .dataframe tbody tr th:only-of-type {\n",
              "        vertical-align: middle;\n",
              "    }\n",
              "\n",
              "    .dataframe tbody tr th {\n",
              "        vertical-align: top;\n",
              "    }\n",
              "\n",
              "    .dataframe thead th {\n",
              "        text-align: right;\n",
              "    }\n",
              "</style>\n",
              "<table border=\"1\" class=\"dataframe\">\n",
              "  <thead>\n",
              "    <tr style=\"text-align: right;\">\n",
              "      <th></th>\n",
              "      <th>show_id</th>\n",
              "      <th>type</th>\n",
              "      <th>title</th>\n",
              "      <th>director</th>\n",
              "      <th>cast</th>\n",
              "      <th>listed_in</th>\n",
              "      <th>date_added</th>\n",
              "      <th>release_year</th>\n",
              "      <th>rating</th>\n",
              "      <th>duration</th>\n",
              "      <th>description</th>\n",
              "      <th>country</th>\n",
              "    </tr>\n",
              "  </thead>\n",
              "  <tbody>\n",
              "    <tr>\n",
              "      <th>1</th>\n",
              "      <td>s2</td>\n",
              "      <td>TV Show</td>\n",
              "      <td>Blood &amp; Water</td>\n",
              "      <td>Michel Tikhomiroff</td>\n",
              "      <td>Ama Qamata</td>\n",
              "      <td>International TV Shows</td>\n",
              "      <td>2021-09-24</td>\n",
              "      <td>2021</td>\n",
              "      <td>TV-MA</td>\n",
              "      <td>2</td>\n",
              "      <td>After crossing paths at a party, a Cape Town t...</td>\n",
              "      <td>South Africa</td>\n",
              "    </tr>\n",
              "    <tr>\n",
              "      <th>2</th>\n",
              "      <td>s3</td>\n",
              "      <td>TV Show</td>\n",
              "      <td>Ganglands</td>\n",
              "      <td>Julien Leclercq</td>\n",
              "      <td>Sami Bouajila</td>\n",
              "      <td>Crime TV Shows</td>\n",
              "      <td>2021-09-24</td>\n",
              "      <td>2021</td>\n",
              "      <td>TV-MA</td>\n",
              "      <td>1</td>\n",
              "      <td>To protect his family from a powerful drug lor...</td>\n",
              "      <td>United States</td>\n",
              "    </tr>\n",
              "    <tr>\n",
              "      <th>3</th>\n",
              "      <td>s5</td>\n",
              "      <td>TV Show</td>\n",
              "      <td>Kota Factory</td>\n",
              "      <td>BB Sasore</td>\n",
              "      <td>Mayur More</td>\n",
              "      <td>International TV Shows</td>\n",
              "      <td>2021-09-24</td>\n",
              "      <td>2021</td>\n",
              "      <td>TV-MA</td>\n",
              "      <td>2</td>\n",
              "      <td>In a city of coaching centers known to train I...</td>\n",
              "      <td>India</td>\n",
              "    </tr>\n",
              "    <tr>\n",
              "      <th>4</th>\n",
              "      <td>s6</td>\n",
              "      <td>TV Show</td>\n",
              "      <td>Midnight Mass</td>\n",
              "      <td>Mike Flanagan</td>\n",
              "      <td>Kate Siegel</td>\n",
              "      <td>TV Dramas</td>\n",
              "      <td>2021-09-24</td>\n",
              "      <td>2021</td>\n",
              "      <td>TV-MA</td>\n",
              "      <td>1</td>\n",
              "      <td>The arrival of a charismatic young priest brin...</td>\n",
              "      <td>United States</td>\n",
              "    </tr>\n",
              "    <tr>\n",
              "      <th>7</th>\n",
              "      <td>s9</td>\n",
              "      <td>TV Show</td>\n",
              "      <td>The Great British Baking Show</td>\n",
              "      <td>Andy Devonshire</td>\n",
              "      <td>Mel Giedroyc</td>\n",
              "      <td>British TV Shows</td>\n",
              "      <td>2021-09-24</td>\n",
              "      <td>2021</td>\n",
              "      <td>TV-14</td>\n",
              "      <td>9</td>\n",
              "      <td>A talented batch of amateur bakers face off in...</td>\n",
              "      <td>United Kingdom</td>\n",
              "    </tr>\n",
              "  </tbody>\n",
              "</table>\n",
              "</div>\n",
              "      <button class=\"colab-df-convert\" onclick=\"convertToInteractive('df-f912d2f9-ef4b-426d-8781-de6f2ca773c5')\"\n",
              "              title=\"Convert this dataframe to an interactive table.\"\n",
              "              style=\"display:none;\">\n",
              "        \n",
              "  <svg xmlns=\"http://www.w3.org/2000/svg\" height=\"24px\"viewBox=\"0 0 24 24\"\n",
              "       width=\"24px\">\n",
              "    <path d=\"M0 0h24v24H0V0z\" fill=\"none\"/>\n",
              "    <path d=\"M18.56 5.44l.94 2.06.94-2.06 2.06-.94-2.06-.94-.94-2.06-.94 2.06-2.06.94zm-11 1L8.5 8.5l.94-2.06 2.06-.94-2.06-.94L8.5 2.5l-.94 2.06-2.06.94zm10 10l.94 2.06.94-2.06 2.06-.94-2.06-.94-.94-2.06-.94 2.06-2.06.94z\"/><path d=\"M17.41 7.96l-1.37-1.37c-.4-.4-.92-.59-1.43-.59-.52 0-1.04.2-1.43.59L10.3 9.45l-7.72 7.72c-.78.78-.78 2.05 0 2.83L4 21.41c.39.39.9.59 1.41.59.51 0 1.02-.2 1.41-.59l7.78-7.78 2.81-2.81c.8-.78.8-2.07 0-2.86zM5.41 20L4 18.59l7.72-7.72 1.47 1.35L5.41 20z\"/>\n",
              "  </svg>\n",
              "      </button>\n",
              "      \n",
              "  <style>\n",
              "    .colab-df-container {\n",
              "      display:flex;\n",
              "      flex-wrap:wrap;\n",
              "      gap: 12px;\n",
              "    }\n",
              "\n",
              "    .colab-df-convert {\n",
              "      background-color: #E8F0FE;\n",
              "      border: none;\n",
              "      border-radius: 50%;\n",
              "      cursor: pointer;\n",
              "      display: none;\n",
              "      fill: #1967D2;\n",
              "      height: 32px;\n",
              "      padding: 0 0 0 0;\n",
              "      width: 32px;\n",
              "    }\n",
              "\n",
              "    .colab-df-convert:hover {\n",
              "      background-color: #E2EBFA;\n",
              "      box-shadow: 0px 1px 2px rgba(60, 64, 67, 0.3), 0px 1px 3px 1px rgba(60, 64, 67, 0.15);\n",
              "      fill: #174EA6;\n",
              "    }\n",
              "\n",
              "    [theme=dark] .colab-df-convert {\n",
              "      background-color: #3B4455;\n",
              "      fill: #D2E3FC;\n",
              "    }\n",
              "\n",
              "    [theme=dark] .colab-df-convert:hover {\n",
              "      background-color: #434B5C;\n",
              "      box-shadow: 0px 1px 3px 1px rgba(0, 0, 0, 0.15);\n",
              "      filter: drop-shadow(0px 1px 2px rgba(0, 0, 0, 0.3));\n",
              "      fill: #FFFFFF;\n",
              "    }\n",
              "  </style>\n",
              "\n",
              "      <script>\n",
              "        const buttonEl =\n",
              "          document.querySelector('#df-f912d2f9-ef4b-426d-8781-de6f2ca773c5 button.colab-df-convert');\n",
              "        buttonEl.style.display =\n",
              "          google.colab.kernel.accessAllowed ? 'block' : 'none';\n",
              "\n",
              "        async function convertToInteractive(key) {\n",
              "          const element = document.querySelector('#df-f912d2f9-ef4b-426d-8781-de6f2ca773c5');\n",
              "          const dataTable =\n",
              "            await google.colab.kernel.invokeFunction('convertToInteractive',\n",
              "                                                     [key], {});\n",
              "          if (!dataTable) return;\n",
              "\n",
              "          const docLinkHtml = 'Like what you see? Visit the ' +\n",
              "            '<a target=\"_blank\" href=https://colab.research.google.com/notebooks/data_table.ipynb>data table notebook</a>'\n",
              "            + ' to learn more about interactive tables.';\n",
              "          element.innerHTML = '';\n",
              "          dataTable['output_type'] = 'display_data';\n",
              "          await google.colab.output.renderOutput(dataTable, element);\n",
              "          const docLink = document.createElement('div');\n",
              "          docLink.innerHTML = docLinkHtml;\n",
              "          element.appendChild(docLink);\n",
              "        }\n",
              "      </script>\n",
              "    </div>\n",
              "  </div>\n",
              "  "
            ]
          },
          "metadata": {},
          "execution_count": 106
        }
      ]
    },
    {
      "cell_type": "markdown",
      "source": [
        "**Insights based on Non-Graphical and Visual Analysis**"
      ],
      "metadata": {
        "id": "RT6BbYOCH2ox"
      }
    },
    {
      "cell_type": "code",
      "source": [
        "df1 = df1.rename(columns={\"listed_in\":\"genre\"}) #renaming the column listed_in to genre for further analysis\n",
        "palette = ['#221F1F', '#B20710', '#E50914','#F5F5F1'] #seting the palette with red and black\n",
        "sns.set_palette(palette)\n"
      ],
      "metadata": {
        "id": "I95yKQFgHnyM"
      },
      "execution_count": null,
      "outputs": []
    },
    {
      "cell_type": "markdown",
      "source": [
        "**Comparing movies and tv shows in the given netflix dataset**"
      ],
      "metadata": {
        "id": "pWFUTJFLTjZN"
      }
    },
    {
      "cell_type": "code",
      "source": [
        "df[\"type\"].value_counts()"
      ],
      "metadata": {
        "colab": {
          "base_uri": "https://localhost:8080/"
        },
        "id": "oqaFOUyNTXYm",
        "outputId": "c53197ec-756a-42b3-82b2-a84fa7e73ec0"
      },
      "execution_count": null,
      "outputs": [
        {
          "output_type": "execute_result",
          "data": {
            "text/plain": [
              "Movie      6131\n",
              "TV Show    2676\n",
              "Name: type, dtype: int64"
            ]
          },
          "metadata": {},
          "execution_count": 108
        }
      ]
    },
    {
      "cell_type": "code",
      "source": [
        "data = df1\n",
        "data = data.drop_duplicates(\"title\")\n",
        "\n",
        "sns.countplot(data = data, x=\"type\") # Dodget Bar Chart\n",
        "plt.title(\"TV Shows V/S Movies\" , fontsize = 30 ,  loc=\"left\",\n",
        "          fontstyle='italic', color= 'black')\n",
        "plt.grid()\n",
        "plt.show()"
      ],
      "metadata": {
        "colab": {
          "base_uri": "https://localhost:8080/",
          "height": 308
        },
        "id": "umo3hZqORgXz",
        "outputId": "8e7b6b10-25b9-4185-88a1-e7c21078c5db"
      },
      "execution_count": null,
      "outputs": [
        {
          "output_type": "display_data",
          "data": {
            "text/plain": [
              "<Figure size 432x288 with 1 Axes>"
            ],
            "image/png": "[encoded data removed]"
          },
          "metadata": {
            "needs_background": "light"
          }
        }
      ]
    },
    {
      "cell_type": "markdown",
      "source": [
        "Netflix has produced more number of movies than TV shows."
      ],
      "metadata": {
        "id": "65CwKEsUWHPg"
      }
    },
    {
      "cell_type": "markdown",
      "source": [
        "**Most popular genre in movies and tv shows**"
      ],
      "metadata": {
        "id": "qkRr03stCCFA"
      }
    },
    {
      "cell_type": "code",
      "source": [
        "#List of all the genre of movies present in Netflix\n",
        "movies_df[\"listed_in\"].unique()"
      ],
      "metadata": {
        "colab": {
          "base_uri": "https://localhost:8080/"
        },
        "id": "YOdTGapcVRwt",
        "outputId": "9df24141-7b76-4ef5-b2b4-14625d5dd001"
      },
      "execution_count": null,
      "outputs": [
        {
          "output_type": "execute_result",
          "data": {
            "text/plain": [
              "array(['Documentaries', 'Children & Family Movies', 'Dramas', 'Comedies',\n",
              "       'Thrillers', 'Horror Movies', 'Action & Adventure',\n",
              "       'International Movies', 'Sci-Fi & Fantasy', 'Classic Movies',\n",
              "       'Stand-Up Comedy', 'Movies', 'Anime Features', 'Cult Movies',\n",
              "       'Independent Movies', 'Music & Musicals', 'Romantic Movies',\n",
              "       'LGBTQ Movies', 'Sports Movies', 'Faith & Spirituality'],\n",
              "      dtype=object)"
            ]
          },
          "metadata": {},
          "execution_count": 110
        }
      ]
    },
    {
      "cell_type": "code",
      "source": [
        "len(movies_df[\"listed_in\"].unique())"
      ],
      "metadata": {
        "colab": {
          "base_uri": "https://localhost:8080/"
        },
        "id": "lB7WXgRrWjn7",
        "outputId": "d95727cd-627e-49d3-8c19-b22f0551bc51"
      },
      "execution_count": null,
      "outputs": [
        {
          "output_type": "execute_result",
          "data": {
            "text/plain": [
              "20"
            ]
          },
          "metadata": {},
          "execution_count": 111
        }
      ]
    },
    {
      "cell_type": "markdown",
      "source": [
        "There are 20 different genre present in movies\n"
      ],
      "metadata": {
        "id": "7d9I31FAW1PW"
      }
    },
    {
      "cell_type": "code",
      "source": [
        "#Most popular genre in movies\n",
        "\n",
        "sns.countplot(data = movies_df, x=\"listed_in\") # Dodget Bar Chart\n",
        "plt.xlabel(\"Genre\")\n",
        "plt.title(\"Most popular genre in movies\" , fontsize = 15 ,  loc=\"left\",\n",
        "          fontstyle='italic', color= 'black')\n",
        "plt.xticks(rotation= 90)\n",
        "plt.grid()\n",
        "plt.show()"
      ],
      "metadata": {
        "colab": {
          "base_uri": "https://localhost:8080/",
          "height": 413
        },
        "id": "_YAmss1vWzow",
        "outputId": "6a7f8b7d-7234-4312-90a2-fcf4ac68ed8a"
      },
      "execution_count": null,
      "outputs": [
        {
          "output_type": "display_data",
          "data": {
            "text/plain": [
              "<Figure size 432x288 with 1 Axes>"
            ],
            "image/png": "[encoded data removed]"
          },
          "metadata": {
            "needs_background": "light"
          }
        }
      ]
    },
    {
      "cell_type": "markdown",
      "source": [
        "Dramas , International movies ,Comedies, Action and adventure are the most popular genres produced by Netflix where as LGBTQ movies ,Faith & Spirituality and cult movies are least produced movies."
      ],
      "metadata": {
        "id": "OkuxsexzZ3_W"
      }
    },
    {
      "cell_type": "code",
      "source": [
        "#List of all the genre of TV_shows present in Netflix\n",
        "\n",
        "TV_df[\"listed_in\"].unique()"
      ],
      "metadata": {
        "colab": {
          "base_uri": "https://localhost:8080/"
        },
        "id": "kVc8PlEUelF6",
        "outputId": "44ad9eae-7989-4fb7-a94e-3293e18d4cc7"
      },
      "execution_count": null,
      "outputs": [
        {
          "output_type": "execute_result",
          "data": {
            "text/plain": [
              "array(['International TV Shows', 'Crime TV Shows', 'TV Dramas',\n",
              "       'British TV Shows', 'TV Comedies', 'Docuseries', \"Kids' TV\",\n",
              "       'Reality TV', 'Anime Series', 'TV Shows', 'TV Action & Adventure',\n",
              "       'Stand-Up Comedy & Talk Shows', 'Classic & Cult TV',\n",
              "       'Romantic TV Shows', 'TV Horror', 'Spanish-Language TV Shows',\n",
              "       'TV Sci-Fi & Fantasy', 'Korean TV Shows', 'Science & Nature TV',\n",
              "       'TV Mysteries', 'Teen TV Shows', 'TV Thrillers'], dtype=object)"
            ]
          },
          "metadata": {},
          "execution_count": 113
        }
      ]
    },
    {
      "cell_type": "code",
      "source": [
        "print(\"Number of different TV_show genres are \",  len(TV_df[\"listed_in\"].unique()))"
      ],
      "metadata": {
        "colab": {
          "base_uri": "https://localhost:8080/"
        },
        "id": "cfWvE25ceznP",
        "outputId": "cc2dd0f4-8ba8-430c-938d-ec7c2c245ccc"
      },
      "execution_count": null,
      "outputs": [
        {
          "output_type": "stream",
          "name": "stdout",
          "text": [
            "Number of different TV_show genres are  22\n"
          ]
        }
      ]
    },
    {
      "cell_type": "code",
      "source": [
        "#Most popular genre in TV Shows\n",
        "\n",
        "sns.countplot(data = TV_df, x=\"listed_in\") # Dodget Bar Chart\n",
        "plt.xlabel(\"Genre\")\n",
        "plt.title(\"Most popular genre in TV Shows\" , fontsize = 20 ,  loc=\"left\",\n",
        "          fontstyle='italic', color= 'black')\n",
        "plt.xticks(rotation= 90)\n",
        "plt.grid()\n",
        "plt.show()"
      ],
      "metadata": {
        "colab": {
          "base_uri": "https://localhost:8080/",
          "height": 449
        },
        "id": "Y0pQixudfUUH",
        "outputId": "fe6563a1-bc01-4ca2-d146-190762702ac5"
      },
      "execution_count": null,
      "outputs": [
        {
          "output_type": "display_data",
          "data": {
            "text/plain": [
              "<Figure size 432x288 with 1 Axes>"
            ],
            "image/png": "[encoded data removed]"
          },
          "metadata": {
            "needs_background": "light"
          }
        }
      ]
    },
    {
      "cell_type": "markdown",
      "source": [
        "As we can see from the above graph International TV Show is the most popular genre in TV Show and Science & Nature related TV Shows are viewed less by user and may be thats why they are least popular"
      ],
      "metadata": {
        "id": "TGi8h5vMfm6z"
      }
    },
    {
      "cell_type": "code",
      "source": [
        "df2 = pd.concat([movies_df, TV_df], axis=0) #concatenating both movies and tv shows dataframe for general analysis on content present in Netflis\n",
        "df2.reset_index(drop=True , inplace = True)\n",
        "df2['duration'] = df2['duration'].astype(int)\n",
        "df2 = df1.rename(columns={\"listed_in\":\"genre\"})\n",
        "df1 = df2\n",
        "df3 = df2\n",
        "df1.head()"
      ],
      "metadata": {
        "colab": {
          "base_uri": "https://localhost:8080/",
          "height": 337
        },
        "id": "oL9am943gEgx",
        "outputId": "6a808b35-0935-4c7a-b49e-7c4cc194f367"
      },
      "execution_count": null,
      "outputs": [
        {
          "output_type": "execute_result",
          "data": {
            "text/plain": [
              "  show_id     type                 title            director           cast  \\\n",
              "0      s1    Movie  Dick Johnson Is Dead     Kirsten Johnson  Craig Sechler   \n",
              "1      s2  TV Show         Blood & Water  Michel Tikhomiroff     Ama Qamata   \n",
              "2      s3  TV Show             Ganglands     Julien Leclercq  Sami Bouajila   \n",
              "3      s5  TV Show          Kota Factory           BB Sasore     Mayur More   \n",
              "4      s6  TV Show         Midnight Mass       Mike Flanagan    Kate Siegel   \n",
              "\n",
              "                    genre date_added  release_year rating   duration  \\\n",
              "0           Documentaries 2021-09-25          2020  PG-13     90 min   \n",
              "1  International TV Shows 2021-09-24          2021  TV-MA  2 Seasons   \n",
              "2          Crime TV Shows 2021-09-24          2021  TV-MA   1 Season   \n",
              "3  International TV Shows 2021-09-24          2021  TV-MA  2 Seasons   \n",
              "4               TV Dramas 2021-09-24          2021  TV-MA   1 Season   \n",
              "\n",
              "                                         description        country  \n",
              "0  As her father nears the end of his life, filmm...  United States  \n",
              "1  After crossing paths at a party, a Cape Town t...   South Africa  \n",
              "2  To protect his family from a powerful drug lor...  United States  \n",
              "3  In a city of coaching centers known to train I...          India  \n",
              "4  The arrival of a charismatic young priest brin...  United States  "
            ],
            "text/html": [
              "\n",
              "  <div id=\"df-dcdbf0a0-eafd-4bc3-8965-c22fc28029f6\">\n",
              "    <div class=\"colab-df-container\">\n",
              "      <div>\n",
              "<style scoped>\n",
              "    .dataframe tbody tr th:only-of-type {\n",
              "        vertical-align: middle;\n",
              "    }\n",
              "\n",
              "    .dataframe tbody tr th {\n",
              "        vertical-align: top;\n",
              "    }\n",
              "\n",
              "    .dataframe thead th {\n",
              "        text-align: right;\n",
              "    }\n",
              "</style>\n",
              "<table border=\"1\" class=\"dataframe\">\n",
              "  <thead>\n",
              "    <tr style=\"text-align: right;\">\n",
              "      <th></th>\n",
              "      <th>show_id</th>\n",
              "      <th>type</th>\n",
              "      <th>title</th>\n",
              "      <th>director</th>\n",
              "      <th>cast</th>\n",
              "      <th>genre</th>\n",
              "      <th>date_added</th>\n",
              "      <th>release_year</th>\n",
              "      <th>rating</th>\n",
              "      <th>duration</th>\n",
              "      <th>description</th>\n",
              "      <th>country</th>\n",
              "    </tr>\n",
              "  </thead>\n",
              "  <tbody>\n",
              "    <tr>\n",
              "      <th>0</th>\n",
              "      <td>s1</td>\n",
              "      <td>Movie</td>\n",
              "      <td>Dick Johnson Is Dead</td>\n",
              "      <td>Kirsten Johnson</td>\n",
              "      <td>Craig Sechler</td>\n",
              "      <td>Documentaries</td>\n",
              "      <td>2021-09-25</td>\n",
              "      <td>2020</td>\n",
              "      <td>PG-13</td>\n",
              "      <td>90 min</td>\n",
              "      <td>As her father nears the end of his life, filmm...</td>\n",
              "      <td>United States</td>\n",
              "    </tr>\n",
              "    <tr>\n",
              "      <th>1</th>\n",
              "      <td>s2</td>\n",
              "      <td>TV Show</td>\n",
              "      <td>Blood &amp; Water</td>\n",
              "      <td>Michel Tikhomiroff</td>\n",
              "      <td>Ama Qamata</td>\n",
              "      <td>International TV Shows</td>\n",
              "      <td>2021-09-24</td>\n",
              "      <td>2021</td>\n",
              "      <td>TV-MA</td>\n",
              "      <td>2 Seasons</td>\n",
              "      <td>After crossing paths at a party, a Cape Town t...</td>\n",
              "      <td>South Africa</td>\n",
              "    </tr>\n",
              "    <tr>\n",
              "      <th>2</th>\n",
              "      <td>s3</td>\n",
              "      <td>TV Show</td>\n",
              "      <td>Ganglands</td>\n",
              "      <td>Julien Leclercq</td>\n",
              "      <td>Sami Bouajila</td>\n",
              "      <td>Crime TV Shows</td>\n",
              "      <td>2021-09-24</td>\n",
              "      <td>2021</td>\n",
              "      <td>TV-MA</td>\n",
              "      <td>1 Season</td>\n",
              "      <td>To protect his family from a powerful drug lor...</td>\n",
              "      <td>United States</td>\n",
              "    </tr>\n",
              "    <tr>\n",
              "      <th>3</th>\n",
              "      <td>s5</td>\n",
              "      <td>TV Show</td>\n",
              "      <td>Kota Factory</td>\n",
              "      <td>BB Sasore</td>\n",
              "      <td>Mayur More</td>\n",
              "      <td>International TV Shows</td>\n",
              "      <td>2021-09-24</td>\n",
              "      <td>2021</td>\n",
              "      <td>TV-MA</td>\n",
              "      <td>2 Seasons</td>\n",
              "      <td>In a city of coaching centers known to train I...</td>\n",
              "      <td>India</td>\n",
              "    </tr>\n",
              "    <tr>\n",
              "      <th>4</th>\n",
              "      <td>s6</td>\n",
              "      <td>TV Show</td>\n",
              "      <td>Midnight Mass</td>\n",
              "      <td>Mike Flanagan</td>\n",
              "      <td>Kate Siegel</td>\n",
              "      <td>TV Dramas</td>\n",
              "      <td>2021-09-24</td>\n",
              "      <td>2021</td>\n",
              "      <td>TV-MA</td>\n",
              "      <td>1 Season</td>\n",
              "      <td>The arrival of a charismatic young priest brin...</td>\n",
              "      <td>United States</td>\n",
              "    </tr>\n",
              "  </tbody>\n",
              "</table>\n",
              "</div>\n",
              "      <button class=\"colab-df-convert\" onclick=\"convertToInteractive('df-dcdbf0a0-eafd-4bc3-8965-c22fc28029f6')\"\n",
              "              title=\"Convert this dataframe to an interactive table.\"\n",
              "              style=\"display:none;\">\n",
              "        \n",
              "  <svg xmlns=\"http://www.w3.org/2000/svg\" height=\"24px\"viewBox=\"0 0 24 24\"\n",
              "       width=\"24px\">\n",
              "    <path d=\"M0 0h24v24H0V0z\" fill=\"none\"/>\n",
              "    <path d=\"M18.56 5.44l.94 2.06.94-2.06 2.06-.94-2.06-.94-.94-2.06-.94 2.06-2.06.94zm-11 1L8.5 8.5l.94-2.06 2.06-.94-2.06-.94L8.5 2.5l-.94 2.06-2.06.94zm10 10l.94 2.06.94-2.06 2.06-.94-2.06-.94-.94-2.06-.94 2.06-2.06.94z\"/><path d=\"M17.41 7.96l-1.37-1.37c-.4-.4-.92-.59-1.43-.59-.52 0-1.04.2-1.43.59L10.3 9.45l-7.72 7.72c-.78.78-.78 2.05 0 2.83L4 21.41c.39.39.9.59 1.41.59.51 0 1.02-.2 1.41-.59l7.78-7.78 2.81-2.81c.8-.78.8-2.07 0-2.86zM5.41 20L4 18.59l7.72-7.72 1.47 1.35L5.41 20z\"/>\n",
              "  </svg>\n",
              "      </button>\n",
              "      \n",
              "  <style>\n",
              "    .colab-df-container {\n",
              "      display:flex;\n",
              "      flex-wrap:wrap;\n",
              "      gap: 12px;\n",
              "    }\n",
              "\n",
              "    .colab-df-convert {\n",
              "      background-color: #E8F0FE;\n",
              "      border: none;\n",
              "      border-radius: 50%;\n",
              "      cursor: pointer;\n",
              "      display: none;\n",
              "      fill: #1967D2;\n",
              "      height: 32px;\n",
              "      padding: 0 0 0 0;\n",
              "      width: 32px;\n",
              "    }\n",
              "\n",
              "    .colab-df-convert:hover {\n",
              "      background-color: #E2EBFA;\n",
              "      box-shadow: 0px 1px 2px rgba(60, 64, 67, 0.3), 0px 1px 3px 1px rgba(60, 64, 67, 0.15);\n",
              "      fill: #174EA6;\n",
              "    }\n",
              "\n",
              "    [theme=dark] .colab-df-convert {\n",
              "      background-color: #3B4455;\n",
              "      fill: #D2E3FC;\n",
              "    }\n",
              "\n",
              "    [theme=dark] .colab-df-convert:hover {\n",
              "      background-color: #434B5C;\n",
              "      box-shadow: 0px 1px 3px 1px rgba(0, 0, 0, 0.15);\n",
              "      filter: drop-shadow(0px 1px 2px rgba(0, 0, 0, 0.3));\n",
              "      fill: #FFFFFF;\n",
              "    }\n",
              "  </style>\n",
              "\n",
              "      <script>\n",
              "        const buttonEl =\n",
              "          document.querySelector('#df-dcdbf0a0-eafd-4bc3-8965-c22fc28029f6 button.colab-df-convert');\n",
              "        buttonEl.style.display =\n",
              "          google.colab.kernel.accessAllowed ? 'block' : 'none';\n",
              "\n",
              "        async function convertToInteractive(key) {\n",
              "          const element = document.querySelector('#df-dcdbf0a0-eafd-4bc3-8965-c22fc28029f6');\n",
              "          const dataTable =\n",
              "            await google.colab.kernel.invokeFunction('convertToInteractive',\n",
              "                                                     [key], {});\n",
              "          if (!dataTable) return;\n",
              "\n",
              "          const docLinkHtml = 'Like what you see? Visit the ' +\n",
              "            '<a target=\"_blank\" href=https://colab.research.google.com/notebooks/data_table.ipynb>data table notebook</a>'\n",
              "            + ' to learn more about interactive tables.';\n",
              "          element.innerHTML = '';\n",
              "          dataTable['output_type'] = 'display_data';\n",
              "          await google.colab.output.renderOutput(dataTable, element);\n",
              "          const docLink = document.createElement('div');\n",
              "          docLink.innerHTML = docLinkHtml;\n",
              "          element.appendChild(docLink);\n",
              "        }\n",
              "      </script>\n",
              "    </div>\n",
              "  </div>\n",
              "  "
            ]
          },
          "metadata": {},
          "execution_count": 116
        }
      ]
    },
    {
      "cell_type": "markdown",
      "source": [
        "**What type of content is available in different countries ?**"
      ],
      "metadata": {
        "id": "qB5sNpVsCRYB"
      }
    },
    {
      "cell_type": "code",
      "source": [
        "con = df1['country'].value_counts().head(15)\n",
        "con = con.reset_index()\n",
        "\n",
        "data = df1[df1['country'].isin(con['index'])]\n",
        "sns.countplot(data = data, x=\"country\", hue=\"type\") # Dodget Bar Chart\n",
        "plt.title(\"Countries v/s Content\" , fontsize = 20 ,  loc=\"left\",\n",
        "          fontstyle='italic', color= 'black')\n",
        "plt.xticks(rotation = 90)\n",
        "plt.show()"
      ],
      "metadata": {
        "colab": {
          "base_uri": "https://localhost:8080/",
          "height": 371
        },
        "id": "lByF-siIgk07",
        "outputId": "15bec08f-e5dc-4c5e-a997-58838637df7e"
      },
      "execution_count": null,
      "outputs": [
        {
          "output_type": "display_data",
          "data": {
            "text/plain": [
              "<Figure size 432x288 with 1 Axes>"
            ],
            "image/png": "[encoded data removed]"
          },
          "metadata": {
            "needs_background": "light"
          }
        }
      ]
    },
    {
      "cell_type": "markdown",
      "source": [
        "As seen in the above graph most of movies are produced in United States followed by India and United Kingdom.There is huge difference between TV shows and movies produced in United States which can mean that United States prefer watching movies than Tv shows. Countries like Japan ,South Korea has maximum TV Shows produced .Countries like Mexico produce equal amount of Movies and Tv shows.India has produced more movies compared to Tv shows."
      ],
      "metadata": {
        "id": "9QNef3pficWm"
      }
    },
    {
      "cell_type": "markdown",
      "source": [
        "**Top 5 Genre in United States and India**"
      ],
      "metadata": {
        "id": "Uct0EC-SuNpC"
      }
    },
    {
      "cell_type": "code",
      "source": [
        "#Top 5 genre in United States\n",
        "\n",
        "gen_us = df1[ (df1[\"country\"]==\"United States\")]\n",
        "gen = gen_us['genre'].value_counts().head(5)\n",
        "gen = gen.reset_index()\n",
        "gen.rename(columns={\"index\":\"Genre\" , \"genre\":\"No. of contents\"} , inplace = True)\n",
        "\n",
        "sns.barplot(data = gen, x=\"Genre\", y =\"No. of contents\"  )  # Boxplot\n",
        "plt.xticks(rotation = 90)\n",
        "plt.grid()\n",
        "plt.title(\" Top 5 Genre in United States\" , fontsize = 20 ,  loc=\"left\",\n",
        "          fontstyle='italic', color= 'black')\n",
        "plt.show()"
      ],
      "metadata": {
        "colab": {
          "base_uri": "https://localhost:8080/",
          "height": 416
        },
        "id": "KwUciYIrkoY2",
        "outputId": "75cc0557-6a3a-498c-d9da-70821c7ca5a5"
      },
      "execution_count": null,
      "outputs": [
        {
          "output_type": "display_data",
          "data": {
            "text/plain": [
              "<Figure size 432x288 with 1 Axes>"
            ],
            "image/png": "[encoded data removed]"
          },
          "metadata": {
            "needs_background": "light"
          }
        }
      ]
    },
    {
      "cell_type": "code",
      "source": [
        "# Top 5 Genre in India\n",
        "ind_df = df1[ (df1[\"country\"]==\"India\")]\n",
        "ind = ind_df['genre'].value_counts().head(5)\n",
        "ind = ind.reset_index()\n",
        "ind.rename(columns={\"index\":\"Genre\" , \"genre\":\"No. of contents\"} , inplace = True)\n",
        "\n",
        "sns.barplot(data = ind, x=\"Genre\", y =\"No. of contents\"  )  # Boxplot\n",
        "plt.xticks(rotation = 90)\n",
        "plt.grid()\n",
        "plt.title(\" Top 5 Genre in India\" , fontsize = 20 ,  loc=\"left\",\n",
        "          fontstyle='italic', color= 'black' )\n",
        "plt.show()"
      ],
      "metadata": {
        "colab": {
          "base_uri": "https://localhost:8080/",
          "height": 392
        },
        "id": "77mQtmXLlfHS",
        "outputId": "d11fbc70-7d5d-496d-85ea-70ca90cf5776"
      },
      "execution_count": null,
      "outputs": [
        {
          "output_type": "display_data",
          "data": {
            "text/plain": [
              "<Figure size 432x288 with 1 Axes>"
            ],
            "image/png": "[encoded data removed]"
          },
          "metadata": {
            "needs_background": "light"
          }
        }
      ]
    },
    {
      "cell_type": "markdown",
      "source": [
        "From both the plot we can see that United States prefer to watch Comedies and Drama genre where as in Indian, users prefer to watch International movies and  Drama genre"
      ],
      "metadata": {
        "id": "h7U7L5USl5KS"
      }
    },
    {
      "cell_type": "markdown",
      "source": [
        "**How has the number of movies and tv shows released per year changed over the last 20-30 years ?**"
      ],
      "metadata": {
        "id": "M4rMSxZ3CqBW"
      }
    },
    {
      "cell_type": "code",
      "source": [
        "# How has the number of movies released per year changed over the last 20-30 years?\n",
        "yyy = df2[ (df2['release_year'] > 1990)   &  (df2['type'] == \"Movie\")  ] #masking the year = last 30 years\n",
        "yyy\n",
        "\n",
        "sns.kdeplot(data=yyy, x=\"release_year\" , color = \"red\") # Kernel Density Estimation(KDE) shows the trend\n",
        "plt.grid()\n",
        "plt.title('Trend of Movies Released over last 30 Years',  fontsize = 15 ,  loc=\"left\",\n",
        "          fontstyle='italic', color= 'black' )\n",
        "plt.show()"
      ],
      "metadata": {
        "colab": {
          "base_uri": "https://localhost:8080/",
          "height": 298
        },
        "id": "0MF4KqUbk6Um",
        "outputId": "48d0ea5a-230d-4878-b4f5-11de9030037e"
      },
      "execution_count": null,
      "outputs": [
        {
          "output_type": "display_data",
          "data": {
            "text/plain": [
              "<Figure size 432x288 with 1 Axes>"
            ],
            "image/png": "[encoded data removed]"
          },
          "metadata": {
            "needs_background": "light"
          }
        }
      ]
    },
    {
      "cell_type": "markdown",
      "source": [
        "In the past 20 years number of movies per year was continuously increasing\n",
        "but the peak of higher released movies are in 2017-2018. There is a sudden fall after 2019 due to Covid-19."
      ],
      "metadata": {
        "id": "Vvp3FlKMDv-6"
      }
    },
    {
      "cell_type": "code",
      "source": [
        "# How has the number of shows released per year changed over the last 20-30 years?\n",
        "xxx = df2[ (df2['release_year'] > 1990)   &  (df2['type'] == \"TV Show\")  ]\n",
        "\n",
        "\n",
        "sns.kdeplot(data=xxx, x=\"release_year\" , color = \"red\") # Kernel Density Estimation(KDE) shows the trend\n",
        "plt.grid()\n",
        "plt.title('Trend of TV Shows Released over last 30 Years',  fontsize = 15 ,  loc=\"left\",\n",
        "          fontstyle='italic', color= 'black' )\n",
        "plt.show()"
      ],
      "metadata": {
        "colab": {
          "base_uri": "https://localhost:8080/",
          "height": 298
        },
        "id": "jyg5LrBHo9Ow",
        "outputId": "eb01516e-9724-4d01-c815-3fbd4d30875f"
      },
      "execution_count": null,
      "outputs": [
        {
          "output_type": "display_data",
          "data": {
            "text/plain": [
              "<Figure size 432x288 with 1 Axes>"
            ],
            "image/png": "[encoded data removed]"
          },
          "metadata": {
            "needs_background": "light"
          }
        }
      ]
    },
    {
      "cell_type": "markdown",
      "source": [
        "In the past 20 years number of tv per year was continuously increasing\n",
        "but the peak of higher released movies are in 2017-2018."
      ],
      "metadata": {
        "id": "IroIP86NDk_J"
      }
    },
    {
      "cell_type": "markdown",
      "source": [
        "**How is the growth rate between Movie and TV show by year**"
      ],
      "metadata": {
        "id": "PbxGvme2DMVz"
      }
    },
    {
      "cell_type": "code",
      "source": [
        "type_year = (df1.groupby(['type','release_year'])['title'].size()).reset_index() #grouping by type and release_year and counting on tittle\n",
        "fig = plt.figure(figsize=(16,5))\n",
        "sns.lineplot(data = type_year,x = 'release_year',y = 'title',hue = 'type',style = 'type',palette= palette,markers=True, dashes=False) #Line plot\n",
        "plt.title(\" Growth rate between Movie and TV show by year\" ,  fontsize = 20 ,  loc=\"left\",\n",
        "          fontstyle='italic', color= 'black')\n",
        "plt.ylabel(\"No of contents\")\n",
        "plt.show()"
      ],
      "metadata": {
        "colab": {
          "base_uri": "https://localhost:8080/",
          "height": 425
        },
        "id": "aEZdJp-baFMi",
        "outputId": "be3a30da-73d9-41ef-8ec7-80c88be7c054"
      },
      "execution_count": null,
      "outputs": [
        {
          "output_type": "stream",
          "name": "stderr",
          "text": [
            "<ipython-input-122-ce6537364d83>:5: UserWarning:\n",
            "\n",
            "The palette list has more values (4) than needed (2), which may not be intended.\n",
            "\n"
          ]
        },
        {
          "output_type": "display_data",
          "data": {
            "text/plain": [
              "<Figure size 1152x360 with 1 Axes>"
            ],
            "image/png": "[encoded data removed]"
          },
          "metadata": {
            "needs_background": "light"
          }
        }
      ]
    },
    {
      "cell_type": "markdown",
      "source": [
        "By the above Visualization we can infer that Performance of both Movie and TV Shows released over years has been nearly same."
      ],
      "metadata": {
        "id": "0bbci1xWaHr4"
      }
    },
    {
      "cell_type": "markdown",
      "source": [
        "**The year in which most of the movies/ tv shows were added to Netflix**"
      ],
      "metadata": {
        "id": "ksaPgNayEuzu"
      }
    },
    {
      "cell_type": "code",
      "source": [
        "data1 = df2.drop_duplicates(['title',\"director\"])\n",
        "data1[\"release_year\"].value_counts()"
      ],
      "metadata": {
        "colab": {
          "base_uri": "https://localhost:8080/"
        },
        "id": "jb7C8nvpqaUf",
        "outputId": "ece668d7-07ee-4dda-ac7a-5d4564949031"
      },
      "execution_count": null,
      "outputs": [
        {
          "output_type": "execute_result",
          "data": {
            "text/plain": [
              "2018    1290\n",
              "2017    1139\n",
              "2019    1138\n",
              "2020    1070\n",
              "2016    1013\n",
              "        ... \n",
              "1942       2\n",
              "1947       2\n",
              "1966       1\n",
              "1959       1\n",
              "1961       1\n",
              "Name: release_year, Length: 73, dtype: int64"
            ]
          },
          "metadata": {},
          "execution_count": 123
        }
      ]
    },
    {
      "cell_type": "markdown",
      "source": [
        "2018 has the maximum number of movies or tv shows released where as 1966,1959,1961 has least. 2017 and 2019 nearly had same amount of content released"
      ],
      "metadata": {
        "id": "86-tI45lupmB"
      }
    },
    {
      "cell_type": "markdown",
      "source": [
        "** What is the best time to launch a TV show or movies ?**"
      ],
      "metadata": {
        "id": "xp61_vcJFOl0"
      }
    },
    {
      "cell_type": "code",
      "source": [
        "data = df1[\"date_added\"].dt.strftime('%B')\n",
        "data = data.reset_index()\n",
        "mon = [\"January\", \"February\", \"March\", \"April\",\"May\", \"June\", \"July\", \"August\", \"September\", \"October\", \"November\", \"December\"]\n",
        "\n",
        "sns.countplot(data = data, x=\"date_added\" ,color='red', order=mon) # Dodget Bar Chart\n",
        "plt.title(\"Months in TV Shows or Movies were Added\" ,   fontsize = 15 ,  loc=\"left\",\n",
        "          fontstyle='italic', color= 'black')\n",
        "plt.xticks(rotation = 90)\n",
        "plt.show()"
      ],
      "metadata": {
        "colab": {
          "base_uri": "https://localhost:8080/",
          "height": 343
        },
        "id": "fluVY-YPweBd",
        "outputId": "486888d2-9599-4187-caeb-6ea661fd7f7b"
      },
      "execution_count": null,
      "outputs": [
        {
          "output_type": "display_data",
          "data": {
            "text/plain": [
              "<Figure size 432x288 with 1 Axes>"
            ],
            "image/png": "[encoded data removed]"
          },
          "metadata": {
            "needs_background": "light"
          }
        }
      ]
    },
    {
      "cell_type": "markdown",
      "source": [
        "July, December or October seem to be best time to launch a show.This can be because of festival or summer holidays. February isnt a great time to launch."
      ],
      "metadata": {
        "id": "t2z7n675FUgV"
      }
    },
    {
      "cell_type": "markdown",
      "source": [
        "**Top 5 Directors who worked in maximum number of movies & TV Shows**"
      ],
      "metadata": {
        "id": "LKEeBpdUNqLB"
      }
    },
    {
      "cell_type": "code",
      "source": [
        "movies = movies_df.drop_duplicates(['title',\"director\"])\n",
        "TV = TV_df.drop_duplicates(['title',\"director\"])\n",
        "movies['director'].value_counts()\n"
      ],
      "metadata": {
        "colab": {
          "base_uri": "https://localhost:8080/"
        },
        "id": "FFFXj4_YNcx9",
        "outputId": "d280892b-0b68-49af-f77d-64169e8ac1c6"
      },
      "execution_count": null,
      "outputs": [
        {
          "output_type": "execute_result",
          "data": {
            "text/plain": [
              "Jan Suter          31\n",
              "Raúl Campos        29\n",
              "Marcus Raboy       22\n",
              "Rajiv Chilaka      22\n",
              "Richard Bailey     18\n",
              "                   ..\n",
              "Frank W Chen        1\n",
              "Emmanuel Mouret     1\n",
              "Conor Allyn         1\n",
              "Nuel Naval          1\n",
              "Mark Henn           1\n",
              "Name: director, Length: 4775, dtype: int64"
            ]
          },
          "metadata": {},
          "execution_count": 125
        }
      ]
    },
    {
      "cell_type": "markdown",
      "source": [
        "Jan Suter is the most popular movie director in Netflix who has directed about 31 movies followed by Raul Campus, Marcus Raboy and Rajiv Chilaka. Rajiv Chilaka is an Indian director who has made around 22 movies in Children & Family Movies and Sports Movies genre.Director Jan Suter is well known for his Stand-Up Comedy with TV-MA, TV-14 rating."
      ],
      "metadata": {
        "id": "9eHqb5vnQ2Bd"
      }
    },
    {
      "cell_type": "code",
      "source": [
        "#5 most popular TV Show directors\n",
        "TV['director'].value_counts().head(5)"
      ],
      "metadata": {
        "colab": {
          "base_uri": "https://localhost:8080/"
        },
        "id": "E-0yplLlSzzH",
        "outputId": "71ae485a-c762-4730-a106-5ae128898af9"
      },
      "execution_count": null,
      "outputs": [
        {
          "output_type": "execute_result",
          "data": {
            "text/plain": [
              "Jay Oliva           659\n",
              "Tony Collingwood    198\n",
              "Mat King            101\n",
              "Ehtesham Uddin       89\n",
              "Michael Simon        87\n",
              "Name: director, dtype: int64"
            ]
          },
          "metadata": {},
          "execution_count": 126
        }
      ]
    },
    {
      "cell_type": "markdown",
      "source": [
        "Jay Oliva iis the most popular TV show director. Other popular directors are Tony Collingwood, Mat King and Ehtesham Uddin."
      ],
      "metadata": {
        "id": "2bxikRzzTQph"
      }
    },
    {
      "cell_type": "markdown",
      "source": [
        "**Top 5 Actors/Cast who worked in maximum number of movies or TV Show.**"
      ],
      "metadata": {
        "id": "TAFaZkUKUR2x"
      }
    },
    {
      "cell_type": "code",
      "source": [
        "# 5 most movie actor on Netflix\n",
        "\n",
        "movies = movies_df.drop_duplicates(['title',\"cast\"])\n",
        "tv = TV_df.drop_duplicates(['title',\"cast\"])\n",
        "movies['cast'].value_counts().head(5)"
      ],
      "metadata": {
        "colab": {
          "base_uri": "https://localhost:8080/"
        },
        "id": "KAD3CtZJUJHh",
        "outputId": "da8e0771-7f22-49cb-b843-4cf163c90762"
      },
      "execution_count": null,
      "outputs": [
        {
          "output_type": "execute_result",
          "data": {
            "text/plain": [
              "Craig Sechler       136\n",
              "El Negro Álvarez     70\n",
              "Anupam Kher          42\n",
              "Shah Rukh Khan       35\n",
              "Ben Ferencz          33\n",
              "Name: cast, dtype: int64"
            ]
          },
          "metadata": {},
          "execution_count": 127
        }
      ]
    },
    {
      "cell_type": "markdown",
      "source": [
        "Craig Sechler is the famous actor who has been featured in most of the movies.\n",
        "Shah Rukh Khan and Anupam Kher are most popular Indian actors featured on Netflix"
      ],
      "metadata": {
        "id": "9AZyfN0GUxNI"
      }
    },
    {
      "cell_type": "code",
      "source": [
        "TV['cast'].value_counts().head(5)  #most popular cast in Tvshows"
      ],
      "metadata": {
        "colab": {
          "base_uri": "https://localhost:8080/"
        },
        "id": "lruILDlbUwTm",
        "outputId": "fd5a0856-dd30-466b-de67-83c53d8574e2"
      },
      "execution_count": null,
      "outputs": [
        {
          "output_type": "execute_result",
          "data": {
            "text/plain": [
              "Morgan Freeman        38\n",
              "R. Kelly              36\n",
              "David Attenborough    29\n",
              "Marie Kondo           21\n",
              "Chris Bourke          21\n",
              "Name: cast, dtype: int64"
            ]
          },
          "metadata": {},
          "execution_count": 128
        }
      ]
    },
    {
      "cell_type": "markdown",
      "source": [
        "Morgan Freeman is most popular actor among TV shows followed by R.Kelly and David Attenborough"
      ],
      "metadata": {
        "id": "vNw_4Bc2VvmR"
      }
    },
    {
      "cell_type": "markdown",
      "source": [
        "**Analysis on Ratings of Movies or TV shows**"
      ],
      "metadata": {
        "id": "E6dUcA3fWOHb"
      }
    },
    {
      "cell_type": "code",
      "source": [
        "df2[\"rating\"].unique() #list of ratings given to any Tv show or movies"
      ],
      "metadata": {
        "colab": {
          "base_uri": "https://localhost:8080/"
        },
        "id": "3FCwzElIVujh",
        "outputId": "d6dad38e-dd5b-48eb-b2fd-2e917802741e"
      },
      "execution_count": null,
      "outputs": [
        {
          "output_type": "execute_result",
          "data": {
            "text/plain": [
              "array(['PG-13', 'TV-MA', 'PG', 'TV-14', 'TV-PG', 'TV-Y', 'TV-Y7', 'R',\n",
              "       'TV-G', 'G', 'NC-17', 'NR', 'TV-Y7-FV', 'UR'], dtype=object)"
            ]
          },
          "metadata": {},
          "execution_count": 129
        }
      ]
    },
    {
      "cell_type": "code",
      "source": [
        "#Top 5 ratings given to movies\n",
        "movies = movies_df.drop_duplicates(['show_id','title',\"director\",])\n",
        "tv = TV_df.drop_duplicates(['show_id','title',\"director\"])\n",
        "movies['rating'].value_counts().head(5)\n"
      ],
      "metadata": {
        "colab": {
          "base_uri": "https://localhost:8080/"
        },
        "id": "5QYSohIbWpXc",
        "outputId": "6c81935c-f074-495d-ac50-a8d4ce11499c"
      },
      "execution_count": null,
      "outputs": [
        {
          "output_type": "execute_result",
          "data": {
            "text/plain": [
              "TV-MA    2350\n",
              "TV-14    1548\n",
              "R         861\n",
              "TV-PG     603\n",
              "PG-13     524\n",
              "Name: rating, dtype: int64"
            ]
          },
          "metadata": {},
          "execution_count": 130
        }
      ]
    },
    {
      "cell_type": "code",
      "source": [
        "# Top 5 Ratings OF movies in US\n",
        "movies_us = df1[(df1['type'] == \"Movie\") & (df1['country'] == \"United States\")]\n",
        "tv_us = df1[(df1['type'] == \"TV Show\") & (df1['country'] == \"United States\")]\n",
        "\n",
        "movies_us = movies_us.drop_duplicates(['title'])\n",
        "tv_us = tv_us.drop_duplicates(['title'])\n",
        "movies_us['rating'].value_counts().tail(5)"
      ],
      "metadata": {
        "colab": {
          "base_uri": "https://localhost:8080/"
        },
        "id": "RK4EFgk4vIVH",
        "outputId": "e1d8407d-47fd-402e-de9f-9b1a5e139b25"
      },
      "execution_count": null,
      "outputs": [
        {
          "output_type": "execute_result",
          "data": {
            "text/plain": [
              "NR          41\n",
              "G           39\n",
              "TV-Y7-FV     2\n",
              "NC-17        1\n",
              "UR           1\n",
              "Name: rating, dtype: int64"
            ]
          },
          "metadata": {},
          "execution_count": 131
        }
      ]
    },
    {
      "cell_type": "markdown",
      "source": [
        "Most of the movies released by US are rated TV-MA followed by R.\n",
        "There hardly 2 movies with NC-17 and UR ratings."
      ],
      "metadata": {
        "id": "JOa1Nmt-vbOz"
      }
    },
    {
      "cell_type": "markdown",
      "source": [
        "**Analysis on tv shows and total seasons of each shows **"
      ],
      "metadata": {
        "id": "JX4_gzaMdZ1V"
      }
    },
    {
      "cell_type": "code",
      "source": [
        "tv = df1[df1['type'] == \"TV Show\"]\n",
        "tv = tv.drop_duplicates(['title'])\n",
        "tv[\"duration\"].value_counts(ascending = True)"
      ],
      "metadata": {
        "colab": {
          "base_uri": "https://localhost:8080/"
        },
        "id": "hta3KoRCnrEE",
        "outputId": "433a9f46-1513-4c5a-af5c-5201e2dc3b94"
      },
      "execution_count": null,
      "outputs": [
        {
          "output_type": "execute_result",
          "data": {
            "text/plain": [
              "17 Seasons       1\n",
              "15 Seasons       2\n",
              "12 Seasons       2\n",
              "11 Seasons       2\n",
              "13 Seasons       3\n",
              "10 Seasons       7\n",
              "9 Seasons        9\n",
              "8 Seasons       17\n",
              "7 Seasons       23\n",
              "6 Seasons       33\n",
              "5 Seasons       65\n",
              "4 Seasons       95\n",
              "3 Seasons      197\n",
              "2 Seasons      420\n",
              "1 Season      1719\n",
              "Name: duration, dtype: int64"
            ]
          },
          "metadata": {},
          "execution_count": 132
        }
      ]
    },
    {
      "cell_type": "code",
      "source": [
        "plt.figure(figsize=(15,7)) #ploting a count plot to show Tv seasons analysis\n",
        "sns.countplot(data = tv , x = \"duration\",color = 'red')\n",
        "plt.title(\"Seasons v/s No of shows\",  fontsize = 20 ,  loc=\"left\",\n",
        "          fontstyle='italic', color= 'black' ) #countplot\n",
        "plt.xlabel(\"Seasons\")\n",
        "plt.ylabel(\"No of tv shows\")\n",
        "plt.xticks(rotation = 90)\n",
        "plt.show()"
      ],
      "metadata": {
        "colab": {
          "base_uri": "https://localhost:8080/",
          "height": 511
        },
        "id": "30wjX-hZorEU",
        "outputId": "10c9b157-0753-431e-878d-2b4bc25c592a"
      },
      "execution_count": null,
      "outputs": [
        {
          "output_type": "display_data",
          "data": {
            "text/plain": [
              "<Figure size 1080x504 with 1 Axes>"
            ],
            "image/png": "[encoded data removed]"
          },
          "metadata": {
            "needs_background": "light"
          }
        }
      ]
    },
    {
      "cell_type": "markdown",
      "source": [
        "We can see that there are 1719 TV shows with only 1 season and 420 with 2 seasons each.There are shows having 13,15 or 17 seasons.We can infer that more the season , most liked or popular show it is.\n",
        "The Grey's Anatomy is the romantic and medical drama with 17 seasons being the most liked one directed by Jay Oliva ."
      ],
      "metadata": {
        "id": "ZD3gVPqqnp_o"
      }
    },
    {
      "cell_type": "markdown",
      "source": [
        "**Does Netflix has more focus on TV Shows than movies in recent years**"
      ],
      "metadata": {
        "id": "3DzyrAbfgiKs"
      }
    },
    {
      "cell_type": "code",
      "source": [
        "data = df1[ (df1['date_added'].dt.year > 2014) ] #extracting data from 2014 to 2021\n",
        "data['date_added'] = data['date_added'].dt.year  #extracting year from date_added column\n",
        "data = data.drop_duplicates(\"title\")\n",
        "\n",
        "sns.countplot(data = data, x='date_added' , hue=\"type\") # Dodget Bar Chart\n",
        "plt.title(\"TV Shows V/S Movies\" , fontsize = 20 ,  loc=\"left\",\n",
        "          fontstyle='italic' , color=\"black\")\n",
        "plt.grid()\n",
        "plt.show()"
      ],
      "metadata": {
        "colab": {
          "base_uri": "https://localhost:8080/",
          "height": 301
        },
        "id": "8Cj70j_0gb38",
        "outputId": "24501cd2-79e3-43af-f269-e82fdfe123fe"
      },
      "execution_count": null,
      "outputs": [
        {
          "output_type": "display_data",
          "data": {
            "text/plain": [
              "<Figure size 432x288 with 1 Axes>"
            ],
            "image/png": "[encoded data removed]"
          },
          "metadata": {
            "needs_background": "light"
          }
        }
      ]
    },
    {
      "cell_type": "markdown",
      "source": [
        "As we can see that Netflix is more focused on Movies than Tv shows.There is steep increase in no of movies added from 2014 to 2019. This may be because of Covid-19 pandemic as there was lockdown over countries which obviously affected the production of movies.As of 2021 Netflix is focused on both Tv shows and Movies equally. Dominance of movies has been reduced in latest years"
      ],
      "metadata": {
        "id": "SB_7Tsqekrvi"
      }
    },
    {
      "cell_type": "markdown",
      "source": [
        "**Correlation between date added and released year of Movies and Tv shows using pairplot and heatmap**"
      ],
      "metadata": {
        "id": "oBtJ6yljqFb_"
      }
    },
    {
      "cell_type": "code",
      "source": [
        "# Relation ship between date_added and release_year using pair plot\n",
        "data = df1[[\"date_added\",\"release_year\",'title']]\n",
        "data = data.drop_duplicates('title')\n",
        "data = data[[\"date_added\",\"release_year\"]]\n",
        "data[\"date_added\"] = data[\"date_added\"].dt.year\n",
        "\n",
        "sns.pairplot(data[[\"date_added\",\"release_year\"]])\n",
        "plt.show()\n"
      ],
      "metadata": {
        "colab": {
          "base_uri": "https://localhost:8080/",
          "height": 374
        },
        "id": "MAxTEZ1Tn0jX",
        "outputId": "e16f7c83-3761-4481-f489-1ed1e7feb50b"
      },
      "execution_count": null,
      "outputs": [
        {
          "output_type": "display_data",
          "data": {
            "text/plain": [
              "<Figure size 360x360 with 6 Axes>"
            ],
            "image/png": "[encoded data removed]"
          },
          "metadata": {
            "needs_background": "light"
          }
        }
      ]
    },
    {
      "cell_type": "code",
      "source": [
        "# Heat map\n",
        "data.info()\n",
        "import plotly.figure_factory as ff\n",
        "\n",
        "corrs = data.corr()\n",
        "fig_heatmap = ff.create_annotated_heatmap(\n",
        "    z=corrs.values,\n",
        "    x=list(corrs.columns),\n",
        "    y=list(corrs.index),\n",
        "    annotation_text=corrs.round(2).values,\n",
        "    showscale=True)\n",
        "fig_heatmap.update_layout(title= 'Correlation of whole Data',\n",
        "                          plot_bgcolor='#2d3035', paper_bgcolor='#2d3035',\n",
        "                          title_font=dict(size=10, color='#a5a7ab', family=\"Muli, sans-serif\"),\n",
        "                          font=dict(color='#8a8d93'))"
      ],
      "metadata": {
        "colab": {
          "base_uri": "https://localhost:8080/",
          "height": 698
        },
        "id": "trm3Kz3mrGSe",
        "outputId": "2bc15d45-97a1-4667-92be-d9a7ec2d2336"
      },
      "execution_count": null,
      "outputs": [
        {
          "output_type": "stream",
          "name": "stdout",
          "text": [
            "<class 'pandas.core.frame.DataFrame'>\n",
            "Int64Index: 8704 entries, 0 to 8703\n",
            "Data columns (total 2 columns):\n",
            " #   Column        Non-Null Count  Dtype  \n",
            "---  ------        --------------  -----  \n",
            " 0   date_added    8694 non-null   float64\n",
            " 1   release_year  8704 non-null   int64  \n",
            "dtypes: float64(1), int64(1)\n",
            "memory usage: 204.0 KB\n"
          ]
        },
        {
          "output_type": "display_data",
          "data": {
            "text/html": [
              "<html>\n",
              "<head><meta charset=\"utf-8\" /></head>\n",
              "<body>\n",
              "    <div>            <script src=\"https://cdnjs.cloudflare.com/ajax/libs/mathjax/2.7.5/MathJax.js?config=TeX-AMS-MML_SVG\"></script><script type=\"text/javascript\">if (window.MathJax && window.MathJax.Hub && window.MathJax.Hub.Config) {window.MathJax.Hub.Config({SVG: {font: \"STIX-Web\"}});}</script>                <script type=\"text/javascript\">window.PlotlyConfig = {MathJaxConfig: 'local'};</script>\n",
              "        <script src=\"https://cdn.plot.ly/plotly-2.18.2.min.js\"></script>                <div id=\"7d57896e-edde-4aa3-9672-c64da6c3607d\" class=\"plotly-graph-div\" style=\"height:525px; width:100%;\"></div>            <script type=\"text/javascript\">                                    window.PLOTLYENV=window.PLOTLYENV || {};                                    if (document.getElementById(\"7d57896e-edde-4aa3-9672-c64da6c3607d\")) {                    Plotly.newPlot(                        \"7d57896e-edde-4aa3-9672-c64da6c3607d\",                        [{\"colorscale\":[[0.0,\"#0d0887\"],[0.1111111111111111,\"#46039f\"],[0.2222222222222222,\"#7201a8\"],[0.3333333333333333,\"#9c179e\"],[0.4444444444444444,\"#bd3786\"],[0.5555555555555556,\"#d8576b\"],[0.6666666666666666,\"#ed7953\"],[0.7777777777777778,\"#fb9f3a\"],[0.8888888888888888,\"#fdca26\"],[1.0,\"#f0f921\"]],\"reversescale\":false,\"showscale\":true,\"x\":[\"date_added\",\"release_year\"],\"y\":[\"date_added\",\"release_year\"],\"z\":[[1.0,0.14898584136203233],[0.14898584136203233,1.0]],\"type\":\"heatmap\"}],                        {\"annotations\":[{\"font\":{\"color\":\"#000000\"},\"showarrow\":false,\"text\":\"1.0\",\"x\":\"date_added\",\"xref\":\"x\",\"y\":\"date_added\",\"yref\":\"y\"},{\"font\":{\"color\":\"#FFFFFF\"},\"showarrow\":false,\"text\":\"0.15\",\"x\":\"release_year\",\"xref\":\"x\",\"y\":\"date_added\",\"yref\":\"y\"},{\"font\":{\"color\":\"#FFFFFF\"},\"showarrow\":false,\"text\":\"0.15\",\"x\":\"date_added\",\"xref\":\"x\",\"y\":\"release_year\",\"yref\":\"y\"},{\"font\":{\"color\":\"#000000\"},\"showarrow\":false,\"text\":\"1.0\",\"x\":\"release_year\",\"xref\":\"x\",\"y\":\"release_year\",\"yref\":\"y\"}],\"xaxis\":{\"dtick\":1,\"gridcolor\":\"rgb(0, 0, 0)\",\"side\":\"top\",\"ticks\":\"\"},\"yaxis\":{\"dtick\":1,\"ticks\":\"\",\"ticksuffix\":\"  \"},\"template\":{\"data\":{\"histogram2dcontour\":[{\"type\":\"histogram2dcontour\",\"colorbar\":{\"outlinewidth\":0,\"ticks\":\"\"},\"colorscale\":[[0.0,\"#0d0887\"],[0.1111111111111111,\"#46039f\"],[0.2222222222222222,\"#7201a8\"],[0.3333333333333333,\"#9c179e\"],[0.4444444444444444,\"#bd3786\"],[0.5555555555555556,\"#d8576b\"],[0.6666666666666666,\"#ed7953\"],[0.7777777777777778,\"#fb9f3a\"],[0.8888888888888888,\"#fdca26\"],[1.0,\"#f0f921\"]]}],\"choropleth\":[{\"type\":\"choropleth\",\"colorbar\":{\"outlinewidth\":0,\"ticks\":\"\"}}],\"histogram2d\":[{\"type\":\"histogram2d\",\"colorbar\":{\"outlinewidth\":0,\"ticks\":\"\"},\"colorscale\":[[0.0,\"#0d0887\"],[0.1111111111111111,\"#46039f\"],[0.2222222222222222,\"#7201a8\"],[0.3333333333333333,\"#9c179e\"],[0.4444444444444444,\"#bd3786\"],[0.5555555555555556,\"#d8576b\"],[0.6666666666666666,\"#ed7953\"],[0.7777777777777778,\"#fb9f3a\"],[0.8888888888888888,\"#fdca26\"],[1.0,\"#f0f921\"]]}],\"heatmap\":[{\"type\":\"heatmap\",\"colorbar\":{\"outlinewidth\":0,\"ticks\":\"\"},\"colorscale\":[[0.0,\"#0d0887\"],[0.1111111111111111,\"#46039f\"],[0.2222222222222222,\"#7201a8\"],[0.3333333333333333,\"#9c179e\"],[0.4444444444444444,\"#bd3786\"],[0.5555555555555556,\"#d8576b\"],[0.6666666666666666,\"#ed7953\"],[0.7777777777777778,\"#fb9f3a\"],[0.8888888888888888,\"#fdca26\"],[1.0,\"#f0f921\"]]}],\"heatmapgl\":[{\"type\":\"heatmapgl\",\"colorbar\":{\"outlinewidth\":0,\"ticks\":\"\"},\"colorscale\":[[0.0,\"#0d0887\"],[0.1111111111111111,\"#46039f\"],[0.2222222222222222,\"#7201a8\"],[0.3333333333333333,\"#9c179e\"],[0.4444444444444444,\"#bd3786\"],[0.5555555555555556,\"#d8576b\"],[0.6666666666666666,\"#ed7953\"],[0.7777777777777778,\"#fb9f3a\"],[0.8888888888888888,\"#fdca26\"],[1.0,\"#f0f921\"]]}],\"contourcarpet\":[{\"type\":\"contourcarpet\",\"colorbar\":{\"outlinewidth\":0,\"ticks\":\"\"}}],\"contour\":[{\"type\":\"contour\",\"colorbar\":{\"outlinewidth\":0,\"ticks\":\"\"},\"colorscale\":[[0.0,\"#0d0887\"],[0.1111111111111111,\"#46039f\"],[0.2222222222222222,\"#7201a8\"],[0.3333333333333333,\"#9c179e\"],[0.4444444444444444,\"#bd3786\"],[0.5555555555555556,\"#d8576b\"],[0.6666666666666666,\"#ed7953\"],[0.7777777777777778,\"#fb9f3a\"],[0.8888888888888888,\"#fdca26\"],[1.0,\"#f0f921\"]]}],\"surface\":[{\"type\":\"surface\",\"colorbar\":{\"outlinewidth\":0,\"ticks\":\"\"},\"colorscale\":[[0.0,\"#0d0887\"],[0.1111111111111111,\"#46039f\"],[0.2222222222222222,\"#7201a8\"],[0.3333333333333333,\"#9c179e\"],[0.4444444444444444,\"#bd3786\"],[0.5555555555555556,\"#d8576b\"],[0.6666666666666666,\"#ed7953\"],[0.7777777777777778,\"#fb9f3a\"],[0.8888888888888888,\"#fdca26\"],[1.0,\"#f0f921\"]]}],\"mesh3d\":[{\"type\":\"mesh3d\",\"colorbar\":{\"outlinewidth\":0,\"ticks\":\"\"}}],\"scatter\":[{\"fillpattern\":{\"fillmode\":\"overlay\",\"size\":10,\"solidity\":0.2},\"type\":\"scatter\"}],\"parcoords\":[{\"type\":\"parcoords\",\"line\":{\"colorbar\":{\"outlinewidth\":0,\"ticks\":\"\"}}}],\"scatterpolargl\":[{\"type\":\"scatterpolargl\",\"marker\":{\"colorbar\":{\"outlinewidth\":0,\"ticks\":\"\"}}}],\"bar\":[{\"error_x\":{\"color\":\"#2a3f5f\"},\"error_y\":{\"color\":\"#2a3f5f\"},\"marker\":{\"line\":{\"color\":\"#E5ECF6\",\"width\":0.5},\"pattern\":{\"fillmode\":\"overlay\",\"size\":10,\"solidity\":0.2}},\"type\":\"bar\"}],\"scattergeo\":[{\"type\":\"scattergeo\",\"marker\":{\"colorbar\":{\"outlinewidth\":0,\"ticks\":\"\"}}}],\"scatterpolar\":[{\"type\":\"scatterpolar\",\"marker\":{\"colorbar\":{\"outlinewidth\":0,\"ticks\":\"\"}}}],\"histogram\":[{\"marker\":{\"pattern\":{\"fillmode\":\"overlay\",\"size\":10,\"solidity\":0.2}},\"type\":\"histogram\"}],\"scattergl\":[{\"type\":\"scattergl\",\"marker\":{\"colorbar\":{\"outlinewidth\":0,\"ticks\":\"\"}}}],\"scatter3d\":[{\"type\":\"scatter3d\",\"line\":{\"colorbar\":{\"outlinewidth\":0,\"ticks\":\"\"}},\"marker\":{\"colorbar\":{\"outlinewidth\":0,\"ticks\":\"\"}}}],\"scattermapbox\":[{\"type\":\"scattermapbox\",\"marker\":{\"colorbar\":{\"outlinewidth\":0,\"ticks\":\"\"}}}],\"scatterternary\":[{\"type\":\"scatterternary\",\"marker\":{\"colorbar\":{\"outlinewidth\":0,\"ticks\":\"\"}}}],\"scattercarpet\":[{\"type\":\"scattercarpet\",\"marker\":{\"colorbar\":{\"outlinewidth\":0,\"ticks\":\"\"}}}],\"carpet\":[{\"aaxis\":{\"endlinecolor\":\"#2a3f5f\",\"gridcolor\":\"white\",\"linecolor\":\"white\",\"minorgridcolor\":\"white\",\"startlinecolor\":\"#2a3f5f\"},\"baxis\":{\"endlinecolor\":\"#2a3f5f\",\"gridcolor\":\"white\",\"linecolor\":\"white\",\"minorgridcolor\":\"white\",\"startlinecolor\":\"#2a3f5f\"},\"type\":\"carpet\"}],\"table\":[{\"cells\":{\"fill\":{\"color\":\"#EBF0F8\"},\"line\":{\"color\":\"white\"}},\"header\":{\"fill\":{\"color\":\"#C8D4E3\"},\"line\":{\"color\":\"white\"}},\"type\":\"table\"}],\"barpolar\":[{\"marker\":{\"line\":{\"color\":\"#E5ECF6\",\"width\":0.5},\"pattern\":{\"fillmode\":\"overlay\",\"size\":10,\"solidity\":0.2}},\"type\":\"barpolar\"}],\"pie\":[{\"automargin\":true,\"type\":\"pie\"}]},\"layout\":{\"autotypenumbers\":\"strict\",\"colorway\":[\"#636efa\",\"#EF553B\",\"#00cc96\",\"#ab63fa\",\"#FFA15A\",\"#19d3f3\",\"#FF6692\",\"#B6E880\",\"#FF97FF\",\"#FECB52\"],\"font\":{\"color\":\"#2a3f5f\"},\"hovermode\":\"closest\",\"hoverlabel\":{\"align\":\"left\"},\"paper_bgcolor\":\"white\",\"plot_bgcolor\":\"#E5ECF6\",\"polar\":{\"bgcolor\":\"#E5ECF6\",\"angularaxis\":{\"gridcolor\":\"white\",\"linecolor\":\"white\",\"ticks\":\"\"},\"radialaxis\":{\"gridcolor\":\"white\",\"linecolor\":\"white\",\"ticks\":\"\"}},\"ternary\":{\"bgcolor\":\"#E5ECF6\",\"aaxis\":{\"gridcolor\":\"white\",\"linecolor\":\"white\",\"ticks\":\"\"},\"baxis\":{\"gridcolor\":\"white\",\"linecolor\":\"white\",\"ticks\":\"\"},\"caxis\":{\"gridcolor\":\"white\",\"linecolor\":\"white\",\"ticks\":\"\"}},\"coloraxis\":{\"colorbar\":{\"outlinewidth\":0,\"ticks\":\"\"}},\"colorscale\":{\"sequential\":[[0.0,\"#0d0887\"],[0.1111111111111111,\"#46039f\"],[0.2222222222222222,\"#7201a8\"],[0.3333333333333333,\"#9c179e\"],[0.4444444444444444,\"#bd3786\"],[0.5555555555555556,\"#d8576b\"],[0.6666666666666666,\"#ed7953\"],[0.7777777777777778,\"#fb9f3a\"],[0.8888888888888888,\"#fdca26\"],[1.0,\"#f0f921\"]],\"sequentialminus\":[[0.0,\"#0d0887\"],[0.1111111111111111,\"#46039f\"],[0.2222222222222222,\"#7201a8\"],[0.3333333333333333,\"#9c179e\"],[0.4444444444444444,\"#bd3786\"],[0.5555555555555556,\"#d8576b\"],[0.6666666666666666,\"#ed7953\"],[0.7777777777777778,\"#fb9f3a\"],[0.8888888888888888,\"#fdca26\"],[1.0,\"#f0f921\"]],\"diverging\":[[0,\"#8e0152\"],[0.1,\"#c51b7d\"],[0.2,\"#de77ae\"],[0.3,\"#f1b6da\"],[0.4,\"#fde0ef\"],[0.5,\"#f7f7f7\"],[0.6,\"#e6f5d0\"],[0.7,\"#b8e186\"],[0.8,\"#7fbc41\"],[0.9,\"#4d9221\"],[1,\"#276419\"]]},\"xaxis\":{\"gridcolor\":\"white\",\"linecolor\":\"white\",\"ticks\":\"\",\"title\":{\"standoff\":15},\"zerolinecolor\":\"white\",\"automargin\":true,\"zerolinewidth\":2},\"yaxis\":{\"gridcolor\":\"white\",\"linecolor\":\"white\",\"ticks\":\"\",\"title\":{\"standoff\":15},\"zerolinecolor\":\"white\",\"automargin\":true,\"zerolinewidth\":2},\"scene\":{\"xaxis\":{\"backgroundcolor\":\"#E5ECF6\",\"gridcolor\":\"white\",\"linecolor\":\"white\",\"showbackground\":true,\"ticks\":\"\",\"zerolinecolor\":\"white\",\"gridwidth\":2},\"yaxis\":{\"backgroundcolor\":\"#E5ECF6\",\"gridcolor\":\"white\",\"linecolor\":\"white\",\"showbackground\":true,\"ticks\":\"\",\"zerolinecolor\":\"white\",\"gridwidth\":2},\"zaxis\":{\"backgroundcolor\":\"#E5ECF6\",\"gridcolor\":\"white\",\"linecolor\":\"white\",\"showbackground\":true,\"ticks\":\"\",\"zerolinecolor\":\"white\",\"gridwidth\":2}},\"shapedefaults\":{\"line\":{\"color\":\"#2a3f5f\"}},\"annotationdefaults\":{\"arrowcolor\":\"#2a3f5f\",\"arrowhead\":0,\"arrowwidth\":1},\"geo\":{\"bgcolor\":\"white\",\"landcolor\":\"#E5ECF6\",\"subunitcolor\":\"white\",\"showland\":true,\"showlakes\":true,\"lakecolor\":\"white\"},\"title\":{\"x\":0.05},\"mapbox\":{\"style\":\"light\"}}},\"title\":{\"text\":\"Correlation of whole Data\",\"font\":{\"size\":10,\"color\":\"#a5a7ab\",\"family\":\"Muli, sans-serif\"}},\"font\":{\"color\":\"#8a8d93\"},\"plot_bgcolor\":\"#2d3035\",\"paper_bgcolor\":\"#2d3035\"},                        {\"responsive\": true}                    ).then(function(){\n",
              "                            \n",
              "var gd = document.getElementById('7d57896e-edde-4aa3-9672-c64da6c3607d');\n",
              "var x = new MutationObserver(function (mutations, observer) {{\n",
              "        var display = window.getComputedStyle(gd).display;\n",
              "        if (!display || display === 'none') {{\n",
              "            console.log([gd, 'removed!']);\n",
              "            Plotly.purge(gd);\n",
              "            observer.disconnect();\n",
              "        }}\n",
              "}});\n",
              "\n",
              "// Listen for the removal of the full notebook cells\n",
              "var notebookContainer = gd.closest('#notebook-container');\n",
              "if (notebookContainer) {{\n",
              "    x.observe(notebookContainer, {childList: true});\n",
              "}}\n",
              "\n",
              "// Listen for the clearing of the current output cell\n",
              "var outputEl = gd.closest('.output');\n",
              "if (outputEl) {{\n",
              "    x.observe(outputEl, {childList: true});\n",
              "}}\n",
              "\n",
              "                        })                };                            </script>        </div>\n",
              "</body>\n",
              "</html>"
            ]
          },
          "metadata": {}
        }
      ]
    },
    {
      "cell_type": "markdown",
      "source": [
        "# **Business Insights**\n",
        "1) There are 6131 movies and 2676 TV Shows in the netflix dataframe. Hence no of movies are prefered way more then TV Shows.\n",
        "\n",
        "2) There are around 20 genres present in the data, in which Drama and International movies are the highest and popular.\n",
        "\n",
        "3) The least liked genre among the users are Faith and Spirituality, Stand-Up Comedy content on Netflix.\n",
        "\n",
        "4) We can say that viewers prefer movies over Tv shows in US and India. But its the reverse in case of South Korea, Taiwan, Japan.The South Asian countries prefer more TV shows and should be produced in order to engage the customer.\n",
        "\n",
        "5) Top 2 genre among movies in USA - 'Comedies and Dramas' are top 2 popular in USA\n",
        "\n",
        "6) Top 2 genre among TV Shows in USA : 'TV Dramas and TV Comedies'\n",
        "\n",
        "7) Top 2 genre among movies in India :'International Movies and Dramas'\n",
        "\n",
        "8) Top 2 genre among TV shows in India :'International TV Shows and TV Dramas'\n",
        "\n",
        "9) There is boot in number of movies released from 1990 to 2018 over last 30 years.The sudden fall in movies may be because of covid situation worldwide.\n",
        "Its the same trend for TV Shows as well.\n",
        "\n",
        "10) There are 1290 movies/TV Shows added in 2018 year on Netflix.\n",
        "\n",
        "11) Top 2 months for adding higher number of movies or TV shows: 'July and December'\n",
        "\n",
        "12) Jan Suter is the top director , who hav directed 31 movies on Netflix. He is well known for his Stand-Up Comedy with TV-MA, TV-14 rating\n",
        "\n",
        "13) Jay Oliva is the most popular director among the top 10 TV shows in genres like classic and Cult TV Shows.\n",
        "\n",
        "14) Top 5 movie directors having the range from 87-659 for maximum number of tv shows where they worked for.\n",
        "\n",
        "15) Actor : Craig Sechler have worked in 172 movies followed by El Negro Álvarez and Ben Ferencz  \n",
        "\n",
        "16) Most worked Actor in TV Shows is Morgan Freeman followed by R. Kelly and David Attenborough\n",
        "\n",
        "17) Majority of TV Shows and Movies have got TV-MA ratings by viewers.\n",
        "\n",
        "18) The GREY'S ANATOMY series having 17 seasons is the most romantic popular TV show directed by Jay Oliva.\n",
        "\n",
        "19) Top 2nd Show with 15 seasons is very popular show from United States & Cananda and has Rating:TV-14.This TV show falls in Classic & Cult TV, TV Action & Adventure and this show is directed by Phil Sgriccia\n",
        "\n",
        "20) Rajiv Chilaka is an Indian director who has made around 22 movies in Children & Family Movies and Sports Movies genre.\n",
        "\n",
        "21) Indian actors like Sharukh khan and Anupam Kher are listed under most promising actors\n"
      ],
      "metadata": {
        "id": "ZFLfxE1sztYo"
      }
    },
    {
      "cell_type": "markdown",
      "source": [
        "# **Recommendations**\n",
        "1) Users are more interested in Dramas, International movies ,Comedies irrespective of country therefore more such content will benefit Netflix in long run.\n",
        "\n",
        "2) From most popular genre we can see that viewers concentrate on entertainment factor then science or social related content. Hence releasing more of Comedies, Romantic, International shows can help in increase no of viewers.\n",
        "\n",
        "3) Most of viewers are youth therefore this platform can help society in getting social change by investing on content related to daily-life crisis, LGBTQ, Poverty,etc\n",
        "\n",
        "4) Festivals and Holidays are the best time to launch shows with respect to the location so that producer can gain much revenue. Keeping this in mind, User's engagement on platform can be increased and also help in getting new customers\n",
        "\n",
        "5) Netflix needs to have different stratergy in terms of producing content for western countries and south asian countries\n",
        "\n",
        "6) Drama is the most popular genre worldwide.So, Netflix can always rely on Drama type content for increasing market share and its growth in different  countries.\n",
        "\n",
        "7) If nextflix wants low budget and young talent then low experienced cast are the most suitable.\n",
        "\n",
        "8) Following are the top 5 experienced directors in the field of movies: Jan Suter, Raúl Campos, Marcus Raboy, Rajiv Chilaka and Richard Bailey. So, while creating a new content these are the best directors to select in terms of experience and popularity.\n",
        "\n",
        "9) TV-MA is highly rated content which means mature content is more.\n",
        "\n",
        "10) There was slight drop in content due to Covid-19 but company was performing well as people had more time to spend watching shows during lockdown.\n",
        "\n",
        "11) Netflix has made a remarkable market share in movies but there is a huge scope for TV shows as well.they are trending. Impact of South Asian culture , KPop has made Tv dramas trending..So Netflix can invest more on them.\n",
        "\n",
        "\n",
        "\n",
        "\n",
        "\n"
      ],
      "metadata": {
        "id": "s0OkJZXBI0Bp"
      }
    }
  ]
}